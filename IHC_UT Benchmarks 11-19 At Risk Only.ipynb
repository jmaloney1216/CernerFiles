{
 "cells": [
  {
   "cell_type": "code",
   "execution_count": 1,
   "metadata": {
    "collapsed": true
   },
   "outputs": [],
   "source": [
    "# Imports"
   ]
  },
  {
   "cell_type": "code",
   "execution_count": 9,
   "metadata": {
    "collapsed": true
   },
   "outputs": [],
   "source": [
    "from Ian import client_functions, pd, np, clusters, equal_in, Benchmarks"
   ]
  },
  {
   "cell_type": "code",
   "execution_count": 10,
   "metadata": {
    "collapsed": true
   },
   "outputs": [],
   "source": [
    "pd.options.display.max_columns=200\n",
    "pd.options.display.max_rows=1000\n",
    "pd.options.display.max_colwidth=500"
   ]
  },
  {
   "cell_type": "markdown",
   "metadata": {},
   "source": [
    "# 1. Connection"
   ]
  },
  {
   "cell_type": "code",
   "execution_count": 11,
   "metadata": {
    "collapsed": true
   },
   "outputs": [],
   "source": [
    "user = 'JM025575'\n",
    "password = 'Bonniemarie120288!'\n",
    "client = \"IHC_UT\"\n",
    "i = client_functions(**{\n",
    "    'host' : clusters('Deer'),\n",
    "    'user' : f'{user}',\n",
    "    'password' : f'{password}',\n",
    "    'schema' : 'INTERMOUNTAIN',\n",
    "    'population_id' : 'e9a85078-ff1f-40b0-9894-402e56c4b679'\n",
    "})"
   ]
  },
  {
   "cell_type": "markdown",
   "metadata": {},
   "source": [
    "### Test"
   ]
  },
  {
   "cell_type": "code",
   "execution_count": 12,
   "metadata": {},
   "outputs": [
    {
     "data": {
      "text/html": [
       "<div>\n",
       "<style>\n",
       "    .dataframe thead tr:only-child th {\n",
       "        text-align: right;\n",
       "    }\n",
       "\n",
       "    .dataframe thead th {\n",
       "        text-align: left;\n",
       "    }\n",
       "\n",
       "    .dataframe tbody tr th {\n",
       "        vertical-align: top;\n",
       "    }\n",
       "</style>\n",
       "<table border=\"1\" class=\"dataframe\">\n",
       "  <thead>\n",
       "    <tr style=\"text-align: right;\">\n",
       "      <th></th>\n",
       "      <th>GETDATE</th>\n",
       "    </tr>\n",
       "  </thead>\n",
       "  <tbody>\n",
       "    <tr>\n",
       "      <th>0</th>\n",
       "      <td>2019-11-22 10:26:19.124916</td>\n",
       "    </tr>\n",
       "  </tbody>\n",
       "</table>\n",
       "</div>"
      ],
      "text/plain": [
       "                     GETDATE\n",
       "0 2019-11-22 10:26:19.124916"
      ]
     },
     "execution_count": 12,
     "metadata": {},
     "output_type": "execute_result"
    }
   ],
   "source": [
    "# test connection works (should return current date)\n",
    "i.query_df(f\"\"\"\n",
    "SELECT GETDATE()\n",
    "\"\"\")"
   ]
  },
  {
   "cell_type": "markdown",
   "metadata": {},
   "source": [
    "## 2.Query Data"
   ]
  },
  {
   "cell_type": "code",
   "execution_count": 13,
   "metadata": {
    "collapsed": true
   },
   "outputs": [],
   "source": [
    "# for 3 months in specified querter, put 1st date of each into an array\n",
    "#year_quarter = '2019Q2'\n",
    "dates = pd.DatetimeIndex(['2019-09-01', '2019-10-01', '2019-11-01'])"
   ]
  },
  {
   "cell_type": "code",
   "execution_count": 14,
   "metadata": {},
   "outputs": [
    {
     "data": {
      "text/plain": [
       "DatetimeIndex(['2019-09-01', '2019-10-01', '2019-11-01'], dtype='datetime64[ns]', freq=None)"
      ]
     },
     "execution_count": 14,
     "metadata": {},
     "output_type": "execute_result"
    }
   ],
   "source": [
    "dates"
   ]
  },
  {
   "cell_type": "code",
   "execution_count": 15,
   "metadata": {
    "collapsed": true
   },
   "outputs": [],
   "source": [
    "# specify the registries of interest\n",
    "registries = [\n",
    "    'atrisk'\n",
    "]"
   ]
  },
  {
   "cell_type": "code",
   "execution_count": 16,
   "metadata": {},
   "outputs": [],
   "source": [
    "# create Benchmarks query\n",
    "#scorable>False dashboard_histories table, True>scorecard_trending\n",
    "q = Benchmarks.query(schema=i.schema, \n",
    "                     dream_dates=dates, \n",
    "                     scorable = False,  \n",
    "                     registries=registries)"
   ]
  },
  {
   "cell_type": "code",
   "execution_count": 17,
   "metadata": {},
   "outputs": [
    {
     "name": "stdout",
     "output_type": "stream",
     "text": [
      "\n",
      "        SELECT DISTINCT\n",
      "            'INTERMOUNTAIN' AS client,\n",
      "            q.*\n",
      "        FROM\n",
      "            (\n",
      "            SELECT DISTINCT\n",
      "                st.created_dt_tm AS date,\n",
      "                m.fully_qualified_name,\n",
      "                st.dashboard_history_personnel_id AS prsnl_id,\n",
      "                m.composite_percentage_met_count AS numerator,\n",
      "                (m.composite_percentage_met_count + m.composite_percentage_not_met_count) AS denominator\n",
      "            FROM\n",
      "                INTERMOUNTAIN.PH_F_Dashboard_History_Trending_Registry_Measure m\n",
      "                JOIN INTERMOUNTAIN.PH_F_Dashboard_History_Trending_Registry r ON (\n",
      "                    m.registry_trending_uid = r.registry_trending_uid\n",
      "                    AND m.dashboard_history_uuid = r.dashboard_history_uuid\n",
      "                )\n",
      "                JOIN INTERMOUNTAIN.PH_F_Dashboard_History_Trending_Registry_Mara_Risk_Score s ON (\n",
      "                    r.registry_trending_uid = s.mara_risk_score_uuid\n",
      "                    AND r.dashboard_history_UUID = s.dashboard_history_UUID\n",
      "                )\n",
      "                JOIN INTERMOUNTAIN.PH_F_Dashboard_History_Trending_Statistic st ON (\n",
      "                    r.dashboard_history_uuid = st.dashboard_history_uuid\n",
      "                )\n",
      "            WHERE\n",
      "                st.created_dt_tm BETWEEN DATE('2019-08-16') AND DATE('2019-11-15')\n",
      "                AND m.composite_percentage_met_count IS NOT NULL\n",
      "                AND (m.composite_percentage_met_count + m.composite_percentage_not_met_count) > 0\n",
      "                AND s.dashboard_registry_mara_risk_score_type = 'Attributed_Person_Registry_Statistics'\n",
      "                AND st.dashboard_type = 'Personnel_Trending_Dashboard'\n",
      "            ) q\n",
      "            JOIN (\n",
      "                SELECT DISTINCT\n",
      "                    a.*\n",
      "                FROM\n",
      "                    (\n",
      "            SELECT DISTINCT\n",
      "                m.fully_qualified_name,\n",
      "                st.dashboard_history_personnel_id AS prsnl_id,\n",
      "                COUNT(DISTINCT st.created_dt_tm) AS dt_count\n",
      "            FROM\n",
      "                INTERMOUNTAIN.PH_F_Dashboard_History_Trending_Registry_Measure m\n",
      "                JOIN INTERMOUNTAIN.PH_F_Dashboard_History_Trending_Registry r ON (\n",
      "                    m.registry_trending_uid = r.registry_trending_uid\n",
      "                    AND m.dashboard_history_uuid = r.dashboard_history_uuid\n",
      "                )\n",
      "                JOIN INTERMOUNTAIN.PH_F_Dashboard_History_Trending_Registry_Mara_Risk_Score s ON (\n",
      "                    r.registry_trending_uid = s.mara_risk_score_uuid\n",
      "                    AND r.dashboard_history_uuid = s.dashboard_history_uuid\n",
      "                )\n",
      "                JOIN INTERMOUNTAIN.PH_F_Dashboard_History_Trending_Statistic st ON (\n",
      "                    r.dashboard_history_uuid = st.dashboard_history_uuid\n",
      "                )\n",
      "            WHERE\n",
      "                st.created_dt_tm BETWEEN DATE('2019-08-16') AND DATE('2019-11-15')\n",
      "                AND m.composite_percentage_met_count IS NOT NULL\n",
      "                AND (m.composite_percentage_met_count + m.composite_percentage_not_met_count) > 0\n",
      "                AND s.dashboard_registry_mara_risk_score_type = 'Attributed_Person_Registry_Statistics'\n",
      "                AND st.dashboard_type = 'Personnel_Trending_Dashboard'\n",
      "            GROUP BY\n",
      "                m.fully_qualified_name,\n",
      "                st.dashboard_history_personnel_id\n",
      "            ) a\n",
      "                WHERE\n",
      "                    SPLIT_PART(fully_qualified_name, '.', 2) = 'atrisk'\n",
      "                ) d ON (\n",
      "                q.fully_qualified_name = d.fully_qualified_name\n",
      "                AND q.prsnl_id = d.prsnl_id\n",
      "                AND d.dt_count >= 3\n",
      "            )\n",
      "        \n"
     ]
    }
   ],
   "source": [
    "print(q)"
   ]
  },
  {
   "cell_type": "code",
   "execution_count": 10,
   "metadata": {
    "collapsed": true
   },
   "outputs": [],
   "source": [
    "scorable = i.query_df(q)"
   ]
  },
  {
   "cell_type": "code",
   "execution_count": 11,
   "metadata": {},
   "outputs": [
    {
     "data": {
      "text/html": [
       "<div>\n",
       "<style>\n",
       "    .dataframe thead tr:only-child th {\n",
       "        text-align: right;\n",
       "    }\n",
       "\n",
       "    .dataframe thead th {\n",
       "        text-align: left;\n",
       "    }\n",
       "\n",
       "    .dataframe tbody tr th {\n",
       "        vertical-align: top;\n",
       "    }\n",
       "</style>\n",
       "<table border=\"1\" class=\"dataframe\">\n",
       "  <thead>\n",
       "    <tr style=\"text-align: right;\">\n",
       "      <th></th>\n",
       "      <th>client</th>\n",
       "      <th>population_id</th>\n",
       "      <th>date</th>\n",
       "      <th>prsnl_id</th>\n",
       "      <th>fully_qualified_name</th>\n",
       "      <th>numerator</th>\n",
       "      <th>denominator</th>\n",
       "    </tr>\n",
       "  </thead>\n",
       "  <tbody>\n",
       "    <tr>\n",
       "      <th>0</th>\n",
       "      <td>INTERMOUNTAIN</td>\n",
       "      <td>e9a85078-ff1f-40b0-9894-402e56c4b679</td>\n",
       "      <td>2019-09-02 01:50:22.440000-05:00</td>\n",
       "      <td>01b8c101-28f6-4618-8c53-bdb3426e3bd2</td>\n",
       "      <td>intermountain.atrisk.clinical/blood-pressure-lt-140-90-mm-hg</td>\n",
       "      <td>2</td>\n",
       "      <td>7</td>\n",
       "    </tr>\n",
       "    <tr>\n",
       "      <th>1</th>\n",
       "      <td>INTERMOUNTAIN</td>\n",
       "      <td>e9a85078-ff1f-40b0-9894-402e56c4b679</td>\n",
       "      <td>2019-09-02 01:50:22.440000-05:00</td>\n",
       "      <td>01b8c101-28f6-4618-8c53-bdb3426e3bd2</td>\n",
       "      <td>intermountain.atrisk.clinical/breast-cancer-screening</td>\n",
       "      <td>10</td>\n",
       "      <td>10</td>\n",
       "    </tr>\n",
       "    <tr>\n",
       "      <th>2</th>\n",
       "      <td>INTERMOUNTAIN</td>\n",
       "      <td>e9a85078-ff1f-40b0-9894-402e56c4b679</td>\n",
       "      <td>2019-09-02 01:50:22.440000-05:00</td>\n",
       "      <td>01b8c101-28f6-4618-8c53-bdb3426e3bd2</td>\n",
       "      <td>intermountain.atrisk.clinical/colorectal-cancer-screening</td>\n",
       "      <td>9</td>\n",
       "      <td>18</td>\n",
       "    </tr>\n",
       "    <tr>\n",
       "      <th>3</th>\n",
       "      <td>INTERMOUNTAIN</td>\n",
       "      <td>e9a85078-ff1f-40b0-9894-402e56c4b679</td>\n",
       "      <td>2019-09-02 01:50:22.440000-05:00</td>\n",
       "      <td>01b8c101-28f6-4618-8c53-bdb3426e3bd2</td>\n",
       "      <td>intermountain.atrisk.clinical/depression-screening</td>\n",
       "      <td>4</td>\n",
       "      <td>43</td>\n",
       "    </tr>\n",
       "    <tr>\n",
       "      <th>4</th>\n",
       "      <td>INTERMOUNTAIN</td>\n",
       "      <td>e9a85078-ff1f-40b0-9894-402e56c4b679</td>\n",
       "      <td>2019-09-02 01:50:22.440000-05:00</td>\n",
       "      <td>01b8c101-28f6-4618-8c53-bdb3426e3bd2</td>\n",
       "      <td>intermountain.atrisk.clinical/diabetic-eye-exam</td>\n",
       "      <td>0</td>\n",
       "      <td>2</td>\n",
       "    </tr>\n",
       "  </tbody>\n",
       "</table>\n",
       "</div>"
      ],
      "text/plain": [
       "          client                         population_id  \\\n",
       "0  INTERMOUNTAIN  e9a85078-ff1f-40b0-9894-402e56c4b679   \n",
       "1  INTERMOUNTAIN  e9a85078-ff1f-40b0-9894-402e56c4b679   \n",
       "2  INTERMOUNTAIN  e9a85078-ff1f-40b0-9894-402e56c4b679   \n",
       "3  INTERMOUNTAIN  e9a85078-ff1f-40b0-9894-402e56c4b679   \n",
       "4  INTERMOUNTAIN  e9a85078-ff1f-40b0-9894-402e56c4b679   \n",
       "\n",
       "                              date                              prsnl_id  \\\n",
       "0 2019-09-02 01:50:22.440000-05:00  01b8c101-28f6-4618-8c53-bdb3426e3bd2   \n",
       "1 2019-09-02 01:50:22.440000-05:00  01b8c101-28f6-4618-8c53-bdb3426e3bd2   \n",
       "2 2019-09-02 01:50:22.440000-05:00  01b8c101-28f6-4618-8c53-bdb3426e3bd2   \n",
       "3 2019-09-02 01:50:22.440000-05:00  01b8c101-28f6-4618-8c53-bdb3426e3bd2   \n",
       "4 2019-09-02 01:50:22.440000-05:00  01b8c101-28f6-4618-8c53-bdb3426e3bd2   \n",
       "\n",
       "                                           fully_qualified_name numerator  \\\n",
       "0  intermountain.atrisk.clinical/blood-pressure-lt-140-90-mm-hg         2   \n",
       "1         intermountain.atrisk.clinical/breast-cancer-screening        10   \n",
       "2     intermountain.atrisk.clinical/colorectal-cancer-screening         9   \n",
       "3            intermountain.atrisk.clinical/depression-screening         4   \n",
       "4               intermountain.atrisk.clinical/diabetic-eye-exam         0   \n",
       "\n",
       "  denominator  \n",
       "0           7  \n",
       "1          10  \n",
       "2          18  \n",
       "3          43  \n",
       "4           2  "
      ]
     },
     "execution_count": 11,
     "metadata": {},
     "output_type": "execute_result"
    }
   ],
   "source": [
    "scorable.head()"
   ]
  },
  {
   "cell_type": "markdown",
   "metadata": {},
   "source": [
    "## 3. Clean Data"
   ]
  },
  {
   "cell_type": "code",
   "execution_count": 12,
   "metadata": {
    "collapsed": true
   },
   "outputs": [],
   "source": [
    "reg_meas_names = i.query_df(f\"\"\"\n",
    "SELECT DISTINCT\n",
    "mo.fully_qualified_name,\n",
    "INITCAP( REPLACE( SUBSTR( mo.program_id, INSTR( mo.program_id, '.', -1 ) + 1, CHAR_LENGTH( mo.program_id ) ), '-', ' ' )) AS registry,\n",
    "INITCAP( REPLACE( SUBSTR( mo.fully_qualified_name, INSTR( mo.fully_qualified_name, '/' ) + 1, CHAR_LENGTH( mo.fully_qualified_name )),'-',' ')) AS \"measure\"\n",
    "FROM {i.schema}.PH_F_Measure_Outcome mo\n",
    "JOIN {i.schema}.PH_F_Scorecard_Trending_Personnel_Point sc on(\n",
    "    mo.program_id = sc.program_id)\n",
    "\"\"\")"
   ]
  },
  {
   "cell_type": "code",
   "execution_count": 13,
   "metadata": {},
   "outputs": [
    {
     "data": {
      "text/html": [
       "<div>\n",
       "<style>\n",
       "    .dataframe thead tr:only-child th {\n",
       "        text-align: right;\n",
       "    }\n",
       "\n",
       "    .dataframe thead th {\n",
       "        text-align: left;\n",
       "    }\n",
       "\n",
       "    .dataframe tbody tr th {\n",
       "        vertical-align: top;\n",
       "    }\n",
       "</style>\n",
       "<table border=\"1\" class=\"dataframe\">\n",
       "  <thead>\n",
       "    <tr style=\"text-align: right;\">\n",
       "      <th></th>\n",
       "      <th>fully_qualified_name</th>\n",
       "      <th>registry</th>\n",
       "      <th>measure</th>\n",
       "    </tr>\n",
       "  </thead>\n",
       "  <tbody>\n",
       "    <tr>\n",
       "      <th>0</th>\n",
       "      <td>cernerstandard.rheumatoidarthritis.clinical/rheumatoid-arthritis-management-measure</td>\n",
       "      <td>Rheumatoid Arthritis</td>\n",
       "      <td>Rheumatoid Arthritis Management Measure</td>\n",
       "    </tr>\n",
       "    <tr>\n",
       "      <th>1</th>\n",
       "      <td>intermountain.pediatricwellness.clinical/well-child-visits-in-the-first-15-months-of-life</td>\n",
       "      <td>Pediatric Wellness</td>\n",
       "      <td>Well Child Visits In The First 15 Months Of Life</td>\n",
       "    </tr>\n",
       "    <tr>\n",
       "      <th>2</th>\n",
       "      <td>intermountain.hypertension.clinical/bp-less-than-140-90</td>\n",
       "      <td>Hypertension</td>\n",
       "      <td>Bp Less Than 140 90</td>\n",
       "    </tr>\n",
       "    <tr>\n",
       "      <th>3</th>\n",
       "      <td>cernerstandard.candaimmunizations.clinical/pneumococcal-vaccination-pediatric</td>\n",
       "      <td>C And A Immunizations</td>\n",
       "      <td>Pneumococcal Vaccination Pediatric</td>\n",
       "    </tr>\n",
       "    <tr>\n",
       "      <th>4</th>\n",
       "      <td>cernerstandard.candaimmunizations.clinical/human-papillomavirus-vaccination</td>\n",
       "      <td>C And A Immunizations</td>\n",
       "      <td>Human Papillomavirus Vaccination</td>\n",
       "    </tr>\n",
       "  </tbody>\n",
       "</table>\n",
       "</div>"
      ],
      "text/plain": [
       "                                                                        fully_qualified_name  \\\n",
       "0        cernerstandard.rheumatoidarthritis.clinical/rheumatoid-arthritis-management-measure   \n",
       "1  intermountain.pediatricwellness.clinical/well-child-visits-in-the-first-15-months-of-life   \n",
       "2                                    intermountain.hypertension.clinical/bp-less-than-140-90   \n",
       "3              cernerstandard.candaimmunizations.clinical/pneumococcal-vaccination-pediatric   \n",
       "4                cernerstandard.candaimmunizations.clinical/human-papillomavirus-vaccination   \n",
       "\n",
       "                registry                                           measure  \n",
       "0   Rheumatoid Arthritis           Rheumatoid Arthritis Management Measure  \n",
       "1     Pediatric Wellness  Well Child Visits In The First 15 Months Of Life  \n",
       "2           Hypertension                               Bp Less Than 140 90  \n",
       "3  C And A Immunizations                Pneumococcal Vaccination Pediatric  \n",
       "4  C And A Immunizations                  Human Papillomavirus Vaccination  "
      ]
     },
     "execution_count": 13,
     "metadata": {},
     "output_type": "execute_result"
    }
   ],
   "source": [
    "reg_meas_names.head()"
   ]
  },
  {
   "cell_type": "code",
   "execution_count": 14,
   "metadata": {
    "collapsed": true,
    "scrolled": false
   },
   "outputs": [],
   "source": [
    "# join to get Registry & Measure\n",
    "new_scorable = scorable.merge(reg_meas_names,on=\"fully_qualified_name\")\n",
    "# add year_quarter\n",
    "#new_scorable[\"year_quarter\"] = dates\n",
    "# reorder columns\n",
    "new_scorable = new_scorable[[\n",
    "    \"fully_qualified_name\",\n",
    "    \"registry\",\n",
    "    \"measure\",\n",
    "    \"date\",\n",
    "    \"prsnl_id\",\n",
    "    \"numerator\",\n",
    "    \"denominator\"\n",
    "]]"
   ]
  },
  {
   "cell_type": "code",
   "execution_count": 15,
   "metadata": {},
   "outputs": [
    {
     "data": {
      "text/html": [
       "<div>\n",
       "<style>\n",
       "    .dataframe thead tr:only-child th {\n",
       "        text-align: right;\n",
       "    }\n",
       "\n",
       "    .dataframe thead th {\n",
       "        text-align: left;\n",
       "    }\n",
       "\n",
       "    .dataframe tbody tr th {\n",
       "        vertical-align: top;\n",
       "    }\n",
       "</style>\n",
       "<table border=\"1\" class=\"dataframe\">\n",
       "  <thead>\n",
       "    <tr style=\"text-align: right;\">\n",
       "      <th></th>\n",
       "      <th>fully_qualified_name</th>\n",
       "      <th>registry</th>\n",
       "      <th>measure</th>\n",
       "      <th>date</th>\n",
       "      <th>prsnl_id</th>\n",
       "      <th>numerator</th>\n",
       "      <th>denominator</th>\n",
       "    </tr>\n",
       "  </thead>\n",
       "  <tbody>\n",
       "    <tr>\n",
       "      <th>0</th>\n",
       "      <td>intermountain.atrisk.clinical/blood-pressure-lt-140-90-mm-hg</td>\n",
       "      <td>Atrisk</td>\n",
       "      <td>Blood Pressure Lt 140 90 Mm Hg</td>\n",
       "      <td>2019-09-02 01:50:22.440000-05:00</td>\n",
       "      <td>01b8c101-28f6-4618-8c53-bdb3426e3bd2</td>\n",
       "      <td>2</td>\n",
       "      <td>7</td>\n",
       "    </tr>\n",
       "  </tbody>\n",
       "</table>\n",
       "</div>"
      ],
      "text/plain": [
       "                                           fully_qualified_name registry  \\\n",
       "0  intermountain.atrisk.clinical/blood-pressure-lt-140-90-mm-hg   Atrisk   \n",
       "\n",
       "                          measure                             date  \\\n",
       "0  Blood Pressure Lt 140 90 Mm Hg 2019-09-02 01:50:22.440000-05:00   \n",
       "\n",
       "                               prsnl_id numerator denominator  \n",
       "0  01b8c101-28f6-4618-8c53-bdb3426e3bd2         2           7  "
      ]
     },
     "execution_count": 15,
     "metadata": {},
     "output_type": "execute_result"
    }
   ],
   "source": [
    "new_scorable.head(1)"
   ]
  },
  {
   "cell_type": "code",
   "execution_count": 16,
   "metadata": {
    "collapsed": true
   },
   "outputs": [],
   "source": [
    "new_scorable.to_csv(f\"{client}_scorable_raw_data_Q42019_AtRisk.csv\", index=False)"
   ]
  },
  {
   "cell_type": "code",
   "execution_count": null,
   "metadata": {
    "collapsed": true
   },
   "outputs": [],
   "source": []
  }
 ],
 "metadata": {
  "kernelspec": {
   "display_name": "Python 3",
   "language": "python",
   "name": "python3"
  },
  "language_info": {
   "codemirror_mode": {
    "name": "ipython",
    "version": 3
   },
   "file_extension": ".py",
   "mimetype": "text/x-python",
   "name": "python",
   "nbconvert_exporter": "python",
   "pygments_lexer": "ipython3",
   "version": "3.6.3"
  }
 },
 "nbformat": 4,
 "nbformat_minor": 2
}
