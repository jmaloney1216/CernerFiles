{
 "cells": [
  {
   "cell_type": "code",
   "execution_count": null,
   "metadata": {
    "collapsed": true
   },
   "outputs": [],
   "source": []
  },
  {
   "cell_type": "markdown",
   "metadata": {},
   "source": [
    "# Author's Note"
   ]
  },
  {
   "cell_type": "markdown",
   "metadata": {},
   "source": [
    "Ultimately we want a \"average patient COCI score\" for each provider\n",
    "\n",
    "This is comprised of COCI scores for each patient\n",
    "\n",
    "    A = # visits with your attributed personnel\n",
    "    B = # visits with all personnel\n",
    "    COCI = A / B\n",
    "    \n",
    "The COCI is on a scale of 0-1 where 1 means \"all visits were with my attributed provider\" and 0 means \"no visits were with my attributed provider\"\n",
    "    \n",
    "To calculate this, we need a table of visits with a row for each:\n",
    "* Patient (empi_id), Provider (prsnl_id), and Date (service_dt_tm)\n",
    "* Optional: Pop_id, name (of provider), source_id\n",
    "   \n",
    "These visits come from two sources:  \n",
    "* EMR (PH_F_Encounter)\n",
    "* Claims (PH_F_Procedure)"
   ]
  },
  {
   "cell_type": "markdown",
   "metadata": {
    "collapsed": true
   },
   "source": [
    "# 1. Imports"
   ]
  },
  {
   "cell_type": "code",
   "execution_count": 1,
   "metadata": {
    "collapsed": true
   },
   "outputs": [],
   "source": [
    "from Ian import attribution_functions, pd, np, clusters, equal_in, plt\n",
    "# import seaborn as sns; sns.set()\n",
    "# import networkx as nx\n",
    "# from sklearn.mixture import GaussianMixture\n",
    "\n",
    "# %matplotlib inline\n",
    "\n",
    "# pd.set_option('display.max_rows', 500)\n",
    "# pd.set_option('display.max_columns', 500)\n",
    "# pd.set_option('display.width', 1000)"
   ]
  },
  {
   "cell_type": "markdown",
   "metadata": {},
   "source": [
    "# 2. Connection\n",
    "Connect to Vertica with credentials and the appropriate client schema / population_id"
   ]
  },
  {
   "cell_type": "code",
   "execution_count": 2,
   "metadata": {
    "collapsed": true
   },
   "outputs": [],
   "source": [
    "# user is associate ID; password is sphere password\n",
    "user = 'AO054198'\n",
    "password = 'CernerSphereQ22020'\n",
    "client = 'LCOX_MO'\n",
    "# define a connection instance\n",
    "i = attribution_functions(**{\n",
    "    'host' : '10.20.71.235',\n",
    "    'user' : f'{user}',\n",
    "    'password' : f'{password}',\n",
    "    'schema' : 'COXHEALTH',\n",
    "    'population_id' : '7df18e6b-1e83-463e-9bb9-d40f40233249'\n",
    "})"
   ]
  },
  {
   "cell_type": "code",
   "execution_count": 3,
   "metadata": {},
   "outputs": [
    {
     "data": {
      "text/html": [
       "<div>\n",
       "<style>\n",
       "    .dataframe thead tr:only-child th {\n",
       "        text-align: right;\n",
       "    }\n",
       "\n",
       "    .dataframe thead th {\n",
       "        text-align: left;\n",
       "    }\n",
       "\n",
       "    .dataframe tbody tr th {\n",
       "        vertical-align: top;\n",
       "    }\n",
       "</style>\n",
       "<table border=\"1\" class=\"dataframe\">\n",
       "  <thead>\n",
       "    <tr style=\"text-align: right;\">\n",
       "      <th></th>\n",
       "      <th>GETDATE</th>\n",
       "    </tr>\n",
       "  </thead>\n",
       "  <tbody>\n",
       "    <tr>\n",
       "      <th>0</th>\n",
       "      <td>2020-03-26 14:11:58.380559</td>\n",
       "    </tr>\n",
       "  </tbody>\n",
       "</table>\n",
       "</div>"
      ],
      "text/plain": [
       "                     GETDATE\n",
       "0 2020-03-26 14:11:58.380559"
      ]
     },
     "execution_count": 3,
     "metadata": {},
     "output_type": "execute_result"
    }
   ],
   "source": [
    "# test connection\n",
    "i.query_df(f\"\"\"SELECT GETDATE()\"\"\")"
   ]
  },
  {
   "cell_type": "markdown",
   "metadata": {},
   "source": [
    "# 3. Drop Previous Tables\n",
    "Drop previously created tables to make new ones"
   ]
  },
  {
   "cell_type": "code",
   "execution_count": 4,
   "metadata": {
    "collapsed": true
   },
   "outputs": [],
   "source": [
    "# query all tables related to Continuum of Care\n",
    "tables = i.query_df(f\"\"\"\n",
    "SELECT DISTINCT\n",
    "    table_name\n",
    "FROM\n",
    "    tables\n",
    "WHERE\n",
    "    table_schema = 'DATA_INSIGHTS_ANALYST'\n",
    "    AND table_name ILIKE '%continuum%'\n",
    "\"\"\")"
   ]
  },
  {
   "cell_type": "code",
   "execution_count": 5,
   "metadata": {
    "scrolled": true
   },
   "outputs": [
    {
     "data": {
      "text/html": [
       "<div>\n",
       "<style>\n",
       "    .dataframe thead tr:only-child th {\n",
       "        text-align: right;\n",
       "    }\n",
       "\n",
       "    .dataframe thead th {\n",
       "        text-align: left;\n",
       "    }\n",
       "\n",
       "    .dataframe tbody tr th {\n",
       "        vertical-align: top;\n",
       "    }\n",
       "</style>\n",
       "<table border=\"1\" class=\"dataframe\">\n",
       "  <thead>\n",
       "    <tr style=\"text-align: right;\">\n",
       "      <th></th>\n",
       "      <th>table_name</th>\n",
       "    </tr>\n",
       "  </thead>\n",
       "  <tbody>\n",
       "    <tr>\n",
       "      <th>0</th>\n",
       "      <td>COXHEALTH_continuum_of_care_visits</td>\n",
       "    </tr>\n",
       "  </tbody>\n",
       "</table>\n",
       "</div>"
      ],
      "text/plain": [
       "                           table_name\n",
       "0  COXHEALTH_continuum_of_care_visits"
      ]
     },
     "execution_count": 5,
     "metadata": {},
     "output_type": "execute_result"
    }
   ],
   "source": [
    "tables"
   ]
  },
  {
   "cell_type": "code",
   "execution_count": 6,
   "metadata": {
    "collapsed": true
   },
   "outputs": [],
   "source": [
    "# drop them\n",
    "if tables.empty == False:\n",
    "    for table in tables.table_name.unique():\n",
    "        i.query_df(f\"\"\"\n",
    "        DROP TABLE\n",
    "            DATA_INSIGHTS_ANALYST.{table}\n",
    "        \"\"\")"
   ]
  },
  {
   "cell_type": "markdown",
   "metadata": {},
   "source": [
    "# 4. Make Table"
   ]
  },
  {
   "cell_type": "markdown",
   "metadata": {},
   "source": [
    "[LCOX_MO Attribution Algorithm](https://wiki.cerner.com/display/LCOXHEI/Cox+Health+Attribution)"
   ]
  },
  {
   "cell_type": "markdown",
   "metadata": {},
   "source": [
    "LCOX_MO Parameters\n",
    "* Millennium\n",
    "* OFFICE_VISIT_ENC (Outpatient Encounters)\n",
    "* 12 month lookback\n",
    "\n",
    "Other Logic\n",
    "* Patients Age 18+\n",
    "* Provider must be attributable\n",
    "* Provider must be PCP"
   ]
  },
  {
   "cell_type": "markdown",
   "metadata": {},
   "source": [
    "## 4A. Define Parameters\n",
    "Look in \"Custom Settings\""
   ]
  },
  {
   "cell_type": "code",
   "execution_count": 7,
   "metadata": {
    "collapsed": true
   },
   "outputs": [],
   "source": [
    "# partitions\n",
    "MILLENNIUM_DATA_PARTITIONS = \"\"\"dbdd2270-e366-4dcd-9ff1-e327d49d29bb\n",
    "\"\"\".split('\\n')\n",
    "                  \n",
    "data_partitions = MILLENNIUM_DATA_PARTITIONS\n",
    "# visit type concepts as defined by Nate (not attribution algorithm)\n",
    "visit_type_concepts = 'OFFICE_VISIT_ENC'\n",
    "\n",
    "# look back of 12 months from date (defined by Nate as month common in literature)\n",
    "visit_12_months = ('MONTH', 12)\n",
    "\n",
    "## Extra Variables\n",
    "lookback_type = visit_12_months[0]\n",
    "encounter_lookback = visit_12_months[1]\n",
    "procedure_lookback = visit_12_months[1]"
   ]
  },
  {
   "cell_type": "code",
   "execution_count": 8,
   "metadata": {},
   "outputs": [
    {
     "data": {
      "text/plain": [
       "Timestamp('2020-03-25 15:49:48.930000-0500', tz='tzoffset(None, -18000)')"
      ]
     },
     "execution_count": 8,
     "metadata": {},
     "output_type": "execute_result"
    }
   ],
   "source": [
    "# max attribution_end_date from PH_F_Person_Attribution_Outcome_Changes\n",
    "date = i.query_df(i.attribution_dt_tm_query()).max_attribution_dt_tm[0]\n",
    "date"
   ]
  },
  {
   "cell_type": "markdown",
   "metadata": {},
   "source": [
    "### 4A1. Define Primary Query"
   ]
  },
  {
   "cell_type": "code",
   "execution_count": 9,
   "metadata": {
    "collapsed": true
   },
   "outputs": [],
   "source": [
    "# pop_id,codes from Ontology Table (and alias)\n",
    "# given context_id, and population_id, and alias we specified\n",
    "primary_concepts = f\"\"\"\n",
    "\t\tSELECT DISTINCT \n",
    "            ont.population_id,\n",
    "\t\t\tont.code_oid,\n",
    "\t\t\tont.code_system_id,\n",
    "\t\t\tontc.alias\n",
    "\t\tFROM {i.schema}.PH_D_Ontology ont\n",
    "\t\tJOIN {i.schema}.PH_D_Ontology_Concept_Alias ontc ON (\n",
    "\t\t\t\tont.population_id = ontc.population_id\n",
    "\t\t\t\tAND ont.concept_id = ontc.concept_id\n",
    "\t\t\t\tAND ont.context_id = ontc.context_id\n",
    "\t\t\t\tAND ont.context_id = '8FBD43EF0885489AA9FF961D66294839'\n",
    "\t\t\t\tAND ont.population_id = '{i.population_id}'\n",
    "\t\t\t\t)\n",
    "\t\tWHERE alias ='{visit_type_concepts}'\n",
    "\"\"\""
   ]
  },
  {
   "cell_type": "markdown",
   "metadata": {},
   "source": [
    "## 4B. EMR / Encounters (visit_12_months query)\n",
    "* Query visits between empi_id and provider_id, and dates they took place\n",
    "* Specify the time range, the encounter_id, and keep within our visit_type\n",
    "* Clean up poor / nonsensical data"
   ]
  },
  {
   "cell_type": "code",
   "execution_count": 10,
   "metadata": {
    "collapsed": true
   },
   "outputs": [],
   "source": [
    "# empi,provider,dates from PH_F_Encounter\n",
    "# But only for Encounters with our Visit_Type (primary_concepts)\n",
    "# and JOIN Enc_Prsnl_relt...\n",
    "# arrival IS NOT NULL, arrived before discharge (or not discharged)\n",
    "# encounters AFTER (X months before max_attribution_end_date)\n",
    "# and BEFORE max_attirbution_end_date\n",
    "# and encounter_id IN partitions from attribution algorithm\n",
    "visit_emr = f\"\"\"\n",
    "SELECT DISTINCT \n",
    "\tenc.population_id,\n",
    "\tenc.empi_id,\n",
    "\tepr.provider_id,\n",
    "\tepr.begin_date_id,\n",
    "\tepr.begin_dt_tm,\n",
    "\tepr.end_date_id,\n",
    "\tepr.end_dt_tm,\n",
    "\tenc.service_dt_tm,\n",
    "\tenc.service_date_id,\n",
    "\t'ENCOUNTER' AS ref_record_type,\n",
    "\tenc.source_id\n",
    "FROM {i.schema}.PH_F_Encounter enc\n",
    "JOIN ({primary_concepts}) pc ON (\n",
    "\t\tenc.population_id = pc.population_id\n",
    "\t\tAND enc.encounter_type_code = pc.code_oid\n",
    "\t\tAND enc.encounter_type_coding_system_id = pc.code_system_id\n",
    "\t\t)\n",
    "JOIN {i.schema}.PH_F_Encounter_Personnel_Reltn epr ON (\n",
    "\t\tenc.population_id = epr.population_id\n",
    "\t\tAND enc.encounter_id = epr.encounter_id\n",
    "\t\tAND enc.empi_id = epr.empi_id\n",
    "\t\tAND enc.actual_arrival_dt_tm IS NOT NULL\n",
    "\t\tAND (\n",
    "\t\t\tenc.actual_arrival_dt_tm <= enc.discharge_dt_tm\n",
    "\t\t\tOR enc.discharge_dt_tm IS NULL\n",
    "\t\t\t)\n",
    "\t\tAND (\n",
    "\t\t\tepr.begin_dt_tm IS NULL\n",
    "\t\t\tOR epr.begin_dt_tm <= enc.discharge_dt_tm\n",
    "\t\t\t)\n",
    "\t\tAND (\n",
    "\t\t\tepr.end_dt_tm IS NULL\n",
    "\t\t\tOR epr.end_dt_tm >= enc.actual_arrival_dt_tm\n",
    "\t\t\t)\n",
    "\t\tAND enc.service_dt_tm >= TIMESTAMPADD({lookback_type}, - {encounter_lookback}, '{date}')\n",
    "\t\tAND enc.service_dt_tm <= '{date}'\n",
    "\t\tAND SPLIT_PART(enc.encounter_id, ':', 1) {equal_in(data_partitions) }\n",
    "\t\t)\n",
    "\"\"\""
   ]
  },
  {
   "cell_type": "code",
   "execution_count": 11,
   "metadata": {
    "collapsed": true
   },
   "outputs": [],
   "source": [
    "# empi,provider,dates from PH_F_Encounter\n",
    "# But only for Encounters with our Visit_Type (primary_concepts)\n",
    "# and JOIN Enc_Prsnl_relt...\n",
    "# arrival IS NOT NULL, arrived before discharge (or not discharged)\n",
    "# encounters AFTER (X months before max_attribution_end_date)\n",
    "# and BEFORE max_attirbution_end_date\n",
    "# and encounter_id IN partitions from attribution algorithm\n",
    "visit_emr = f\"\"\"\n",
    "SELECT DISTINCT \n",
    "\tenc.population_id,\n",
    "\tenc.empi_id,\n",
    "\tepr.provider_id,\n",
    "\tepr.begin_date_id,\n",
    "\tepr.begin_dt_tm,\n",
    "\tepr.end_date_id,\n",
    "\tepr.end_dt_tm,\n",
    "\tenc.service_dt_tm,\n",
    "\tenc.service_date_id,\n",
    "\t'ENCOUNTER' AS ref_record_type,\n",
    "\tenc.source_id\n",
    "FROM {i.schema}.PH_F_Encounter enc\n",
    "JOIN ({primary_concepts}) pc ON (\n",
    "\t\tenc.population_id = pc.population_id\n",
    "\t\tAND enc.encounter_type_code = pc.code_oid\n",
    "\t\tAND enc.encounter_type_coding_system_id = pc.code_system_id\n",
    "\t\t)\n",
    "JOIN {i.schema}.PH_F_Encounter_Personnel_Reltn epr ON (\n",
    "\t\tenc.population_id = epr.population_id\n",
    "\t\tAND enc.encounter_id = epr.encounter_id\n",
    "\t\tAND enc.empi_id = epr.empi_id\n",
    "\t\tAND enc.actual_arrival_dt_tm IS NOT NULL\n",
    "\t\tAND (\n",
    "\t\t\tenc.actual_arrival_dt_tm <= enc.discharge_dt_tm\n",
    "\t\t\tOR enc.discharge_dt_tm IS NULL\n",
    "\t\t\t)\n",
    "\t\tAND (\n",
    "\t\t\tepr.begin_dt_tm IS NULL\n",
    "\t\t\tOR epr.begin_dt_tm <= enc.discharge_dt_tm\n",
    "\t\t\t)\n",
    "\t\tAND (\n",
    "\t\t\tepr.end_dt_tm IS NULL\n",
    "\t\t\tOR epr.end_dt_tm >= enc.actual_arrival_dt_tm\n",
    "\t\t\t)\n",
    "\t\tAND enc.service_dt_tm >= TIMESTAMPADD({lookback_type}, - {encounter_lookback}, '{date}')\n",
    "\t\tAND enc.service_dt_tm <= '{date}'\n",
    "\t\tAND SPLIT_PART(enc.encounter_id, ':', 1) {equal_in(data_partitions) }\n",
    "\t\t)\n",
    "\"\"\""
   ]
  },
  {
   "cell_type": "code",
   "execution_count": 12,
   "metadata": {
    "collapsed": true
   },
   "outputs": [],
   "source": [
    "# IF there is >1 row with the same empi & provider & service_date_id\n",
    "# THEN keep most recent service_dt_tm\n",
    "max_date_time_emr = f\"\"\"\n",
    "\tSELECT DISTINCT \n",
    "        ve.population_id,\n",
    "\t\tve.empi_id,\n",
    "\t\tve.provider_id,\n",
    "\t\tve.service_date_id,\n",
    "\t\tMAX(ve.service_dt_tm) AS service_dt_tm\n",
    "\tFROM ({visit_emr}) ve\n",
    "\tGROUP BY ve.population_id,\n",
    "\t\tve.empi_id,\n",
    "\t\tve.provider_id,\n",
    "\t\tve.service_date_id\n",
    "\"\"\""
   ]
  },
  {
   "cell_type": "code",
   "execution_count": 13,
   "metadata": {
    "collapsed": true
   },
   "outputs": [],
   "source": [
    "# Keep Visit_emr rows matching \n",
    "# this seems redundant...wouldn't you only keep max_date_time_emr\n",
    "visits_12_months_max_dt_tm_query = f\"\"\"\n",
    "SELECT DISTINCT ve.*\n",
    "FROM ({visit_emr}) ve\n",
    "JOIN ({max_date_time_emr}) mdt ON (\n",
    "\t\tve.population_id = mdt.population_id\n",
    "\t\tAND ve.empi_id = mdt.empi_id\n",
    "\t\tAND ve.provider_id = mdt.provider_id\n",
    "\t\tAND ve.service_dt_tm = mdt.service_dt_tm\n",
    "\t\t)\n",
    "\"\"\""
   ]
  },
  {
   "cell_type": "markdown",
   "metadata": {},
   "source": [
    "## 4C. Claims (visit_24_month_claims query)\n",
    "* Query visits between empi_id and provider_id, and dates they took place\n",
    "* Specity the time range, the encounter_id, and keep within our visit_type\n",
    "* Clean up poor / nonsensical data "
   ]
  },
  {
   "cell_type": "code",
   "execution_count": 14,
   "metadata": {
    "collapsed": true
   },
   "outputs": [],
   "source": [
    "# empi,provider,dates from PH_F_Procedure\n",
    "# But only for rows with our Visit_Type (primary_concepts)\n",
    "# and JOIN Proc_Prsnl_relt...\n",
    "# service_start_dt_tm before service_end_dt_tm (or no end_dt_tm)\n",
    "# procedure AFTER (X months before max_attribution_end_date)\n",
    "# and BEFORE max_attirbution_end_date\n",
    "# and procedure_id IN partitions from attribution algorithm\n",
    "visit_claims = f\"\"\"\n",
    "\tSELECT DISTINCT \n",
    "        PROC.population_id,\n",
    "\t\tPROC.empi_id,\n",
    "\t\tppr.provider_id,\n",
    "\t\tPROC.service_start_dt_tm,\n",
    "\t\tPROC.service_start_date_id,\n",
    "\t\t'PROCEDURE' AS ref_record_type,\n",
    "\t\tPROC.source_id\n",
    "\tFROM {i.schema}.PH_F_Procedure PROC\n",
    "\tJOIN ({primary_concepts}) pc ON (\n",
    "\t\t\tPROC.population_id = pc.population_id\n",
    "\t\t\tAND PROC.procedure_code = pc.code_oid\n",
    "\t\t\tAND PROC.procedure_coding_system_id = pc.code_system_id\n",
    "\t\t\t)\n",
    "\tJOIN {i.schema}.PH_F_Procedure_Personnel_Reltn ppr ON (\n",
    "\t\t\tPROC.population_id = ppr.population_id\n",
    "\t\t\tAND PROC.procedure_id = ppr.procedure_id\n",
    "\t\t\tAND PROC.empi_id = ppr.empi_id\n",
    "            AND PROC.service_start_dt_tm IS NOT NULL\n",
    "            AND (\n",
    "                PROC.service_start_dt_tm <= PROC.service_end_dt_tm\n",
    "                OR PROC.service_end_dt_tm IS NULL\n",
    "                )\n",
    "            AND (\n",
    "                ppr.begin_dt_tm IS NULL\n",
    "                OR ppr.begin_dt_tm <= PROC.service_end_dt_tm\n",
    "                )\n",
    "            AND (\n",
    "                ppr.end_dt_tm IS NULL\n",
    "                OR ppr.end_dt_tm >= PROC.service_start_dt_tm\n",
    "                )\n",
    "\t\t\tAND PROC.service_start_dt_tm >= TIMESTAMPADD({lookback_type}, -{encounter_lookback}, '{date}')\n",
    "\t\t\tAND PROC.service_start_dt_tm <= '{date}'\n",
    "\t\t\tAND SPLIT_PART(SPLIT_PART(PROC.procedure_id, ':', 2), '/', 1) {equal_in(data_partitions)}\n",
    "\t\t\tAND PROC.claim_uid IS NOT NULL\n",
    "\t\t\t)\n",
    "\"\"\""
   ]
  },
  {
   "cell_type": "code",
   "execution_count": 15,
   "metadata": {
    "collapsed": true
   },
   "outputs": [],
   "source": [
    "# keep only rows where pop_id,empi,provider,start_date\n",
    "max_date_time_claims = f\"\"\"\n",
    "\tSELECT DISTINCT \n",
    "        vc.population_id,\n",
    "\t\tvc.empi_id,\n",
    "\t\tvc.provider_id,\n",
    "\t\tvc.service_start_date_id,\n",
    "\t\tMAX(vc.service_start_dt_tm) AS service_start_dt_tm\n",
    "\tFROM ({visit_claims}) vc\n",
    "\tGROUP BY vc.population_id,\n",
    "\t\tvc.empi_id,\n",
    "\t\tvc.provider_id,\n",
    "\t\tvc.service_start_date_id\n",
    "\"\"\""
   ]
  },
  {
   "cell_type": "code",
   "execution_count": 16,
   "metadata": {
    "collapsed": true
   },
   "outputs": [],
   "source": [
    "# keep only max rows\n",
    "# again...seems redundant\n",
    "claims_12_months_max_dt_tm_query = f\"\"\"\n",
    "SELECT DISTINCT vc.*\n",
    "FROM ({visit_claims}) vc\n",
    "JOIN ({max_date_time_claims}) mdt ON (\n",
    "\t\tvc.population_id = mdt.population_id\n",
    "\t\tAND vc.empi_id = mdt.empi_id\n",
    "\t\tAND vc.provider_id = mdt.provider_id\n",
    "\t\tAND vc.service_start_dt_tm = mdt.service_start_dt_tm\n",
    "\t\t)\n",
    "\"\"\""
   ]
  },
  {
   "cell_type": "markdown",
   "metadata": {},
   "source": [
    "## 4D. Additional Queries"
   ]
  },
  {
   "cell_type": "code",
   "execution_count": 17,
   "metadata": {
    "collapsed": true
   },
   "outputs": [],
   "source": [
    "# the Provider table\n",
    "provider_query = f\"\"\"\n",
    " SELECT DISTINCT\n",
    "            provider_id,\n",
    "            prsnl_id,\n",
    "            name,\n",
    "            given_name,\n",
    "            family_name\n",
    "        FROM\n",
    "            {i.schema}.PH_D_Provider\n",
    "\"\"\""
   ]
  },
  {
   "cell_type": "markdown",
   "metadata": {},
   "source": [
    "## 4E. Union\n",
    "* Stack the EMR & Claims tables on top of eachother (union)"
   ]
  },
  {
   "cell_type": "code",
   "execution_count": 18,
   "metadata": {
    "collapsed": true
   },
   "outputs": [],
   "source": [
    "# make columns in both queries the same\n",
    "# claims - service_start_dt_tm, service_start_date_id\n",
    "# visits - begin_dt_tm, begin_date_id, end_dt_tm , end_date_id, service_dt_tm, service_date_id \n",
    "visits_for_union = f\"\"\"\n",
    "SELECT\n",
    "    population_id::VARCHAR,\n",
    "    empi_id::VARCHAR,\n",
    "    provider_id::VARCHAR,\n",
    "    service_dt_tm,\n",
    "    service_date_id::VARCHAR,\n",
    "    ref_record_type::VARCHAR,\n",
    "    source_id::VARCHAR\n",
    "FROM ({visits_12_months_max_dt_tm_query}) v\n",
    "\"\"\"\n",
    "claims_for_union = f\"\"\"\n",
    "SELECT\n",
    "    population_id::VARCHAR,\n",
    "    empi_id::VARCHAR,\n",
    "    provider_id::VARCHAR,\n",
    "    service_start_dt_tm as service_dt_tm,\n",
    "    service_start_date_id::VARCHAR as service_date_id,\n",
    "    ref_record_type::VARCHAR,\n",
    "    source_id::VARCHAR\n",
    "FROM ({claims_12_months_max_dt_tm_query}) c\n",
    "\"\"\""
   ]
  },
  {
   "cell_type": "code",
   "execution_count": 19,
   "metadata": {
    "collapsed": true
   },
   "outputs": [],
   "source": [
    "union_query = f\"\"\"\n",
    "SELECT\n",
    "    v.*\n",
    "FROM ({visits_for_union}) v\n",
    "UNION\n",
    "SELECT\n",
    "    c.*\n",
    "FROM ({claims_for_union}) c\n",
    "\"\"\""
   ]
  },
  {
   "cell_type": "markdown",
   "metadata": {},
   "source": [
    "## 4F. Final Filters\n",
    "* Filter out patients who are NOT 18+, and patients who are deceased "
   ]
  },
  {
   "cell_type": "code",
   "execution_count": 20,
   "metadata": {
    "collapsed": true
   },
   "outputs": [],
   "source": [
    "# All encounters from Claims & EMR\n",
    "# Add prsnl_id, and provider name from PH_D_Provider\n",
    "# Add birth_date, and deceased from PH_D_Person\n",
    "visit_query = f\"\"\"\n",
    "SELECT DISTINCT\n",
    "    visit.population_id,\n",
    "    prov.prsnl_id,\n",
    "    prov.provider_id,\n",
    "    prov.name,\n",
    "    visit.empi_id,\n",
    "    visit.ref_record_type,\n",
    "    visit.source_id,\n",
    "    visit.service_date_id,\n",
    "    visit.service_dt_tm,\n",
    "    p.birth_date,\n",
    "    p.deceased,\n",
    "    AGE_IN_YEARS(visit.service_dt_tm,p.birth_date) as age\n",
    "FROM\n",
    "    ({union_query}) visit\n",
    "    JOIN ({provider_query}) prov ON (\n",
    "        visit.provider_id = prov.provider_id\n",
    "    )\n",
    "    JOIN {i.schema}.PH_D_Person p ON(\n",
    "        visit.empi_id = p.empi_id\n",
    "        AND visit.population_id = p.population_id)\n",
    "\"\"\""
   ]
  },
  {
   "cell_type": "code",
   "execution_count": 21,
   "metadata": {
    "collapsed": true
   },
   "outputs": [],
   "source": [
    "# everything from Visit query\n",
    "# Where Age is 18+ on date of encounter\n",
    "# and they are not deceased\n",
    "visit_query2 = f\"\"\"\n",
    "SELECT DISTINCT\n",
    "    v.population_id,\n",
    "    v.prsnl_id,\n",
    "--    v.prsnl_group_name,\n",
    "    v.provider_id,\n",
    "    v.name,\n",
    "    v.empi_id,\n",
    "    v.source_id,\n",
    "    v.service_date_id,\n",
    "    v.service_dt_tm,\n",
    "    v.birth_date,\n",
    "    v.age,\n",
    "    v.deceased\n",
    "FROM ({visit_query}) v\n",
    "WHERE \n",
    "    v.age >=18\n",
    "    AND (v.deceased !='True' OR v.deceased IS NULL)\n",
    "\"\"\""
   ]
  },
  {
   "cell_type": "code",
   "execution_count": 22,
   "metadata": {},
   "outputs": [
    {
     "data": {
      "text/html": [
       "<div>\n",
       "<style>\n",
       "    .dataframe thead tr:only-child th {\n",
       "        text-align: right;\n",
       "    }\n",
       "\n",
       "    .dataframe thead th {\n",
       "        text-align: left;\n",
       "    }\n",
       "\n",
       "    .dataframe tbody tr th {\n",
       "        vertical-align: top;\n",
       "    }\n",
       "</style>\n",
       "<table border=\"1\" class=\"dataframe\">\n",
       "  <thead>\n",
       "    <tr style=\"text-align: right;\">\n",
       "      <th></th>\n",
       "    </tr>\n",
       "  </thead>\n",
       "  <tbody>\n",
       "  </tbody>\n",
       "</table>\n",
       "</div>"
      ],
      "text/plain": [
       "Empty DataFrame\n",
       "Columns: []\n",
       "Index: []"
      ]
     },
     "execution_count": 22,
     "metadata": {},
     "output_type": "execute_result"
    }
   ],
   "source": [
    "# Make new table from final query\n",
    "i.query_df(f\"\"\"\n",
    "CREATE TABLE\n",
    "    DATA_INSIGHTS_ANALYST.{i.schema}_continuum_of_care_visits\n",
    "AS\n",
    "    {visit_query2} \n",
    "\"\"\")"
   ]
  },
  {
   "cell_type": "code",
   "execution_count": 23,
   "metadata": {
    "collapsed": true
   },
   "outputs": [],
   "source": [
    "# make it easier to add \"WHERE\" statements\n",
    "coc = f\"DATA_INSIGHTS_ANALYST.{i.schema}_continuum_of_care_visits\""
   ]
  },
  {
   "cell_type": "code",
   "execution_count": 24,
   "metadata": {},
   "outputs": [
    {
     "data": {
      "text/html": [
       "<div>\n",
       "<style>\n",
       "    .dataframe thead tr:only-child th {\n",
       "        text-align: right;\n",
       "    }\n",
       "\n",
       "    .dataframe thead th {\n",
       "        text-align: left;\n",
       "    }\n",
       "\n",
       "    .dataframe tbody tr th {\n",
       "        vertical-align: top;\n",
       "    }\n",
       "</style>\n",
       "<table border=\"1\" class=\"dataframe\">\n",
       "  <thead>\n",
       "    <tr style=\"text-align: right;\">\n",
       "      <th></th>\n",
       "      <th>population_id</th>\n",
       "      <th>prsnl_id</th>\n",
       "      <th>provider_id</th>\n",
       "      <th>name</th>\n",
       "      <th>empi_id</th>\n",
       "      <th>source_id</th>\n",
       "      <th>service_date_id</th>\n",
       "      <th>service_dt_tm</th>\n",
       "      <th>birth_date</th>\n",
       "      <th>age</th>\n",
       "      <th>deceased</th>\n",
       "    </tr>\n",
       "  </thead>\n",
       "  <tbody>\n",
       "    <tr>\n",
       "      <th>0</th>\n",
       "      <td>7df18e6b-1e83-463e-9bb9-d40f40233249</td>\n",
       "      <td>00939109-0b08-4119-8bf8-8a5576eb0f85</td>\n",
       "      <td>4d51a50f-8f89-48af-92fc-9b43cdd1e37d</td>\n",
       "      <td>Hull MD, Darla</td>\n",
       "      <td>c6945dd4-160e-4bbb-9161-68aeb7fd8eaf</td>\n",
       "      <td>77130780</td>\n",
       "      <td>20191002</td>\n",
       "      <td>2019-10-02 08:48:47-05:00</td>\n",
       "      <td>1963-04-23</td>\n",
       "      <td>56</td>\n",
       "      <td>None</td>\n",
       "    </tr>\n",
       "  </tbody>\n",
       "</table>\n",
       "</div>"
      ],
      "text/plain": [
       "                          population_id                              prsnl_id  \\\n",
       "0  7df18e6b-1e83-463e-9bb9-d40f40233249  00939109-0b08-4119-8bf8-8a5576eb0f85   \n",
       "\n",
       "                            provider_id            name  \\\n",
       "0  4d51a50f-8f89-48af-92fc-9b43cdd1e37d  Hull MD, Darla   \n",
       "\n",
       "                                empi_id source_id service_date_id  \\\n",
       "0  c6945dd4-160e-4bbb-9161-68aeb7fd8eaf  77130780        20191002   \n",
       "\n",
       "              service_dt_tm  birth_date  age deceased  \n",
       "0 2019-10-02 08:48:47-05:00  1963-04-23   56     None  "
      ]
     },
     "execution_count": 24,
     "metadata": {},
     "output_type": "execute_result"
    }
   ],
   "source": [
    "# Test table\n",
    "i.query_df(f\"\"\"\n",
    "SELECT * FROM {coc}\n",
    "\"\"\",1)"
   ]
  },
  {
   "cell_type": "code",
   "execution_count": 25,
   "metadata": {},
   "outputs": [
    {
     "data": {
      "text/html": [
       "<div>\n",
       "<style>\n",
       "    .dataframe thead tr:only-child th {\n",
       "        text-align: right;\n",
       "    }\n",
       "\n",
       "    .dataframe thead th {\n",
       "        text-align: left;\n",
       "    }\n",
       "\n",
       "    .dataframe tbody tr th {\n",
       "        vertical-align: top;\n",
       "    }\n",
       "</style>\n",
       "<table border=\"1\" class=\"dataframe\">\n",
       "  <thead>\n",
       "    <tr style=\"text-align: right;\">\n",
       "      <th></th>\n",
       "      <th>COUNT</th>\n",
       "    </tr>\n",
       "  </thead>\n",
       "  <tbody>\n",
       "    <tr>\n",
       "      <th>0</th>\n",
       "      <td>210255</td>\n",
       "    </tr>\n",
       "  </tbody>\n",
       "</table>\n",
       "</div>"
      ],
      "text/plain": [
       "    COUNT\n",
       "0  210255"
      ]
     },
     "execution_count": 25,
     "metadata": {},
     "output_type": "execute_result"
    }
   ],
   "source": [
    "# Test table\n",
    "i.query_df(f\"\"\"\n",
    "SELECT COUNT(DISTINCT empi_id)\n",
    "FROM {coc}\n",
    "\"\"\",1)"
   ]
  },
  {
   "cell_type": "code",
   "execution_count": 26,
   "metadata": {},
   "outputs": [
    {
     "data": {
      "text/html": [
       "<div>\n",
       "<style>\n",
       "    .dataframe thead tr:only-child th {\n",
       "        text-align: right;\n",
       "    }\n",
       "\n",
       "    .dataframe thead th {\n",
       "        text-align: left;\n",
       "    }\n",
       "\n",
       "    .dataframe tbody tr th {\n",
       "        vertical-align: top;\n",
       "    }\n",
       "</style>\n",
       "<table border=\"1\" class=\"dataframe\">\n",
       "  <thead>\n",
       "    <tr style=\"text-align: right;\">\n",
       "      <th></th>\n",
       "      <th>COUNT</th>\n",
       "    </tr>\n",
       "  </thead>\n",
       "  <tbody>\n",
       "    <tr>\n",
       "      <th>0</th>\n",
       "      <td>4768891</td>\n",
       "    </tr>\n",
       "  </tbody>\n",
       "</table>\n",
       "</div>"
      ],
      "text/plain": [
       "     COUNT\n",
       "0  4768891"
      ]
     },
     "execution_count": 26,
     "metadata": {},
     "output_type": "execute_result"
    }
   ],
   "source": [
    "i.query_df(f\"\"\"\n",
    "SELECT COUNT(*)\n",
    "FROM {coc}\n",
    "\"\"\",1)"
   ]
  },
  {
   "cell_type": "markdown",
   "metadata": {},
   "source": [
    "# 5. COCI "
   ]
  },
  {
   "cell_type": "markdown",
   "metadata": {},
   "source": [
    "## 5A. Describe Attribution Makeup"
   ]
  },
  {
   "cell_type": "markdown",
   "metadata": {},
   "source": [
    "## 5B. Calculate the COCI (Patient Level)\n",
    "One visit per day. If one of the providers was attributed, then counts towards numerator."
   ]
  },
  {
   "cell_type": "code",
   "execution_count": 27,
   "metadata": {
    "collapsed": true
   },
   "outputs": [],
   "source": [
    "# visits per empi per provider (given they were attributed)\n",
    "visit_count_per_attributed_prsnl = f\"\"\"\n",
    "SELECT\n",
    "    a.empi_id,\n",
    "    a.prsnl_id,\n",
    "    a.name,\n",
    "    COUNT(DISTINCT a.service_date_id) as visit_count_attr\n",
    "FROM {coc} a\n",
    "    JOIN {i.schema}.PH_F_Attribution b ON(\n",
    "        a.empi_id = b.empi_id\n",
    "        AND a.prsnl_id = b.prsnl_id)\n",
    "GROUP BY 1,2,3 ORDER BY 4 DESC\n",
    "\"\"\"\n",
    "\n",
    "# visits per empi across all providers (regardless of attribution)\n",
    "visit_count_total = f\"\"\"\n",
    "SELECT\n",
    "    empi_id,\n",
    "    COUNT(DISTINCT service_date_id) visit_count_total\n",
    "FROM {coc} a\n",
    "GROUP BY 1\n",
    "\"\"\"\n",
    "\n",
    "# coci =  num visits empi had with attr prsnl / num visits all prsnl\n",
    "# given they had more than 1 visit_count_total\n",
    "coci_query = f\"\"\"\n",
    "SELECT DISTINCT\n",
    "    a.empi_id,\n",
    "    a.prsnl_id,\n",
    "    a.name,\n",
    "    a.visit_count_attr,\n",
    "    b.visit_count_total,\n",
    "    CAST(ROUND(a.visit_count_attr / b.visit_count_total,3) AS FLOAT) as COCI\n",
    "FROM ({visit_count_per_attributed_prsnl}) a\n",
    "    JOIN ({visit_count_total}) b ON(\n",
    "        a.empi_id = b.empi_id\n",
    "        AND b.visit_count_total>1)\n",
    "\"\"\"\n",
    "coci_df = i.query_df(coci_query)"
   ]
  },
  {
   "cell_type": "code",
   "execution_count": 28,
   "metadata": {},
   "outputs": [
    {
     "data": {
      "text/plain": [
       "466"
      ]
     },
     "execution_count": 28,
     "metadata": {},
     "output_type": "execute_result"
    }
   ],
   "source": [
    "coci_df.prsnl_id.nunique()"
   ]
  },
  {
   "cell_type": "code",
   "execution_count": 29,
   "metadata": {},
   "outputs": [
    {
     "data": {
      "text/html": [
       "<div>\n",
       "<style>\n",
       "    .dataframe thead tr:only-child th {\n",
       "        text-align: right;\n",
       "    }\n",
       "\n",
       "    .dataframe thead th {\n",
       "        text-align: left;\n",
       "    }\n",
       "\n",
       "    .dataframe tbody tr th {\n",
       "        vertical-align: top;\n",
       "    }\n",
       "</style>\n",
       "<table border=\"1\" class=\"dataframe\">\n",
       "  <thead>\n",
       "    <tr style=\"text-align: right;\">\n",
       "      <th></th>\n",
       "      <th>empi_id</th>\n",
       "      <th>prsnl_id</th>\n",
       "      <th>name</th>\n",
       "      <th>visit_count_attr</th>\n",
       "      <th>visit_count_total</th>\n",
       "      <th>COCI</th>\n",
       "    </tr>\n",
       "  </thead>\n",
       "  <tbody>\n",
       "    <tr>\n",
       "      <th>0</th>\n",
       "      <td>ac74c86a-b065-4a73-bf9c-dd57e605e73f</td>\n",
       "      <td>447b71e2-97c1-45ac-a05d-99b0001a7714</td>\n",
       "      <td>Mabe MD, Jeremy D</td>\n",
       "      <td>3</td>\n",
       "      <td>3</td>\n",
       "      <td>1.0</td>\n",
       "    </tr>\n",
       "  </tbody>\n",
       "</table>\n",
       "</div>"
      ],
      "text/plain": [
       "                                empi_id                              prsnl_id  \\\n",
       "0  ac74c86a-b065-4a73-bf9c-dd57e605e73f  447b71e2-97c1-45ac-a05d-99b0001a7714   \n",
       "\n",
       "                name  visit_count_attr  visit_count_total  COCI  \n",
       "0  Mabe MD, Jeremy D                 3                  3   1.0  "
      ]
     },
     "execution_count": 29,
     "metadata": {},
     "output_type": "execute_result"
    }
   ],
   "source": [
    "coci_df.head(1)"
   ]
  },
  {
   "cell_type": "markdown",
   "metadata": {},
   "source": [
    "# 5B(1). Calculate COCI (Patient Level) | Attributable prsnl"
   ]
  },
  {
   "cell_type": "code",
   "execution_count": 30,
   "metadata": {
    "collapsed": true
   },
   "outputs": [],
   "source": [
    "# visits per empi per provider (given they were attributed)\n",
    "visit_count_per_attributed_prsnl = f\"\"\"\n",
    "SELECT\n",
    "    a.empi_id,\n",
    "    a.prsnl_id,\n",
    "    a.name,\n",
    "    COUNT(DISTINCT a.service_date_id) as visit_count_attr\n",
    "FROM {coc} a\n",
    "    JOIN {i.schema}.PH_F_Attribution b ON(\n",
    "        a.empi_id = b.empi_id\n",
    "        AND a.prsnl_id = b.prsnl_id)\n",
    "GROUP BY 1,2,3 ORDER BY 4 DESC\n",
    "\"\"\"\n",
    "\n",
    "# visits per empi across all providers (given they were attributable)\n",
    "visit_count_total = f\"\"\"\n",
    "SELECT\n",
    "    a.empi_id,\n",
    "    COUNT(DISTINCT a.service_date_id) visit_count_total\n",
    "FROM {coc} a\n",
    "JOIN {i.schema}.PH_F_Attribution b ON(\n",
    "    a.prsnl_id = b.prsnl_id)\n",
    "GROUP BY 1\n",
    "\"\"\"\n",
    "\n",
    "# coci =  num visits empi had with attr prsnl / num visits all attributable prsnl\n",
    "# given they had more than 1 visit_count_total\n",
    "coci_query = f\"\"\"\n",
    "SELECT DISTINCT\n",
    "    a.empi_id,\n",
    "    a.prsnl_id,\n",
    "    a.name,\n",
    "    a.visit_count_attr,\n",
    "    b.visit_count_total as visit_count_total_attr,\n",
    "    CAST(ROUND(a.visit_count_attr / b.visit_count_total,3) AS FLOAT) as COCI\n",
    "FROM ({visit_count_per_attributed_prsnl}) a\n",
    "    JOIN ({visit_count_total}) b ON(\n",
    "        a.empi_id = b.empi_id\n",
    "        AND b.visit_count_total>1)\n",
    "\"\"\"\n",
    "coci_df_attr = i.query_df(coci_query)"
   ]
  },
  {
   "cell_type": "code",
   "execution_count": 31,
   "metadata": {},
   "outputs": [
    {
     "data": {
      "text/plain": [
       "466"
      ]
     },
     "execution_count": 31,
     "metadata": {},
     "output_type": "execute_result"
    }
   ],
   "source": [
    "coci_df.prsnl_id.nunique()"
   ]
  },
  {
   "cell_type": "code",
   "execution_count": 32,
   "metadata": {},
   "outputs": [
    {
     "data": {
      "text/plain": [
       "465"
      ]
     },
     "execution_count": 32,
     "metadata": {},
     "output_type": "execute_result"
    }
   ],
   "source": [
    "coci_df_attr.prsnl_id.nunique()"
   ]
  },
  {
   "cell_type": "code",
   "execution_count": 33,
   "metadata": {},
   "outputs": [
    {
     "data": {
      "text/html": [
       "<div>\n",
       "<style>\n",
       "    .dataframe thead tr:only-child th {\n",
       "        text-align: right;\n",
       "    }\n",
       "\n",
       "    .dataframe thead th {\n",
       "        text-align: left;\n",
       "    }\n",
       "\n",
       "    .dataframe tbody tr th {\n",
       "        vertical-align: top;\n",
       "    }\n",
       "</style>\n",
       "<table border=\"1\" class=\"dataframe\">\n",
       "  <thead>\n",
       "    <tr style=\"text-align: right;\">\n",
       "      <th></th>\n",
       "      <th>empi_id</th>\n",
       "      <th>prsnl_id</th>\n",
       "      <th>name</th>\n",
       "      <th>visit_count_attr</th>\n",
       "      <th>visit_count_total</th>\n",
       "      <th>COCI</th>\n",
       "    </tr>\n",
       "  </thead>\n",
       "  <tbody>\n",
       "    <tr>\n",
       "      <th>0</th>\n",
       "      <td>ac74c86a-b065-4a73-bf9c-dd57e605e73f</td>\n",
       "      <td>447b71e2-97c1-45ac-a05d-99b0001a7714</td>\n",
       "      <td>Mabe MD, Jeremy D</td>\n",
       "      <td>3</td>\n",
       "      <td>3</td>\n",
       "      <td>1.0</td>\n",
       "    </tr>\n",
       "  </tbody>\n",
       "</table>\n",
       "</div>"
      ],
      "text/plain": [
       "                                empi_id                              prsnl_id  \\\n",
       "0  ac74c86a-b065-4a73-bf9c-dd57e605e73f  447b71e2-97c1-45ac-a05d-99b0001a7714   \n",
       "\n",
       "                name  visit_count_attr  visit_count_total  COCI  \n",
       "0  Mabe MD, Jeremy D                 3                  3   1.0  "
      ]
     },
     "execution_count": 33,
     "metadata": {},
     "output_type": "execute_result"
    }
   ],
   "source": [
    "coci_df.head(1)"
   ]
  },
  {
   "cell_type": "code",
   "execution_count": 34,
   "metadata": {
    "collapsed": true
   },
   "outputs": [],
   "source": [
    "coci_merged_df = coci_df_attr.merge(coci_df,how='outer')"
   ]
  },
  {
   "cell_type": "code",
   "execution_count": 35,
   "metadata": {},
   "outputs": [
    {
     "data": {
      "text/html": [
       "<div>\n",
       "<style>\n",
       "    .dataframe thead tr:only-child th {\n",
       "        text-align: right;\n",
       "    }\n",
       "\n",
       "    .dataframe thead th {\n",
       "        text-align: left;\n",
       "    }\n",
       "\n",
       "    .dataframe tbody tr th {\n",
       "        vertical-align: top;\n",
       "    }\n",
       "</style>\n",
       "<table border=\"1\" class=\"dataframe\">\n",
       "  <thead>\n",
       "    <tr style=\"text-align: right;\">\n",
       "      <th></th>\n",
       "      <th>empi_id</th>\n",
       "      <th>prsnl_id</th>\n",
       "      <th>name</th>\n",
       "      <th>visit_count_attr</th>\n",
       "      <th>visit_count_total_attr</th>\n",
       "      <th>COCI</th>\n",
       "      <th>visit_count_total</th>\n",
       "    </tr>\n",
       "  </thead>\n",
       "  <tbody>\n",
       "    <tr>\n",
       "      <th>0</th>\n",
       "      <td>7e63d7a6-0a0f-4571-87d6-da2261093ec0</td>\n",
       "      <td>8ce5e04b-3e3e-4db1-ba81-04693a5e65ca</td>\n",
       "      <td>Jett MD, Dayna Rae</td>\n",
       "      <td>3</td>\n",
       "      <td>8.0</td>\n",
       "      <td>0.375</td>\n",
       "      <td>NaN</td>\n",
       "    </tr>\n",
       "  </tbody>\n",
       "</table>\n",
       "</div>"
      ],
      "text/plain": [
       "                                empi_id                              prsnl_id  \\\n",
       "0  7e63d7a6-0a0f-4571-87d6-da2261093ec0  8ce5e04b-3e3e-4db1-ba81-04693a5e65ca   \n",
       "\n",
       "                 name  visit_count_attr  visit_count_total_attr   COCI  \\\n",
       "0  Jett MD, Dayna Rae                 3                     8.0  0.375   \n",
       "\n",
       "   visit_count_total  \n",
       "0                NaN  "
      ]
     },
     "execution_count": 35,
     "metadata": {},
     "output_type": "execute_result"
    }
   ],
   "source": [
    "coci_merged_df.head(1)"
   ]
  },
  {
   "cell_type": "markdown",
   "metadata": {},
   "source": [
    "## 6. Calculate the COCI (Prsnl Level)"
   ]
  },
  {
   "cell_type": "code",
   "execution_count": 36,
   "metadata": {
    "collapsed": true
   },
   "outputs": [],
   "source": [
    "# empi should already be filtered to only empi who had 2+ visits\n",
    "# keep visits only if the prsnl_id was in the Attribution table\n",
    "attributable_prsnl = f\"\"\"\n",
    "SELECT\n",
    "    a.empi_id,\n",
    "    a.prsnl_id,\n",
    "    a.name,\n",
    "    a.COCI\n",
    "FROM ({coci_query}) a\n",
    "JOIN {i.schema}.PH_F_Attribution b ON(\n",
    "    a.prsnl_id = b.prsnl_id)\n",
    "\"\"\"\n",
    "\n",
    "# for each prsnl, average coci, count empi\n",
    "prov_rollup = f\"\"\"\n",
    "SELECT\n",
    "a.prsnl_id,\n",
    "a.name,\n",
    "--a.prsnl_group_name,\n",
    "COUNT(DISTINCT a.empi_id) as coci_empi_ct,\n",
    "CAST(ROUND(AVG(a.COCI),3) AS FLOAT) as avg_coci\n",
    "FROM ({attributable_prsnl}) a\n",
    "GROUP BY 1,2\n",
    "\"\"\"\n",
    "# empi_id attributed to each prov_id\n",
    "attr_coci = f\"\"\"\n",
    "SELECT\n",
    "a.prsnl_id,\n",
    "COUNT(DISTINCT empi_id) attr_empi_ct\n",
    "FROM {i.schema}.PH_F_Attribution a\n",
    "GROUP BY 1\n",
    "\"\"\"\n",
    "# combine the tables\n",
    "coci_summary = f\"\"\"\n",
    "SELECT\n",
    "a.prsnl_id,\n",
    "a.name,\n",
    "a.avg_coci,\n",
    "a.coci_empi_ct,\n",
    "b.attr_empi_ct\n",
    "FROM ({prov_rollup}) a\n",
    "JOIN ({attr_coci}) b ON(\n",
    "    a.prsnl_id = b.prsnl_id)\n",
    "\"\"\"\n",
    "coci_prsnl_df = i.query_df(coci_summary)"
   ]
  },
  {
   "cell_type": "code",
   "execution_count": 37,
   "metadata": {},
   "outputs": [
    {
     "data": {
      "text/plain": [
       "465"
      ]
     },
     "execution_count": 37,
     "metadata": {},
     "output_type": "execute_result"
    }
   ],
   "source": [
    "coci_prsnl_df.prsnl_id.nunique()"
   ]
  },
  {
   "cell_type": "code",
   "execution_count": 38,
   "metadata": {},
   "outputs": [
    {
     "data": {
      "text/html": [
       "<div>\n",
       "<style>\n",
       "    .dataframe thead tr:only-child th {\n",
       "        text-align: right;\n",
       "    }\n",
       "\n",
       "    .dataframe thead th {\n",
       "        text-align: left;\n",
       "    }\n",
       "\n",
       "    .dataframe tbody tr th {\n",
       "        vertical-align: top;\n",
       "    }\n",
       "</style>\n",
       "<table border=\"1\" class=\"dataframe\">\n",
       "  <thead>\n",
       "    <tr style=\"text-align: right;\">\n",
       "      <th></th>\n",
       "      <th>prsnl_id</th>\n",
       "      <th>name</th>\n",
       "      <th>avg_coci</th>\n",
       "      <th>coci_empi_ct</th>\n",
       "      <th>attr_empi_ct</th>\n",
       "    </tr>\n",
       "  </thead>\n",
       "  <tbody>\n",
       "    <tr>\n",
       "      <th>0</th>\n",
       "      <td>0b005c8e-b62d-445b-bc27-53d64ef7b302</td>\n",
       "      <td>Albrecht FNP, Faye</td>\n",
       "      <td>0.427</td>\n",
       "      <td>107</td>\n",
       "      <td>343</td>\n",
       "    </tr>\n",
       "  </tbody>\n",
       "</table>\n",
       "</div>"
      ],
      "text/plain": [
       "                               prsnl_id                name  avg_coci  \\\n",
       "0  0b005c8e-b62d-445b-bc27-53d64ef7b302  Albrecht FNP, Faye     0.427   \n",
       "\n",
       "   coci_empi_ct  attr_empi_ct  \n",
       "0           107           343  "
      ]
     },
     "execution_count": 38,
     "metadata": {},
     "output_type": "execute_result"
    }
   ],
   "source": [
    "coci_prsnl_df.head(1)"
   ]
  },
  {
   "cell_type": "code",
   "execution_count": 39,
   "metadata": {
    "collapsed": true
   },
   "outputs": [],
   "source": [
    "# # export patient-level or provider-level continuity data\n",
    "# coci_prsnl_df.to_csv(f\"{i.schema}_coci_prsnl_df.csv\")\n",
    "# coci_df.to_csv(f\"{i.schema}_coci_empi_df.csv\")"
   ]
  },
  {
   "cell_type": "markdown",
   "metadata": {},
   "source": [
    "# 7. Investigation / Validation"
   ]
  },
  {
   "cell_type": "code",
   "execution_count": 40,
   "metadata": {
    "collapsed": true
   },
   "outputs": [],
   "source": [
    "# # choose a prsnl\n",
    "# coci_prsnl_df.sample(1)"
   ]
  },
  {
   "cell_type": "code",
   "execution_count": 41,
   "metadata": {
    "collapsed": true
   },
   "outputs": [],
   "source": [
    "# prsnl_to_investigate = \"1b3c9bfd-b8b1-4471-b130-6483cc853172\""
   ]
  },
  {
   "cell_type": "markdown",
   "metadata": {},
   "source": [
    "### 7.1 Prsnl COCI"
   ]
  },
  {
   "cell_type": "code",
   "execution_count": 42,
   "metadata": {},
   "outputs": [],
   "source": [
    "# # what were the visits / COCI for the provider?\n",
    "# coci_prsnl_df.loc[coci_prsnl_df.prsnl_id==prsnl_to_investigate]"
   ]
  },
  {
   "cell_type": "code",
   "execution_count": 43,
   "metadata": {},
   "outputs": [],
   "source": [
    "# # what were the visits / COCI for the provider?\n",
    "# coci_prsnl_df.loc[coci_prsnl_df.prsnl_id==prsnl_to_investigate]"
   ]
  },
  {
   "cell_type": "markdown",
   "metadata": {},
   "source": [
    "### 7.2 Empi_id COCI"
   ]
  },
  {
   "cell_type": "code",
   "execution_count": 44,
   "metadata": {},
   "outputs": [],
   "source": [
    "# # what were the visits / COCI for their patients?\n",
    "# coci_df.loc[coci_df.prsnl_id==prsnl_to_investigate].reset_index()"
   ]
  },
  {
   "cell_type": "code",
   "execution_count": 45,
   "metadata": {
    "scrolled": true
   },
   "outputs": [],
   "source": [
    "# # what were the visits / COCI for their patients?\n",
    "# coci_df.loc[coci_df.prsnl_id==prsnl_to_investigate].reset_index()"
   ]
  },
  {
   "cell_type": "markdown",
   "metadata": {},
   "source": [
    "### 7.3 Empi_id Visits"
   ]
  },
  {
   "cell_type": "code",
   "execution_count": 46,
   "metadata": {
    "collapsed": true
   },
   "outputs": [],
   "source": [
    "# # pick an empi_id to investigate\n",
    "# empi_to_investigate = '5bc7338b-6f0f-4076-a6f7-5842b35c5917'"
   ]
  },
  {
   "cell_type": "code",
   "execution_count": 47,
   "metadata": {},
   "outputs": [],
   "source": [
    "# # empi_id numerator\n",
    "# i.query_df(f\"\"\"\n",
    "# SELECT\n",
    "#     empi_id,\n",
    "#     COUNT(DISTINCT service_date_id) visit_count_total\n",
    "# FROM ({coc_mmary})\n",
    "# WHERE empi_id = '{empi_to_investigate}'\n",
    "# GROUP BY 1\n",
    "# \"\"\",1)"
   ]
  },
  {
   "cell_type": "code",
   "execution_count": 48,
   "metadata": {},
   "outputs": [],
   "source": [
    "# # emp_id visits per provider\n",
    "# i.query_df(f\"\"\"\n",
    "# SELECT DISTINCT\n",
    "# a.name,\n",
    "# COUNT(DISTINCT a.service_date_id)\n",
    "# FROM {coc} a\n",
    "# WHERE empi_id = '{empi_to_investigate}'\n",
    "# GROUP BY 1\n",
    "# ORDER BY a.name\n",
    "# \"\"\")"
   ]
  },
  {
   "cell_type": "markdown",
   "metadata": {},
   "source": [
    "# 8. Organization"
   ]
  },
  {
   "cell_type": "code",
   "execution_count": 49,
   "metadata": {},
   "outputs": [
    {
     "data": {
      "text/html": [
       "<div>\n",
       "<style>\n",
       "    .dataframe thead tr:only-child th {\n",
       "        text-align: right;\n",
       "    }\n",
       "\n",
       "    .dataframe thead th {\n",
       "        text-align: left;\n",
       "    }\n",
       "\n",
       "    .dataframe tbody tr th {\n",
       "        vertical-align: top;\n",
       "    }\n",
       "</style>\n",
       "<table border=\"1\" class=\"dataframe\">\n",
       "  <thead>\n",
       "    <tr style=\"text-align: right;\">\n",
       "      <th></th>\n",
       "      <th>prsnl_id</th>\n",
       "      <th>name</th>\n",
       "      <th>avg_coci</th>\n",
       "      <th>coci_empi_ct</th>\n",
       "      <th>attr_empi_ct</th>\n",
       "    </tr>\n",
       "  </thead>\n",
       "  <tbody>\n",
       "    <tr>\n",
       "      <th>0</th>\n",
       "      <td>0b005c8e-b62d-445b-bc27-53d64ef7b302</td>\n",
       "      <td>Albrecht FNP, Faye</td>\n",
       "      <td>0.427</td>\n",
       "      <td>107</td>\n",
       "      <td>343</td>\n",
       "    </tr>\n",
       "  </tbody>\n",
       "</table>\n",
       "</div>"
      ],
      "text/plain": [
       "                               prsnl_id                name  avg_coci  \\\n",
       "0  0b005c8e-b62d-445b-bc27-53d64ef7b302  Albrecht FNP, Faye     0.427   \n",
       "\n",
       "   coci_empi_ct  attr_empi_ct  \n",
       "0           107           343  "
      ]
     },
     "execution_count": 49,
     "metadata": {},
     "output_type": "execute_result"
    }
   ],
   "source": [
    "coci_prsnl_df.head(1)"
   ]
  },
  {
   "cell_type": "code",
   "execution_count": 50,
   "metadata": {
    "collapsed": true
   },
   "outputs": [],
   "source": [
    "org_df = i.query_df(f\"\"\"\n",
    "SELECT DISTINCT\n",
    "\toc.org_class_name,\n",
    "\torg.org_name,\n",
    "\tprsnl.prsnl_id,\n",
    "\tINITCAP(prsnl.prsnl_name) AS prsnl_name,\n",
    "\tMAX(CASE WHEN pg.prsnl_group_name ILIKE '%scorable%' THEN 1 ELSE 0 END) AS scorable_ind,\n",
    "\tMAX(CASE WHEN pg.prsnl_group_name ILIKE '%attributable%' THEN 1 ELSE 0 END) AS attributable_ind,\n",
    "\tMAX(CASE WHEN pg.prsnl_group_mnemonic ILIKE '%scoring%' THEN 1 ELSE 0 END) AS scoring_personnel_group_mnemonic,\n",
    "        scoring_group.prsnl_group_name AS scoring_group,\n",
    "\tsc_prsnl.scoring_group AS scorecard_scoring_group_id,\n",
    "\tsp.name AS scoring_plan_name,\n",
    "\topr.reltn_type AS organization_relationship_type,\n",
    "     COUNT(DISTINCT(attr.empi_id)) AS attributable_empi_count\n",
    "FROM\n",
    "\t{i.schema}.PH_D_Organization org\n",
    "\tLEFT OUTER JOIN {i.schema}.PH_D_Organization_Organization_Class_Reltn oocr ON (\n",
    "\t\torg.org_id = oocr.org_id\n",
    "\t\tAND org.version = oocr.version\n",
    "\t)\n",
    "\tLEFT OUTER JOIN {i.schema}.PH_D_Organization_Class oc ON (\n",
    "\t\toc.org_class_id = oocr.org_class_id \n",
    "\t\tAND oc.version = oocr.version\n",
    "\t)\n",
    "\tLEFT OUTER JOIN {i.schema}.PH_D_Organization_Personnel_Reltn opr ON \n",
    "\t(\n",
    "\t\torg.org_id = opr.org_id\n",
    "\t\tAND org.version = opr.version\n",
    "\t)\n",
    "\tLEFT OUTER JOIN {i.schema}.PH_D_Personnel prsnl ON (\n",
    "\t\topr.prsnl_id = prsnl.prsnl_id\n",
    "\t\tAND opr.version = prsnl.version\n",
    "\t)\n",
    "\tLEFT OUTER JOIN {i.schema}.PH_F_Scorecard_Personnel sc_prsnl ON (\n",
    "\t\tprsnl.prsnl_id = sc_prsnl.prsnl_id\n",
    "                AND prsnl.version = sc_prsnl.version\n",
    "\t)\n",
    "\tLEFT OUTER JOIN {i.schema}.PH_D_Scoring_Plan sp ON (\n",
    "\t\tsc_prsnl.scoring_plan_id = sp.scoring_plan_id\n",
    "                AND sc_prsnl.version = sp.version\n",
    "\t)\n",
    "\tLEFT OUTER JOIN {i.schema}.PH_D_Personnel_Personnel_Group_Reltn ppgr ON (\n",
    "\t\tppgr.prsnl_id = prsnl.prsnl_id\n",
    "                AND ppgr.version = prsnl.version\n",
    "\t)\n",
    "\tLEFT OUTER JOIN {i.schema}.PH_D_Personnel_Group pg ON (\n",
    "\t\tpg.prsnl_group_id = ppgr.prsnl_group_id\n",
    "                AND pg.version = ppgr.version\n",
    "\t)\n",
    "\tLEFT OUTER JOIN (\n",
    "\t\tSELECT\n",
    "\t\t\tppgr.prsnl_id,\n",
    "\t\t\tpg.prsnl_group_name\n",
    "\t\tFROM\n",
    "\t\t\t{i.schema}.PH_D_Personnel_Personnel_Group_Reltn ppgr\n",
    "\t\t\tINNER JOIN {i.schema}.PH_D_Personnel_Group pg ON (\n",
    "\t\t\t\tppgr.prsnl_group_id = pg.prsnl_group_id\n",
    "\t\t\t)\n",
    "\t\tWHERE\n",
    "\t\t\tpg.prsnl_group_mnemonic = 'scoring'\n",
    "\t) scoring_group ON (\n",
    "\t\tscoring_group.prsnl_id = prsnl.prsnl_id\n",
    "\t)\n",
    "\tLEFT OUTER JOIN {i.schema}.PH_F_Attribution attr ON \n",
    "\t(\n",
    "\t\tattr.prsnl_id = prsnl.prsnl_id\n",
    "\t)\n",
    "WHERE\n",
    "\tprsnl.active_ind = TRUE\n",
    "GROUP BY\n",
    "\t1,2,3,4,8,9,10,11\n",
    "ORDER BY\n",
    "\torg_class_name,\n",
    "\torg_name,\n",
    "\tprsnl_name\n",
    "\"\"\")"
   ]
  },
  {
   "cell_type": "code",
   "execution_count": 51,
   "metadata": {},
   "outputs": [
    {
     "data": {
      "text/html": [
       "<div>\n",
       "<style>\n",
       "    .dataframe thead tr:only-child th {\n",
       "        text-align: right;\n",
       "    }\n",
       "\n",
       "    .dataframe thead th {\n",
       "        text-align: left;\n",
       "    }\n",
       "\n",
       "    .dataframe tbody tr th {\n",
       "        vertical-align: top;\n",
       "    }\n",
       "</style>\n",
       "<table border=\"1\" class=\"dataframe\">\n",
       "  <thead>\n",
       "    <tr style=\"text-align: right;\">\n",
       "      <th></th>\n",
       "      <th>org_class_name</th>\n",
       "      <th>org_name</th>\n",
       "      <th>prsnl_id</th>\n",
       "      <th>prsnl_name</th>\n",
       "      <th>scorable_ind</th>\n",
       "      <th>attributable_ind</th>\n",
       "      <th>scoring_personnel_group_mnemonic</th>\n",
       "      <th>scoring_group</th>\n",
       "      <th>scorecard_scoring_group_id</th>\n",
       "      <th>scoring_plan_name</th>\n",
       "      <th>organization_relationship_type</th>\n",
       "      <th>attributable_empi_count</th>\n",
       "    </tr>\n",
       "  </thead>\n",
       "  <tbody>\n",
       "    <tr>\n",
       "      <th>0</th>\n",
       "      <td>CMG</td>\n",
       "      <td>Adult Medicine &amp; Endocrinology Specialists</td>\n",
       "      <td>7b0bb72b-abfd-4c4c-9550-eeb6f9672bea</td>\n",
       "      <td>Allen Fnp, Helen M</td>\n",
       "      <td>0</td>\n",
       "      <td>1</td>\n",
       "      <td>1</td>\n",
       "      <td>NPP PCP</td>\n",
       "      <td>None</td>\n",
       "      <td>None</td>\n",
       "      <td>MEMBER</td>\n",
       "      <td>2</td>\n",
       "    </tr>\n",
       "  </tbody>\n",
       "</table>\n",
       "</div>"
      ],
      "text/plain": [
       "  org_class_name                                    org_name  \\\n",
       "0            CMG  Adult Medicine & Endocrinology Specialists   \n",
       "\n",
       "                               prsnl_id          prsnl_name  scorable_ind  \\\n",
       "0  7b0bb72b-abfd-4c4c-9550-eeb6f9672bea  Allen Fnp, Helen M             0   \n",
       "\n",
       "   attributable_ind  scoring_personnel_group_mnemonic scoring_group  \\\n",
       "0                 1                                 1       NPP PCP   \n",
       "\n",
       "  scorecard_scoring_group_id scoring_plan_name organization_relationship_type  \\\n",
       "0                       None              None                         MEMBER   \n",
       "\n",
       "   attributable_empi_count  \n",
       "0                        2  "
      ]
     },
     "execution_count": 51,
     "metadata": {},
     "output_type": "execute_result"
    }
   ],
   "source": [
    "org_df.head(1)"
   ]
  },
  {
   "cell_type": "code",
   "execution_count": 52,
   "metadata": {
    "collapsed": true
   },
   "outputs": [],
   "source": [
    "coci_org = coci_prsnl_df.merge(org_df,how='left')"
   ]
  },
  {
   "cell_type": "code",
   "execution_count": 53,
   "metadata": {},
   "outputs": [
    {
     "data": {
      "text/html": [
       "<div>\n",
       "<style>\n",
       "    .dataframe thead tr:only-child th {\n",
       "        text-align: right;\n",
       "    }\n",
       "\n",
       "    .dataframe thead th {\n",
       "        text-align: left;\n",
       "    }\n",
       "\n",
       "    .dataframe tbody tr th {\n",
       "        vertical-align: top;\n",
       "    }\n",
       "</style>\n",
       "<table border=\"1\" class=\"dataframe\">\n",
       "  <thead>\n",
       "    <tr style=\"text-align: right;\">\n",
       "      <th></th>\n",
       "      <th>prsnl_id</th>\n",
       "      <th>name</th>\n",
       "      <th>avg_coci</th>\n",
       "      <th>coci_empi_ct</th>\n",
       "      <th>attr_empi_ct</th>\n",
       "      <th>org_class_name</th>\n",
       "      <th>org_name</th>\n",
       "      <th>prsnl_name</th>\n",
       "      <th>scorable_ind</th>\n",
       "      <th>attributable_ind</th>\n",
       "      <th>scoring_personnel_group_mnemonic</th>\n",
       "      <th>scoring_group</th>\n",
       "      <th>scorecard_scoring_group_id</th>\n",
       "      <th>scoring_plan_name</th>\n",
       "      <th>organization_relationship_type</th>\n",
       "      <th>attributable_empi_count</th>\n",
       "    </tr>\n",
       "  </thead>\n",
       "  <tbody>\n",
       "    <tr>\n",
       "      <th>0</th>\n",
       "      <td>0b005c8e-b62d-445b-bc27-53d64ef7b302</td>\n",
       "      <td>Albrecht FNP, Faye</td>\n",
       "      <td>0.427</td>\n",
       "      <td>107</td>\n",
       "      <td>343</td>\n",
       "      <td>CMG</td>\n",
       "      <td>Cox Senior Health Center South</td>\n",
       "      <td>Albrecht Fnp, Faye</td>\n",
       "      <td>1.0</td>\n",
       "      <td>1.0</td>\n",
       "      <td>1.0</td>\n",
       "      <td>NPP PCP</td>\n",
       "      <td>None</td>\n",
       "      <td>None</td>\n",
       "      <td>MEMBER</td>\n",
       "      <td>343.0</td>\n",
       "    </tr>\n",
       "  </tbody>\n",
       "</table>\n",
       "</div>"
      ],
      "text/plain": [
       "                               prsnl_id                name  avg_coci  \\\n",
       "0  0b005c8e-b62d-445b-bc27-53d64ef7b302  Albrecht FNP, Faye     0.427   \n",
       "\n",
       "   coci_empi_ct  attr_empi_ct org_class_name                        org_name  \\\n",
       "0           107           343            CMG  Cox Senior Health Center South   \n",
       "\n",
       "           prsnl_name  scorable_ind  attributable_ind  \\\n",
       "0  Albrecht Fnp, Faye           1.0               1.0   \n",
       "\n",
       "   scoring_personnel_group_mnemonic scoring_group scorecard_scoring_group_id  \\\n",
       "0                               1.0       NPP PCP                       None   \n",
       "\n",
       "  scoring_plan_name organization_relationship_type  attributable_empi_count  \n",
       "0              None                         MEMBER                    343.0  "
      ]
     },
     "execution_count": 53,
     "metadata": {},
     "output_type": "execute_result"
    }
   ],
   "source": [
    "coci_org.head(1)"
   ]
  },
  {
   "cell_type": "code",
   "execution_count": 54,
   "metadata": {
    "collapsed": true
   },
   "outputs": [],
   "source": [
    "coci_org.to_csv(f\"coci_org_{i.schema}_attr.csv\")"
   ]
  },
  {
   "cell_type": "code",
   "execution_count": null,
   "metadata": {
    "collapsed": true
   },
   "outputs": [],
   "source": []
  }
 ],
 "metadata": {
  "kernelspec": {
   "display_name": "Python 3",
   "language": "python",
   "name": "python3"
  },
  "language_info": {
   "codemirror_mode": {
    "name": "ipython",
    "version": 3
   },
   "file_extension": ".py",
   "mimetype": "text/x-python",
   "name": "python",
   "nbconvert_exporter": "python",
   "pygments_lexer": "ipython3",
   "version": "3.6.3"
  }
 },
 "nbformat": 4,
 "nbformat_minor": 2
}
