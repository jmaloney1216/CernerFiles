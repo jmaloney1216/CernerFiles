{
 "cells": [
  {
   "cell_type": "markdown",
   "metadata": {},
   "source": [
    "# A. Data"
   ]
  },
  {
   "cell_type": "markdown",
   "metadata": {},
   "source": [
    "# 1. Import Packages"
   ]
  },
  {
   "cell_type": "code",
   "execution_count": 1,
   "metadata": {},
   "outputs": [],
   "source": [
    "import pandas as pd # dataframes\n",
    "import numpy as np # math\n",
    "import seaborn as sns # visuals\n",
    "import PandasToPowerPoint as p2p # make PowerPoints\n",
    "import calendar # for adding date names\n",
    "from scipy.stats import f_oneway, ttest_rel # statistics\n",
    "import matplotlib.pyplot as plt # more visuals (histogram)\n",
    "import matplotlib as mpl # even more visuals (histogram)\n",
    "from pptx.enum.dml import MSO_THEME_COLOR # color text based on PPT theme\n",
    "from pptx.util import Inches, Pt # add Inches for sizing PPT elements\n",
    "from pptx.enum.text import PP_ALIGN # for aligning text\n",
    "from pptx.enum.text import MSO_ANCHOR # for anchoring text in table\n",
    "from matplotlib import style # formatting visual"
   ]
  },
  {
   "cell_type": "code",
   "execution_count": 2,
   "metadata": {},
   "outputs": [],
   "source": [
    "pd.options.display.max_columns=200\n",
    "pd.options.display.max_rows=1000\n",
    "pd.options.display.max_colwidth=500"
   ]
  },
  {
   "cell_type": "markdown",
   "metadata": {},
   "source": [
    "# 2. User Input"
   ]
  },
  {
   "cell_type": "code",
   "execution_count": 3,
   "metadata": {},
   "outputs": [],
   "source": [
    "# CHW_CA for Dignity Health\n",
    "client = \"CHW_CA\"\n",
    "old_year_month = \"July 2019\"\n",
    "new_year_month = \"August 2020\"\n",
    "old_year = rf\"\\\\Mustang\\WorkOps_Pub\\Pop Health\\DataWorks\\Data Insights\\Client Files\\CHW_CA\\3. Data\\CHW_CA July 2019 All Users.csv\"\n",
    "new_year = rf\"\\\\Mustang\\WorkOps_Pub\\Pop Health\\DataWorks\\Data Insights\\Client Files\\CHW_CA\\3. Data\\CHW_CA August 2020 All Users.csv\""
   ]
  },
  {
   "cell_type": "markdown",
   "metadata": {},
   "source": [
    "# 3. Import Data"
   ]
  },
  {
   "cell_type": "code",
   "execution_count": 4,
   "metadata": {},
   "outputs": [],
   "source": [
    "# import the earlier and newer date tables\n",
    "df_old = pd.read_csv(old_year,encoding = \"ISO-8859-1\") # old data\n",
    "df_new = pd.read_csv(new_year,encoding = \"ISO-8859-1\") # new data\n",
    "# stack the old on top of new table\n",
    "df = pd.concat([\n",
    "    df_old,\n",
    "    df_new\n",
    "])"
   ]
  },
  {
   "cell_type": "code",
   "execution_count": 5,
   "metadata": {},
   "outputs": [
    {
     "data": {
      "text/plain": [
       "array(['Comprehensive Adult Wellness', 'Diabetes Mellitus'], dtype=object)"
      ]
     },
     "execution_count": 5,
     "metadata": {},
     "output_type": "execute_result"
    }
   ],
   "source": [
    "# check which registries exist in the table\n",
    "df.registry.unique()"
   ]
  },
  {
   "cell_type": "markdown",
   "metadata": {},
   "source": [
    "### Filter Requested Registries / Measures"
   ]
  },
  {
   "cell_type": "code",
   "execution_count": 6,
   "metadata": {},
   "outputs": [],
   "source": [
    "# enter registries you want; or replace with 'all'\n",
    "registries_list = ['Comprehensive Adult Wellness', 'Diabetes Mellitus']\n",
    "# keep only specified registries\n",
    "df = df.loc[df['registry'].isin(registries_list)]"
   ]
  },
  {
   "cell_type": "code",
   "execution_count": 7,
   "metadata": {},
   "outputs": [],
   "source": [
    "# # check which measures exist in the table\n",
    "# df.measure.unique()"
   ]
  },
  {
   "cell_type": "code",
   "execution_count": 8,
   "metadata": {},
   "outputs": [],
   "source": [
    "# # enter measures you want; or replace with 'all'\n",
    "# measures_list = ['Breast Cancer Screening','Colorectal Cancer Screening',\n",
    "#                 'Depression Screening','Annual Eye Exam','Medical Attention To Nephropathy',\n",
    "#                 'Bp Less Than 140 90','Depression Screening','Childhood Immunizations',\n",
    "#                 'Developmental Questionnaire Assessment Age Birth 4 Years']\n",
    "# # keep only specified registries\n",
    "# df = df.loc[df['measure'].isin(measures_list)]"
   ]
  },
  {
   "cell_type": "markdown",
   "metadata": {},
   "source": [
    "# 4. Clean Data"
   ]
  },
  {
   "cell_type": "markdown",
   "metadata": {},
   "source": [
    "## 4.1 Rename and Drop"
   ]
  },
  {
   "cell_type": "code",
   "execution_count": 9,
   "metadata": {},
   "outputs": [],
   "source": [
    "# rename columns (for quicker typing)\n",
    "df.rename(columns = {\n",
    "    'personnel_id' : 'prsnl'\n",
    "}, inplace = True)\n",
    "\n",
    "# drop unneeded columns\n",
    "#df.drop('fully_qualified_name', axis = 1, inplace = True)\n",
    "\n",
    "# change this back to original later...\n",
    "df.loc[:, 'date'] = pd.to_datetime(df.date.copy()).dt.date.astype(str)"
   ]
  },
  {
   "cell_type": "code",
   "execution_count": 10,
   "metadata": {},
   "outputs": [],
   "source": [
    "# set aside date variables for later\n",
    "dt_min = df.date.min()\n",
    "dt_max = df.date.max()"
   ]
  },
  {
   "cell_type": "code",
   "execution_count": 11,
   "metadata": {},
   "outputs": [],
   "source": [
    "# # keep only specified registries\n",
    "# df = df.loc[df['registry'].isin(registries_list)]\n",
    "# # exclude a registry\n",
    "# #df = df.loc[~df.registry.isin(['Pediatric Ibd'])]\n",
    "# #df = df.loc[~df.measure.isin(['Influenza Vaccination Given Aug To Mar'])]"
   ]
  },
  {
   "cell_type": "markdown",
   "metadata": {
    "heading_collapsed": true,
    "nbpresent": {
     "id": "1f452588-9526-4a60-a669-66e454a8b445"
    }
   },
   "source": [
    "## 4.2 Add Columns\n",
    "### Create 'All' Measure, Registry"
   ]
  },
  {
   "cell_type": "markdown",
   "metadata": {
    "heading_collapsed": true,
    "hidden": true,
    "nbpresent": {
     "id": "a911f409-3fd3-44d7-aebd-f1e0525f2517"
    }
   },
   "source": [
    "#### Measure"
   ]
  },
  {
   "cell_type": "code",
   "execution_count": 12,
   "metadata": {
    "hidden": true,
    "nbpresent": {
     "id": "f73efb2e-7381-4767-acdd-0bed9a236bb8"
    }
   },
   "outputs": [],
   "source": [
    "# for each date, registry, prsnl, sum num & den\n",
    "# sum num/den for each registry, date, prsnl\n",
    "mall = df.groupby([\n",
    "    'date',\n",
    "    'registry',\n",
    "    'prsnl'\n",
    "]).agg({\n",
    "    'numerator' : 'sum',\n",
    "    'denominator' : 'sum'\n",
    "})\n",
    "\n",
    "# call it the 'All' measure\n",
    "mall.insert(mall.shape[1], 'measure', 'All')"
   ]
  },
  {
   "cell_type": "markdown",
   "metadata": {
    "heading_collapsed": true,
    "hidden": true,
    "nbpresent": {
     "id": "82f135b4-4461-484f-8aaa-8664f6730d23"
    }
   },
   "source": [
    "#### Registry"
   ]
  },
  {
   "cell_type": "code",
   "execution_count": 13,
   "metadata": {
    "hidden": true,
    "nbpresent": {
     "id": "efa0db9a-0de6-4eae-a05b-d081712ab784"
    },
    "scrolled": true
   },
   "outputs": [],
   "source": [
    "# find total numerator/denominator for each provider across date\n",
    "rall = mall.sum(level = [\n",
    "    'date',\n",
    "    'prsnl'\n",
    "])\n",
    "\n",
    "# create 'All' registry and measure\n",
    "rall.loc[:, 'registry'], rall.loc[:, 'measure'] = 'All', 'All'"
   ]
  },
  {
   "cell_type": "markdown",
   "metadata": {
    "heading_collapsed": true,
    "hidden": true,
    "nbpresent": {
     "id": "d80b46b3-2663-4bd1-89a4-c34d2db4fa1d"
    }
   },
   "source": [
    "#### Merge"
   ]
  },
  {
   "cell_type": "code",
   "execution_count": 14,
   "metadata": {
    "hidden": true,
    "nbpresent": {
     "id": "cd63a530-418a-4d8a-aa9b-77c72dbcea7f"
    }
   },
   "outputs": [],
   "source": [
    "# reset mall, rall indices and concatenate them together\n",
    "# 9.24 added 'sort=False'\n",
    "rmall = pd.concat([\n",
    "    mall.reset_index(),\n",
    "    rall.reset_index()\n",
    "])"
   ]
  },
  {
   "cell_type": "code",
   "execution_count": 15,
   "metadata": {
    "hidden": true,
    "nbpresent": {
     "id": "cd63a530-418a-4d8a-aa9b-77c72dbcea7f"
    }
   },
   "outputs": [],
   "source": [
    "# merge rmall with df to have access to 'All' registry and measure\n",
    "df = df.merge(rmall, how = 'outer', on = rmall.columns.tolist())\n",
    "\n",
    "# replace client NaN with first client listed (should all be the same)\n",
    "#df.client = df.client.unique()[0]\n",
    "df.client = client"
   ]
  },
  {
   "cell_type": "code",
   "execution_count": 16,
   "metadata": {
    "scrolled": true
   },
   "outputs": [],
   "source": [
    "# create measure met column\n",
    "df[\"met\"] = df[\"numerator\"] / df[\"denominator\"]"
   ]
  },
  {
   "cell_type": "code",
   "execution_count": 17,
   "metadata": {},
   "outputs": [],
   "source": [
    "# make the \"data\" dataframe from df\n",
    "data = df"
   ]
  },
  {
   "cell_type": "markdown",
   "metadata": {},
   "source": [
    "# B. Current State"
   ]
  },
  {
   "cell_type": "markdown",
   "metadata": {
    "heading_collapsed": true,
    "nbpresent": {
     "id": "3928652d-1a54-42a7-84d5-594a09614076"
    }
   },
   "source": [
    "## 1. Add Stats Table"
   ]
  },
  {
   "cell_type": "markdown",
   "metadata": {
    "heading_collapsed": true,
    "hidden": true,
    "nbpresent": {
     "id": "f12e40d8-07ef-4a36-942a-99ead4f3876a"
    }
   },
   "source": [
    "### 1.1 Make Bible"
   ]
  },
  {
   "cell_type": "code",
   "execution_count": 18,
   "metadata": {
    "hidden": true,
    "nbpresent": {
     "id": "e832caa7-1fc9-46ad-912e-eab4adcc6cec"
    }
   },
   "outputs": [],
   "source": [
    "# requires one row per \n",
    "def bible(x, col):\n",
    "#     make dictionary of functions\n",
    "    d = {}\n",
    "#     count\n",
    "    d['count'] = x[col].count()\n",
    "#     standard deviation\n",
    "    d['std'] = x[col].std()\n",
    "#     median\n",
    "    d['median'] = x[col].median()\n",
    "#     mean\n",
    "    d['mean'] = x[col].mean()\n",
    "#     variance\n",
    "    d['var'] = x[col].var()\n",
    "#     lower confidence interval\n",
    "    d['lci'] = x[col].mean() - 1.96 * x[col].std() / np.sqrt(len(x))\n",
    "#     upper confidence interval\n",
    "    d['uci'] = x[col].mean() + 1.96 * x[col].std() / np.sqrt(len(x))\n",
    "#     score\n",
    "    d['score'] = x[col].std() + (1 + x[col].mean()) * 100\n",
    "#     sum of numerator\n",
    "    d['numerator_sum'] = x.numerator.sum()\n",
    "#     sum of denominator\n",
    "    d['denominator_sum'] = x.denominator.sum()\n",
    "    \n",
    "    return pd.Series(d, index = [\n",
    "        'mean',\n",
    "        'std',\n",
    "        'lci',\n",
    "        'uci',\n",
    "        'count',\n",
    "        'median',\n",
    "        'var',\n",
    "        'score',\n",
    "        'numerator_sum',\n",
    "        'denominator_sum'\n",
    "    ])"
   ]
  },
  {
   "cell_type": "markdown",
   "metadata": {
    "heading_collapsed": true,
    "hidden": true,
    "nbpresent": {
     "id": "c4985224-2999-4848-912a-eb81e09fdfbb"
    }
   },
   "source": [
    "### 1.2 Apply Bible"
   ]
  },
  {
   "cell_type": "code",
   "execution_count": 19,
   "metadata": {
    "hidden": true,
    "nbpresent": {
     "id": "df1b2eba-c840-4e01-a751-acbcf692c7f1"
    }
   },
   "outputs": [],
   "source": [
    "# apply the bible and call it the stats table\n",
    "stats_table = df.groupby([\n",
    "    'date',\n",
    "    'registry',\n",
    "    'measure'\n",
    "]).apply(bible, 'met')"
   ]
  },
  {
   "cell_type": "code",
   "execution_count": 20,
   "metadata": {
    "hidden": true,
    "nbpresent": {
     "id": "df1b2eba-c840-4e01-a751-acbcf692c7f1"
    }
   },
   "outputs": [],
   "source": [
    "# add total_measure_met\n",
    "stats_table['total_measure_met'] = stats_table.numerator_sum / stats_table.denominator_sum"
   ]
  },
  {
   "cell_type": "code",
   "execution_count": 21,
   "metadata": {
    "hidden": true,
    "nbpresent": {
     "id": "df1b2eba-c840-4e01-a751-acbcf692c7f1"
    }
   },
   "outputs": [],
   "source": [
    "# specify column order\n",
    "reorderlist = ['mean', 'std', 'lci', 'uci', 'count', 'median', 'var', 'score', 'numerator_sum', 'denominator_sum', 'total_measure_met']\n",
    "\n",
    "# unstack date and sort index (for viewing only)\n",
    "stat_unstack = stats_table.unstack('date').swaplevel(1, 0, axis = 1).sort_index(axis = 1).reindex(columns=reorderlist,level=1)"
   ]
  },
  {
   "cell_type": "code",
   "execution_count": 22,
   "metadata": {
    "hidden": true,
    "nbpresent": {
     "id": "df1b2eba-c840-4e01-a751-acbcf692c7f1"
    },
    "scrolled": true
   },
   "outputs": [],
   "source": [
    "# subtract means, subtract total_measure_mets\n",
    "stat_unstack['change_of_means'], stat_unstack['change_total_measure_met'] = stat_unstack[dt_max]['mean'] - stat_unstack[dt_min]['mean'], stat_unstack[dt_max]['total_measure_met'] - stat_unstack[dt_min]['total_measure_met']\n",
    "stat_unstack['change_of_std'], stat_unstack['change_total_measure_met'] = stat_unstack[dt_max]['std'] - stat_unstack[dt_min]['std'], stat_unstack[dt_max]['total_measure_met'] - stat_unstack[dt_min]['total_measure_met']"
   ]
  },
  {
   "cell_type": "markdown",
   "metadata": {},
   "source": [
    "## 2. Make Current State"
   ]
  },
  {
   "cell_type": "code",
   "execution_count": 23,
   "metadata": {},
   "outputs": [],
   "source": [
    "# Current State Slide per Registry\n",
    "cs = stat_unstack[dt_max]\n",
    "# Drop rows with NAs\n",
    "cs = cs.dropna(how='any',axis=0)\n",
    "# format\n",
    "cs[\"conf_int\"] = '('+((cs['lci'])*100).round(1).astype(str) + '%' + ' - ' + ((cs['uci'])*100).round(1).astype(str) + '%' +')'\n",
    "cs['mean'] = ((cs['mean'])*100).round(1).astype(str) + '%'\n",
    "cs['std'] = ((cs['std'])*100).round(1).astype(str) + '%'\n",
    "cs['count'] = cs['count'].astype(int)\n",
    "# drop unneeded columns\n",
    "cs = cs[[\n",
    "    \"count\",\n",
    "    \"mean\",\n",
    "    \"conf_int\",\n",
    "    \"std\"\n",
    "]]\n",
    "# rename columns\n",
    "cs.rename(columns={\"count\":\"Providers\",\"mean\":\"Measure Met\",\"conf_int\":\"95% Confidence Interval\",\"std\":\"Standard Deviation\"},inplace=True)\n",
    "cs = cs.reset_index()\n",
    "cs.columns = cs.columns.str.title()\n",
    "current_state = cs"
   ]
  },
  {
   "cell_type": "markdown",
   "metadata": {},
   "source": [
    "# C. Trending"
   ]
  },
  {
   "cell_type": "markdown",
   "metadata": {
    "heading_collapsed": true,
    "nbpresent": {
     "id": "ca67d022-aee7-45b4-af54-ce9cab89fb61"
    }
   },
   "source": [
    "## C.1 Intersect Personnel\n",
    "Make a table where only prsnl who appear in both old and new dates are kept"
   ]
  },
  {
   "cell_type": "code",
   "execution_count": 24,
   "metadata": {
    "hidden": true,
    "nbpresent": {
     "id": "84fffd93-b6a6-4ee8-bba2-6b7ee1ad43a6"
    }
   },
   "outputs": [],
   "source": [
    "# drop registry, measure, prsnl without both dates\n",
    "intersect = df.groupby([\n",
    "    'registry',\n",
    "    'measure',\n",
    "    'prsnl',\n",
    "    'date'\n",
    "]).agg({\n",
    "    'date' : 'max'\n",
    "}).unstack('date').dropna().stack('date').index.to_frame().reset_index(drop = True)\n",
    "\n",
    "# merge df with intersection\n",
    "df_i = df.merge(intersect, how = 'inner', on = [\n",
    "    'registry',\n",
    "    'measure',\n",
    "    'prsnl',\n",
    "    'date'\n",
    "])"
   ]
  },
  {
   "cell_type": "markdown",
   "metadata": {
    "heading_collapsed": true,
    "nbpresent": {
     "id": "b05f68d9-8921-496e-8309-9abc091486bf"
    }
   },
   "source": [
    "## C.2 Stats Table for Intersection"
   ]
  },
  {
   "cell_type": "code",
   "execution_count": 25,
   "metadata": {
    "hidden": true,
    "nbpresent": {
     "id": "3bc1a5d8-39d7-4683-8dcb-fe2889ae972b"
    },
    "scrolled": true
   },
   "outputs": [],
   "source": [
    "# apply the bible and call it stats table intersection\n",
    "stats_table_i = df_i.groupby([\n",
    "    'date',\n",
    "    'registry',\n",
    "    'measure'\n",
    "]).apply(bible, 'met')\n",
    "\n",
    "# add total_measure_met\n",
    "stats_table_i['total_measure_met'] = stats_table_i.numerator_sum / stats_table_i.denominator_sum\n",
    "\n",
    "# unstack date and sort index (for viewing only)\n",
    "stat_unstack_i = stats_table_i.unstack('date').swaplevel(1, 0, axis = 1).sort_index(axis = 1)\n",
    "\n",
    "# subtract means, subtract total_measure_mets\n",
    "#stat_unstack_i['change_of_means'], stat_unstack_i['change_total_measure_met'] = stat_unstack_i[str(df.date.max())]['mean'] - stat_unstack_i[str(df.date.min())]['mean'], stat_unstack_i[str(df.date.max())]['total_measure_met'] - stat_unstack_i[str(df.date.min())]['total_measure_met']\n",
    "stat_unstack_i['change_of_means'], stat_unstack_i['change_total_measure_met'] = stat_unstack_i[str(df.date.max())]['mean'] - stat_unstack_i[str(df.date.min())]['mean'], (stat_unstack_i[str(df.date.max())]['total_measure_met']*100).round(1) - (stat_unstack_i[str(df.date.min())]*100).round(1)['total_measure_met']\n",
    "# stat_unstack_i"
   ]
  },
  {
   "cell_type": "markdown",
   "metadata": {},
   "source": [
    "## C.3 Rearrange"
   ]
  },
  {
   "cell_type": "code",
   "execution_count": 26,
   "metadata": {},
   "outputs": [
    {
     "data": {
      "text/html": [
       "<div>\n",
       "<style scoped>\n",
       "    .dataframe tbody tr th:only-of-type {\n",
       "        vertical-align: middle;\n",
       "    }\n",
       "\n",
       "    .dataframe tbody tr th {\n",
       "        vertical-align: top;\n",
       "    }\n",
       "\n",
       "    .dataframe thead tr th {\n",
       "        text-align: left;\n",
       "    }\n",
       "\n",
       "    .dataframe thead tr:last-of-type th {\n",
       "        text-align: right;\n",
       "    }\n",
       "</style>\n",
       "<table border=\"1\" class=\"dataframe\">\n",
       "  <thead>\n",
       "    <tr>\n",
       "      <th></th>\n",
       "      <th>date</th>\n",
       "      <th>2019-07-01</th>\n",
       "      <th>2020-08-01</th>\n",
       "      <th>2019-07-01</th>\n",
       "      <th>2020-08-01</th>\n",
       "      <th>2019-07-01</th>\n",
       "      <th>2020-08-01</th>\n",
       "      <th colspan=\"3\" halign=\"left\">stat</th>\n",
       "    </tr>\n",
       "    <tr>\n",
       "      <th></th>\n",
       "      <th></th>\n",
       "      <th>mean</th>\n",
       "      <th>mean</th>\n",
       "      <th>std</th>\n",
       "      <th>std</th>\n",
       "      <th>conf_int</th>\n",
       "      <th>conf_int</th>\n",
       "      <th>mean_change</th>\n",
       "      <th>std_change</th>\n",
       "      <th>df</th>\n",
       "    </tr>\n",
       "    <tr>\n",
       "      <th>registry</th>\n",
       "      <th>measure</th>\n",
       "      <th></th>\n",
       "      <th></th>\n",
       "      <th></th>\n",
       "      <th></th>\n",
       "      <th></th>\n",
       "      <th></th>\n",
       "      <th></th>\n",
       "      <th></th>\n",
       "      <th></th>\n",
       "    </tr>\n",
       "  </thead>\n",
       "  <tbody>\n",
       "    <tr>\n",
       "      <th>All</th>\n",
       "      <th>All</th>\n",
       "      <td>0.503739</td>\n",
       "      <td>0.513192</td>\n",
       "      <td>0.151479</td>\n",
       "      <td>0.139593</td>\n",
       "      <td>(48.8% - 51.9%)</td>\n",
       "      <td>(49.9% - 52.8%)</td>\n",
       "      <td>0.009453</td>\n",
       "      <td>-0.011886</td>\n",
       "      <td>359</td>\n",
       "    </tr>\n",
       "  </tbody>\n",
       "</table>\n",
       "</div>"
      ],
      "text/plain": [
       "date             2019-07-01 2020-08-01 2019-07-01 2020-08-01       2019-07-01  \\\n",
       "                       mean       mean        std        std         conf_int   \n",
       "registry measure                                                                \n",
       "All      All       0.503739   0.513192   0.151479   0.139593  (48.8% - 51.9%)   \n",
       "\n",
       "date                   2020-08-01        stat                  \n",
       "                         conf_int mean_change std_change   df  \n",
       "registry measure                                               \n",
       "All      All      (49.9% - 52.8%)    0.009453  -0.011886  359  "
      ]
     },
     "execution_count": 26,
     "metadata": {},
     "output_type": "execute_result"
    }
   ],
   "source": [
    "reorderlist = ['mean','std','uci','lci','count']\n",
    "df_format_i = stats_table_i.unstack('date').swaplevel(1, 0, axis = 1).sort_index(axis = 1).reindex(columns=reorderlist,level=1).stack(level=1)\n",
    "#\n",
    "df_format_i['stat']= df_format_i[dt_max] - df_format_i[dt_min]\n",
    "\n",
    "df_format_i = df_format_i.unstack()\n",
    "\n",
    "df_format_i = df_format_i.swaplevel(1, 0, axis = 1)\n",
    "\n",
    "df_format_i = df_format_i.stack(level=1)\n",
    "df_format_i[\"conf_int\"] = '('+((df_format_i['lci'])*100).round(1).astype(str) + '%' + ' - ' + ((df_format_i['uci'])*100).round(1).astype(str) + '%' +')'\n",
    "\n",
    "df_format_i['df'] = df_format_i['count'].astype('int') - 1\n",
    "#df_format_i['mean'] = ((df_format_i['mean'])*100).round(1).astype(str) + '%'\n",
    "#df_format_i['std'] = ((df_format_i['std'])*100).round(1).astype(str) + '%'\n",
    "#\n",
    "df_format_i = df_format_i[[\"mean\",\"std\",\"conf_int\",\"df\"]].unstack().swaplevel(1, 0, axis = 1).sort_index(axis = 1)\n",
    "#\n",
    "reorder = ['mean', 'std', 'conf_int', 'df']\n",
    "\n",
    "drops = [\n",
    "    ('stat','df'),\n",
    "    ('stat','conf_int'),\n",
    "    (dt_min,'df')\n",
    "]\n",
    "table = df_format_i.drop(drops, axis=1).reindex(columns=reorder,level=1)\n",
    "\n",
    "#\n",
    "# subset indexes\n",
    "dates_df = table[[dt_min,dt_max]]\n",
    "deg_fr = dates_df[dt_max][[\"df\"]]\n",
    "change_df = table[[\"stat\"]]\n",
    "change_df = change_df[\"stat\"][[\"mean\",\"std\"]].merge(dates_df[dt_max][[\"df\"]],left_index=True,right_index=True)\n",
    "change_df = change_df.rename(columns = {\"mean\":\"mean_change\",\"std\":\"std_change\"})\n",
    "dates_df = dates_df.drop(columns='df',level=1)\n",
    "\n",
    "# Excellent\n",
    "dates_df.join(pd.concat([change_df],axis=1, keys=[\"stat\"],names=['date'])) # alternative options\n",
    "combined_i = dates_df.sort_index(axis = 1,level = 1).join(pd.concat([change_df],axis=1, keys=[\"stat\"],names=['date']))\n",
    "combined_i.head(1)"
   ]
  },
  {
   "cell_type": "code",
   "execution_count": 27,
   "metadata": {},
   "outputs": [],
   "source": [
    "# clean column names\n",
    "combined_i.columns = ['_'.join(col).strip() for col in combined_i.columns.values]\n",
    "combined_i.columns = combined_i.columns.str.replace(\"stat_\",\"\")"
   ]
  },
  {
   "cell_type": "code",
   "execution_count": 28,
   "metadata": {},
   "outputs": [],
   "source": [
    "# call the table \"trending\"\n",
    "trending = combined_i"
   ]
  },
  {
   "cell_type": "markdown",
   "metadata": {},
   "source": [
    "# D. T-Test"
   ]
  },
  {
   "cell_type": "markdown",
   "metadata": {
    "nbpresent": {
     "id": "6e91ec3c-6ad5-4a1c-b1aa-3704a051381a"
    }
   },
   "source": [
    "## D.1 Stat Tests"
   ]
  },
  {
   "cell_type": "markdown",
   "metadata": {
    "heading_collapsed": true,
    "nbpresent": {
     "id": "1bd7088a-79f6-4a7a-9365-c922503740f0"
    }
   },
   "source": [
    "### D.1.1 T & F Test Function"
   ]
  },
  {
   "cell_type": "code",
   "execution_count": 29,
   "metadata": {
    "hidden": true,
    "nbpresent": {
     "id": "3354fee7-bbba-45e2-b873-eb08bb0a1093"
    }
   },
   "outputs": [],
   "source": [
    "def stat_test(x, date_1, date_2, test = 't'):\n",
    "#     make dictionary of functions\n",
    "    d = {}\n",
    "    if test == 't':\n",
    "#         perform t-test\n",
    "        t_test = ttest_rel(x[date_1], x[date_2])\n",
    "    #     get t-statistic\n",
    "        d['t_stat'] = t_test[0]\n",
    "    #     get p-value\n",
    "        d['p_value'] = t_test[1]\n",
    "#         return results\n",
    "        return pd.Series(d, index = [\n",
    "            't_stat',\n",
    "            'p_value'\n",
    "        ])\n",
    "    elif test == 'f':\n",
    "#         perform f-test\n",
    "        f_test = f_oneway(x[date_1], x[date_2])\n",
    "#         get f-statistic\n",
    "        d['f_stat'] = f_test[0]\n",
    "#         get p-value\n",
    "        d['p_value'] = f_test[1]\n",
    "#         return results\n",
    "        return pd.Series(d, index = [\n",
    "            'f_stat',\n",
    "            'p_value'\n",
    "        ])"
   ]
  },
  {
   "cell_type": "markdown",
   "metadata": {
    "nbpresent": {
     "id": "b3b5c0bf-d93f-46c5-a85b-96884bad9f86"
    }
   },
   "source": [
    "### D.1.2 T-Test"
   ]
  },
  {
   "cell_type": "code",
   "execution_count": 30,
   "metadata": {
    "nbpresent": {
     "id": "1ea5d673-0561-44a2-9c96-0d54ef5dbaba"
    },
    "scrolled": true
   },
   "outputs": [],
   "source": [
    "test = df_i.pivot_table(index = [\n",
    "    'registry',\n",
    "    'measure',\n",
    "    'prsnl'\n",
    "], columns = 'date', values = 'met', aggfunc = 'max').reset_index()\n",
    "\n",
    "test.columns = test.columns.astype(str)\n",
    "\n",
    "test_g = test.groupby([\n",
    "    'registry',\n",
    "    'measure'\n",
    "])\n",
    "\n",
    "t_test = test_g.apply(stat_test, str(df_i.date.min()), str(df_i.date.max()), test = 't')\n",
    "t_test[\"sig\"] = np.where(t_test.p_value>=0.05,0,1)"
   ]
  },
  {
   "cell_type": "markdown",
   "metadata": {},
   "source": [
    "# E. Formatted"
   ]
  },
  {
   "cell_type": "code",
   "execution_count": 31,
   "metadata": {},
   "outputs": [],
   "source": [
    "# join t_test to trending\n",
    "full_i = trending.join(t_test)"
   ]
  },
  {
   "cell_type": "code",
   "execution_count": 32,
   "metadata": {},
   "outputs": [],
   "source": [
    "# # create analysis sentence\n",
    "full_i[\"analysis\"] = np.where(full_i.p_value>=0.05,\n",
    "                              np.where(full_i.mean_change<0,\"a decrease\",\"an increase\"),\n",
    "                              np.where(full_i.mean_change<0,\"a significant decrease\",\"a significant increase\"))\n",
    "full_i[\"analysis\"] = \"There was \" + full_i.analysis.astype(str) + \" of \" + abs(((full_i[dt_min+\"_mean\"] - full_i[dt_max+\"_mean\"])*100).round(1)).astype(str) + \"% MM across \" + (full_i[\"df\"]+1).astype(int).astype(str) + \" providers while standard deviation \" + np.where(full_i.std_change>0,\"increased \",\"decreased \") + abs(((full_i[dt_min+\"_std\"] - full_i[dt_max+\"_std\"])*100).round(1)).astype(str) +\"%\""
   ]
  },
  {
   "cell_type": "code",
   "execution_count": 33,
   "metadata": {},
   "outputs": [],
   "source": [
    "full_i[\"sig_text\"] = np.where(full_i.p_value<0.05,\"a significant\",\n",
    "                              np.where(full_i.mean_change<0,\"a\",\"an\"))\n",
    "full_i[\"direction_text\"] = np.where(full_i.mean_change<0,\"decrease\",\"increase\")\n",
    "\n",
    "full_i[\"initial_text\"] = \"There was \" + full_i.sig_text + \" \""
   ]
  },
  {
   "cell_type": "code",
   "execution_count": 34,
   "metadata": {},
   "outputs": [],
   "source": [
    "full_i[\"change_text\"] = full_i.direction_text.astype(str) + \" of \" + abs(((full_i[dt_min+\"_mean\"] - full_i[dt_max+\"_mean\"])*100).round(1)).astype(str) + \"%\""
   ]
  },
  {
   "cell_type": "code",
   "execution_count": 35,
   "metadata": {},
   "outputs": [],
   "source": [
    "full_i[\"final_text\"] = \"MM across \" + (full_i[\"df\"]+1).astype(int).astype(str) + \" providers while standard deviation \" + np.where(full_i.std_change>0,\"increased \",\"decreased \") + abs(((full_i[dt_min+\"_std\"] - full_i[dt_max+\"_std\"])*100).round(1)).astype(str) +\"%\""
   ]
  },
  {
   "cell_type": "code",
   "execution_count": 36,
   "metadata": {},
   "outputs": [
    {
     "name": "stderr",
     "output_type": "stream",
     "text": [
      "C:\\Users\\JM025575\\AppData\\Local\\Continuum\\anaconda3\\lib\\site-packages\\ipykernel_launcher.py:19: SettingWithCopyWarning: \n",
      "A value is trying to be set on a copy of a slice from a DataFrame.\n",
      "Try using .loc[row_indexer,col_indexer] = value instead\n",
      "\n",
      "See the caveats in the documentation: http://pandas.pydata.org/pandas-docs/stable/indexing.html#indexing-view-versus-copy\n",
      "C:\\Users\\JM025575\\AppData\\Local\\Continuum\\anaconda3\\lib\\site-packages\\ipykernel_launcher.py:20: SettingWithCopyWarning: \n",
      "A value is trying to be set on a copy of a slice from a DataFrame.\n",
      "Try using .loc[row_indexer,col_indexer] = value instead\n",
      "\n",
      "See the caveats in the documentation: http://pandas.pydata.org/pandas-docs/stable/indexing.html#indexing-view-versus-copy\n",
      "C:\\Users\\JM025575\\AppData\\Local\\Continuum\\anaconda3\\lib\\site-packages\\ipykernel_launcher.py:21: SettingWithCopyWarning: \n",
      "A value is trying to be set on a copy of a slice from a DataFrame.\n",
      "Try using .loc[row_indexer,col_indexer] = value instead\n",
      "\n",
      "See the caveats in the documentation: http://pandas.pydata.org/pandas-docs/stable/indexing.html#indexing-view-versus-copy\n",
      "C:\\Users\\JM025575\\AppData\\Local\\Continuum\\anaconda3\\lib\\site-packages\\ipykernel_launcher.py:22: SettingWithCopyWarning: \n",
      "A value is trying to be set on a copy of a slice from a DataFrame.\n",
      "Try using .loc[row_indexer,col_indexer] = value instead\n",
      "\n",
      "See the caveats in the documentation: http://pandas.pydata.org/pandas-docs/stable/indexing.html#indexing-view-versus-copy\n",
      "C:\\Users\\JM025575\\AppData\\Local\\Continuum\\anaconda3\\lib\\site-packages\\ipykernel_launcher.py:23: SettingWithCopyWarning: \n",
      "A value is trying to be set on a copy of a slice from a DataFrame.\n",
      "Try using .loc[row_indexer,col_indexer] = value instead\n",
      "\n",
      "See the caveats in the documentation: http://pandas.pydata.org/pandas-docs/stable/indexing.html#indexing-view-versus-copy\n",
      "C:\\Users\\JM025575\\AppData\\Local\\Continuum\\anaconda3\\lib\\site-packages\\ipykernel_launcher.py:24: SettingWithCopyWarning: \n",
      "A value is trying to be set on a copy of a slice from a DataFrame.\n",
      "Try using .loc[row_indexer,col_indexer] = value instead\n",
      "\n",
      "See the caveats in the documentation: http://pandas.pydata.org/pandas-docs/stable/indexing.html#indexing-view-versus-copy\n",
      "C:\\Users\\JM025575\\AppData\\Local\\Continuum\\anaconda3\\lib\\site-packages\\ipykernel_launcher.py:25: SettingWithCopyWarning: \n",
      "A value is trying to be set on a copy of a slice from a DataFrame.\n",
      "Try using .loc[row_indexer,col_indexer] = value instead\n",
      "\n",
      "See the caveats in the documentation: http://pandas.pydata.org/pandas-docs/stable/indexing.html#indexing-view-versus-copy\n",
      "C:\\Users\\JM025575\\AppData\\Local\\Continuum\\anaconda3\\lib\\site-packages\\ipykernel_launcher.py:26: SettingWithCopyWarning: \n",
      "A value is trying to be set on a copy of a slice from a DataFrame.\n",
      "Try using .loc[row_indexer,col_indexer] = value instead\n",
      "\n",
      "See the caveats in the documentation: http://pandas.pydata.org/pandas-docs/stable/indexing.html#indexing-view-versus-copy\n"
     ]
    }
   ],
   "source": [
    "# Reorder the columns for easy copy/paste later\n",
    "formatted_i = full_i[[\n",
    "    \"analysis\",\n",
    "    dt_min+\"_mean\",\n",
    "    dt_max+\"_mean\",\n",
    "    dt_min+\"_std\",\n",
    "    dt_max+\"_std\",\n",
    "    dt_min+\"_conf_int\",\n",
    "    dt_max+\"_conf_int\",\n",
    "    \"t_stat\",\n",
    "    \"df\",\n",
    "    \"p_value\",\n",
    "    \"initial_text\",\n",
    "    \"change_text\",\n",
    "    \"final_text\"\n",
    "]]\n",
    "\n",
    "# Format columns\n",
    "formatted_i[dt_min+\"_mean\"] = (formatted_i[dt_min+\"_mean\"]*100).round(1).astype(str) + '%'\n",
    "formatted_i[dt_max+\"_mean\"] = (formatted_i[dt_max+\"_mean\"]*100).round(1).astype(str) + '%'\n",
    "formatted_i[dt_min+\"_std\"] = (formatted_i[dt_min+\"_std\"]*100).round(1).astype(str) + '%'\n",
    "formatted_i[dt_max+\"_std\"] = (formatted_i[dt_max+\"_std\"]*100).round(1).astype(str) + '%'\n",
    "formatted_i[\"t_stat\"] = \"t-stat: \" + formatted_i.t_stat.round(4).map(str)\n",
    "formatted_i[\"p_value\"] = np.where(formatted_i[\"p_value\"]>=0.05,formatted_i[\"p_value\"].round(2).astype(str)+'*',\"<0.05\")\n",
    "formatted_i[\"p_value\"] = \"p-value: \" + formatted_i.p_value.map(str)\n",
    "formatted_i[\"df\"] = \"df: \" + formatted_i.df.map(str)"
   ]
  },
  {
   "cell_type": "code",
   "execution_count": 37,
   "metadata": {},
   "outputs": [],
   "source": [
    "formatted = formatted_i"
   ]
  },
  {
   "cell_type": "markdown",
   "metadata": {},
   "source": [
    "# Export to Excel"
   ]
  },
  {
   "cell_type": "code",
   "execution_count": 38,
   "metadata": {},
   "outputs": [
    {
     "data": {
      "text/html": [
       "<div>\n",
       "<style scoped>\n",
       "    .dataframe tbody tr th:only-of-type {\n",
       "        vertical-align: middle;\n",
       "    }\n",
       "\n",
       "    .dataframe tbody tr th {\n",
       "        vertical-align: top;\n",
       "    }\n",
       "\n",
       "    .dataframe thead th {\n",
       "        text-align: right;\n",
       "    }\n",
       "</style>\n",
       "<table border=\"1\" class=\"dataframe\">\n",
       "  <thead>\n",
       "    <tr style=\"text-align: right;\">\n",
       "      <th></th>\n",
       "      <th>client</th>\n",
       "      <th>date</th>\n",
       "      <th>prsnl</th>\n",
       "      <th>registry</th>\n",
       "      <th>fully_qualified_name</th>\n",
       "      <th>measure</th>\n",
       "      <th>numerator</th>\n",
       "      <th>denominator</th>\n",
       "      <th>met</th>\n",
       "    </tr>\n",
       "  </thead>\n",
       "  <tbody>\n",
       "    <tr>\n",
       "      <th>0</th>\n",
       "      <td>CHW_CA</td>\n",
       "      <td>2019-07-01</td>\n",
       "      <td>Aarohi Munshi</td>\n",
       "      <td>Comprehensive Adult Wellness</td>\n",
       "      <td>cernerstandard.comprehensiveadultwellness.clinical/breast-cancer-screening</td>\n",
       "      <td>Breast Cancer Screening</td>\n",
       "      <td>17</td>\n",
       "      <td>53</td>\n",
       "      <td>0.320755</td>\n",
       "    </tr>\n",
       "  </tbody>\n",
       "</table>\n",
       "</div>"
      ],
      "text/plain": [
       "   client        date          prsnl                      registry  \\\n",
       "0  CHW_CA  2019-07-01  Aarohi Munshi  Comprehensive Adult Wellness   \n",
       "\n",
       "                                                         fully_qualified_name  \\\n",
       "0  cernerstandard.comprehensiveadultwellness.clinical/breast-cancer-screening   \n",
       "\n",
       "                   measure  numerator  denominator       met  \n",
       "0  Breast Cancer Screening         17           53  0.320755  "
      ]
     },
     "execution_count": 38,
     "metadata": {},
     "output_type": "execute_result"
    }
   ],
   "source": [
    "data.head(1)"
   ]
  },
  {
   "cell_type": "code",
   "execution_count": 39,
   "metadata": {},
   "outputs": [
    {
     "data": {
      "text/html": [
       "<div>\n",
       "<style scoped>\n",
       "    .dataframe tbody tr th:only-of-type {\n",
       "        vertical-align: middle;\n",
       "    }\n",
       "\n",
       "    .dataframe tbody tr th {\n",
       "        vertical-align: top;\n",
       "    }\n",
       "\n",
       "    .dataframe thead th {\n",
       "        text-align: right;\n",
       "    }\n",
       "</style>\n",
       "<table border=\"1\" class=\"dataframe\">\n",
       "  <thead>\n",
       "    <tr style=\"text-align: right;\">\n",
       "      <th></th>\n",
       "      <th>Registry</th>\n",
       "      <th>Measure</th>\n",
       "      <th>Providers</th>\n",
       "      <th>Measure Met</th>\n",
       "      <th>95% Confidence Interval</th>\n",
       "      <th>Standard Deviation</th>\n",
       "    </tr>\n",
       "  </thead>\n",
       "  <tbody>\n",
       "    <tr>\n",
       "      <th>14</th>\n",
       "      <td>Diabetes Mellitus</td>\n",
       "      <td>Statin Therapy Generic Diabetic Group</td>\n",
       "      <td>313</td>\n",
       "      <td>70.7%</td>\n",
       "      <td>(69.4% - 71.9%)</td>\n",
       "      <td>11.1%</td>\n",
       "    </tr>\n",
       "  </tbody>\n",
       "</table>\n",
       "</div>"
      ],
      "text/plain": [
       "             Registry                                Measure  Providers  \\\n",
       "14  Diabetes Mellitus  Statin Therapy Generic Diabetic Group        313   \n",
       "\n",
       "   Measure Met 95% Confidence Interval Standard Deviation  \n",
       "14       70.7%         (69.4% - 71.9%)              11.1%  "
      ]
     },
     "execution_count": 39,
     "metadata": {},
     "output_type": "execute_result"
    }
   ],
   "source": [
    "current_state.tail(1)"
   ]
  },
  {
   "cell_type": "code",
   "execution_count": 40,
   "metadata": {},
   "outputs": [
    {
     "data": {
      "text/html": [
       "<div>\n",
       "<style scoped>\n",
       "    .dataframe tbody tr th:only-of-type {\n",
       "        vertical-align: middle;\n",
       "    }\n",
       "\n",
       "    .dataframe tbody tr th {\n",
       "        vertical-align: top;\n",
       "    }\n",
       "\n",
       "    .dataframe thead th {\n",
       "        text-align: right;\n",
       "    }\n",
       "</style>\n",
       "<table border=\"1\" class=\"dataframe\">\n",
       "  <thead>\n",
       "    <tr style=\"text-align: right;\">\n",
       "      <th></th>\n",
       "      <th></th>\n",
       "      <th>2019-07-01_mean</th>\n",
       "      <th>2020-08-01_mean</th>\n",
       "      <th>2019-07-01_std</th>\n",
       "      <th>2020-08-01_std</th>\n",
       "      <th>2019-07-01_conf_int</th>\n",
       "      <th>2020-08-01_conf_int</th>\n",
       "      <th>mean_change</th>\n",
       "      <th>std_change</th>\n",
       "      <th>df</th>\n",
       "    </tr>\n",
       "    <tr>\n",
       "      <th>registry</th>\n",
       "      <th>measure</th>\n",
       "      <th></th>\n",
       "      <th></th>\n",
       "      <th></th>\n",
       "      <th></th>\n",
       "      <th></th>\n",
       "      <th></th>\n",
       "      <th></th>\n",
       "      <th></th>\n",
       "      <th></th>\n",
       "    </tr>\n",
       "  </thead>\n",
       "  <tbody>\n",
       "    <tr>\n",
       "      <th>All</th>\n",
       "      <th>All</th>\n",
       "      <td>0.503739</td>\n",
       "      <td>0.513192</td>\n",
       "      <td>0.151479</td>\n",
       "      <td>0.139593</td>\n",
       "      <td>(48.8% - 51.9%)</td>\n",
       "      <td>(49.9% - 52.8%)</td>\n",
       "      <td>0.009453</td>\n",
       "      <td>-0.011886</td>\n",
       "      <td>359</td>\n",
       "    </tr>\n",
       "  </tbody>\n",
       "</table>\n",
       "</div>"
      ],
      "text/plain": [
       "                  2019-07-01_mean  2020-08-01_mean  2019-07-01_std  \\\n",
       "registry measure                                                     \n",
       "All      All             0.503739         0.513192        0.151479   \n",
       "\n",
       "                  2020-08-01_std 2019-07-01_conf_int 2020-08-01_conf_int  \\\n",
       "registry measure                                                           \n",
       "All      All            0.139593     (48.8% - 51.9%)     (49.9% - 52.8%)   \n",
       "\n",
       "                  mean_change  std_change   df  \n",
       "registry measure                                \n",
       "All      All         0.009453   -0.011886  359  "
      ]
     },
     "execution_count": 40,
     "metadata": {},
     "output_type": "execute_result"
    }
   ],
   "source": [
    "trending.head(1)"
   ]
  },
  {
   "cell_type": "code",
   "execution_count": 41,
   "metadata": {},
   "outputs": [
    {
     "data": {
      "text/html": [
       "<div>\n",
       "<style scoped>\n",
       "    .dataframe tbody tr th:only-of-type {\n",
       "        vertical-align: middle;\n",
       "    }\n",
       "\n",
       "    .dataframe tbody tr th {\n",
       "        vertical-align: top;\n",
       "    }\n",
       "\n",
       "    .dataframe thead th {\n",
       "        text-align: right;\n",
       "    }\n",
       "</style>\n",
       "<table border=\"1\" class=\"dataframe\">\n",
       "  <thead>\n",
       "    <tr style=\"text-align: right;\">\n",
       "      <th></th>\n",
       "      <th></th>\n",
       "      <th>t_stat</th>\n",
       "      <th>p_value</th>\n",
       "      <th>sig</th>\n",
       "    </tr>\n",
       "    <tr>\n",
       "      <th>registry</th>\n",
       "      <th>measure</th>\n",
       "      <th></th>\n",
       "      <th></th>\n",
       "      <th></th>\n",
       "    </tr>\n",
       "  </thead>\n",
       "  <tbody>\n",
       "    <tr>\n",
       "      <th>All</th>\n",
       "      <th>All</th>\n",
       "      <td>-1.310785</td>\n",
       "      <td>0.190768</td>\n",
       "      <td>0</td>\n",
       "    </tr>\n",
       "  </tbody>\n",
       "</table>\n",
       "</div>"
      ],
      "text/plain": [
       "                    t_stat   p_value  sig\n",
       "registry measure                         \n",
       "All      All     -1.310785  0.190768    0"
      ]
     },
     "execution_count": 41,
     "metadata": {},
     "output_type": "execute_result"
    }
   ],
   "source": [
    "t_test.head(1)"
   ]
  },
  {
   "cell_type": "code",
   "execution_count": 42,
   "metadata": {
    "scrolled": true
   },
   "outputs": [
    {
     "data": {
      "text/html": [
       "<div>\n",
       "<style scoped>\n",
       "    .dataframe tbody tr th:only-of-type {\n",
       "        vertical-align: middle;\n",
       "    }\n",
       "\n",
       "    .dataframe tbody tr th {\n",
       "        vertical-align: top;\n",
       "    }\n",
       "\n",
       "    .dataframe thead th {\n",
       "        text-align: right;\n",
       "    }\n",
       "</style>\n",
       "<table border=\"1\" class=\"dataframe\">\n",
       "  <thead>\n",
       "    <tr style=\"text-align: right;\">\n",
       "      <th></th>\n",
       "      <th></th>\n",
       "      <th>analysis</th>\n",
       "      <th>2019-07-01_mean</th>\n",
       "      <th>2020-08-01_mean</th>\n",
       "      <th>2019-07-01_std</th>\n",
       "      <th>2020-08-01_std</th>\n",
       "      <th>2019-07-01_conf_int</th>\n",
       "      <th>2020-08-01_conf_int</th>\n",
       "      <th>t_stat</th>\n",
       "      <th>df</th>\n",
       "      <th>p_value</th>\n",
       "      <th>initial_text</th>\n",
       "      <th>change_text</th>\n",
       "      <th>final_text</th>\n",
       "    </tr>\n",
       "    <tr>\n",
       "      <th>registry</th>\n",
       "      <th>measure</th>\n",
       "      <th></th>\n",
       "      <th></th>\n",
       "      <th></th>\n",
       "      <th></th>\n",
       "      <th></th>\n",
       "      <th></th>\n",
       "      <th></th>\n",
       "      <th></th>\n",
       "      <th></th>\n",
       "      <th></th>\n",
       "      <th></th>\n",
       "      <th></th>\n",
       "      <th></th>\n",
       "    </tr>\n",
       "  </thead>\n",
       "  <tbody>\n",
       "    <tr>\n",
       "      <th>All</th>\n",
       "      <th>All</th>\n",
       "      <td>There was an increase of 0.9% MM across 360 providers while standard deviation decreased 1.2%</td>\n",
       "      <td>50.4%</td>\n",
       "      <td>51.3%</td>\n",
       "      <td>15.1%</td>\n",
       "      <td>14.0%</td>\n",
       "      <td>(48.8% - 51.9%)</td>\n",
       "      <td>(49.9% - 52.8%)</td>\n",
       "      <td>t-stat: -1.3108</td>\n",
       "      <td>df: 359</td>\n",
       "      <td>p-value: 0.19*</td>\n",
       "      <td>There was an</td>\n",
       "      <td>increase of 0.9%</td>\n",
       "      <td>MM across 360 providers while standard deviation decreased 1.2%</td>\n",
       "    </tr>\n",
       "  </tbody>\n",
       "</table>\n",
       "</div>"
      ],
      "text/plain": [
       "                                                                                                       analysis  \\\n",
       "registry measure                                                                                                  \n",
       "All      All      There was an increase of 0.9% MM across 360 providers while standard deviation decreased 1.2%   \n",
       "\n",
       "                 2019-07-01_mean 2020-08-01_mean 2019-07-01_std  \\\n",
       "registry measure                                                  \n",
       "All      All               50.4%           51.3%          15.1%   \n",
       "\n",
       "                 2020-08-01_std 2019-07-01_conf_int 2020-08-01_conf_int  \\\n",
       "registry measure                                                          \n",
       "All      All              14.0%     (48.8% - 51.9%)     (49.9% - 52.8%)   \n",
       "\n",
       "                           t_stat       df         p_value   initial_text  \\\n",
       "registry measure                                                            \n",
       "All      All      t-stat: -1.3108  df: 359  p-value: 0.19*  There was an    \n",
       "\n",
       "                       change_text  \\\n",
       "registry measure                     \n",
       "All      All      increase of 0.9%   \n",
       "\n",
       "                                                                       final_text  \n",
       "registry measure                                                                   \n",
       "All      All      MM across 360 providers while standard deviation decreased 1.2%  "
      ]
     },
     "execution_count": 42,
     "metadata": {},
     "output_type": "execute_result"
    }
   ],
   "source": [
    "formatted.head(1)"
   ]
  },
  {
   "cell_type": "code",
   "execution_count": 43,
   "metadata": {},
   "outputs": [],
   "source": [
    "# extract max date and min date names\n",
    "dt_max_name = dt_max.replace(dt_max,calendar.month_name[int(dt_max[5:7])]+' '+dt_max[0:4])\n",
    "dt_min_name = dt_min.replace(dt_min,calendar.month_name[int(dt_min[5:7])]+' '+dt_min[0:4])"
   ]
  },
  {
   "cell_type": "code",
   "execution_count": 44,
   "metadata": {},
   "outputs": [],
   "source": [
    "excel_save_path = f\"{client}_excel_output_{dt_min_name}_{dt_max_name}14MoAll.xlsx\"\n",
    "writer = pd.ExcelWriter(path = excel_save_path, engine = 'xlsxwriter')\n",
    "data.to_excel(writer, sheet_name = 'Data')\n",
    "current_state.to_excel(writer, sheet_name = 'Current State')\n",
    "trending.to_excel(writer, sheet_name = 'Trending')\n",
    "t_test.to_excel(writer, sheet_name = 'T-Test')\n",
    "formatted.to_excel(writer, sheet_name = 'Formatted')\n",
    "writer.save()"
   ]
  },
  {
   "cell_type": "markdown",
   "metadata": {},
   "source": [
    "# Format Trending Table"
   ]
  },
  {
   "cell_type": "code",
   "execution_count": 45,
   "metadata": {},
   "outputs": [],
   "source": [
    "# rename dates to month_name year\n",
    "dt_name_cols = [dt_min_name,dt_max_name]"
   ]
  },
  {
   "cell_type": "markdown",
   "metadata": {},
   "source": [
    "# F. Powerpoint"
   ]
  },
  {
   "cell_type": "markdown",
   "metadata": {
    "heading_collapsed": true
   },
   "source": [
    "### Make Analysis"
   ]
  },
  {
   "cell_type": "code",
   "execution_count": 46,
   "metadata": {
    "hidden": true,
    "scrolled": true
   },
   "outputs": [],
   "source": [
    "# make table with t_test, registry, measure\n",
    "slide_t_test = t_test.loc[registries_list, :].dropna()\n",
    "\n",
    "# format\n",
    "stat_t = round((stat_unstack_i.loc[:, (slice(None), [\n",
    "    'count',\n",
    "    'lci',\n",
    "    'mean',\n",
    "    'std',\n",
    "    'uci'\n",
    "])]), 3).copy().stack('date').reset_index(level = 'date')\n",
    "\n",
    "# add t_stat and p_value\n",
    "stat_t['t_stat'], stat_t['p_value'] = round(slide_t_test.t_stat.copy(), 5), round(slide_t_test.p_value.copy(), 5)\n",
    "\n",
    "# add significance indicator and difference\n",
    "stat_t['significant'], stat_t['difference'] = stat_t.p_value.copy() < 0.05, round(stat_t.loc[stat_t.date == stat_t.date.max(), 'mean'].copy() - stat_t.loc[stat_t.date == stat_t.date.min(), 'mean'].copy(), 3)\n",
    "\n",
    "stat_t.dropna(inplace = True)"
   ]
  },
  {
   "cell_type": "code",
   "execution_count": 47,
   "metadata": {},
   "outputs": [],
   "source": [
    "# define histogram dataframe\n",
    "h = df_i[(df_i.registry != 'All') & (df_i.measure != 'All')].pivot_table(index = [\n",
    "    'registry',\n",
    "    'measure',\n",
    "    'prsnl'\n",
    "], columns = 'date', values = 'met').reset_index(level = 'prsnl', drop = True)\n",
    "\n",
    "# define bins\n",
    "bins = [x/100 for x in range(0, 101, 5)]"
   ]
  },
  {
   "cell_type": "markdown",
   "metadata": {
    "heading_collapsed": true,
    "hidden": true,
    "nbpresent": {
     "id": "b51a1674-009f-4644-8505-9d0558cc39b5"
    }
   },
   "source": [
    "## Cerner Colors"
   ]
  },
  {
   "cell_type": "code",
   "execution_count": 48,
   "metadata": {
    "hidden": true,
    "nbpresent": {
     "id": "44a3d931-b41f-41e0-8f22-7e0c1fd1a007"
    },
    "scrolled": false
   },
   "outputs": [
    {
     "data": {
      "image/png": "[encoded data removed]",
      "text/plain": [
       "<Figure size 504x72 with 1 Axes>"
      ]
     },
     "metadata": {
      "needs_background": "light"
     },
     "output_type": "display_data"
    }
   ],
   "source": [
    "cerner_colors = ['#0d94d2', # Blue\n",
    "                 '#7bc143', # Green\n",
    "                 '#6a737b', # Grey\n",
    "                 '#4bb8ef', # Cyan\n",
    "                 '#7c2b83', # Purple\n",
    "                 '#f58025', # Orange\n",
    "                 '#fdb913'] # Yellow\n",
    "\n",
    "# Set current color palette\n",
    "sns.set_palette(cerner_colors)\n",
    "\n",
    "# Show color palette\n",
    "sns.palplot(sns.color_palette()) "
   ]
  },
  {
   "cell_type": "markdown",
   "metadata": {},
   "source": [
    "### PPT Styles"
   ]
  },
  {
   "cell_type": "code",
   "execution_count": 49,
   "metadata": {},
   "outputs": [],
   "source": [
    "medium_3_accent_5 = \"{74C1A8A3-306A-4EB7-A6B1-4F7E0EB9C5D6}\""
   ]
  },
  {
   "cell_type": "markdown",
   "metadata": {},
   "source": [
    "## Test with one registry & measure (as needed)"
   ]
  },
  {
   "cell_type": "code",
   "execution_count": 50,
   "metadata": {},
   "outputs": [],
   "source": [
    "# # pick first fqn and use it to set registry and measure for one slide\n",
    "# fqn = df.fully_qualified_name.unique()[0]\n",
    "# reg = df.loc[df.fully_qualified_name==fqn].registry.unique()[0]\n",
    "# meas = df.loc[df.fully_qualified_name==fqn].measure.unique()[0]"
   ]
  },
  {
   "cell_type": "code",
   "execution_count": 51,
   "metadata": {},
   "outputs": [],
   "source": [
    "# # open pptx from Cerner Standard Template\n",
    "# prs = p2p.Presentation(r\"\\\\mustang\\workops_pub\\Pop Health\\DataWorks\\Data Insights\\Personal Working Folders\\Ian\\PowerPoint Templates\\Cerner Standard v5.pptx\".replace('\\\\','/'))\n",
    "# #############################\n",
    "# ## CREATE REGISTRY DIVIDER ##\n",
    "# #############################\n",
    "\n",
    "# # select Blue Divider from Slide Master\n",
    "# primary_content = prs.slide_layouts[6]\n",
    "\n",
    "# # add slide\n",
    "# slide = prs.slides.add_slide(primary_content)\n",
    "\n",
    "# ############################\n",
    "# ## TITLE REGISTRY DIVIDER ##\n",
    "# ############################\n",
    "\n",
    "# # select title box\n",
    "# title_box = slide.shapes[0]\n",
    "# text_frame = title_box.text_frame\n",
    "# p = text_frame.paragraphs[0]\n",
    "\n",
    "# # add registry, then bold & color\n",
    "# run = p.add_run()\n",
    "# run.text = reg\n",
    "# font = run.font\n",
    "# font.bold = True\n",
    "\n",
    "# ###################################\n",
    "# ## CREATE REGISTRY SUMMARY SLIDE ##\n",
    "# ###################################\n",
    "\n",
    "# # save slide from layout 2 in Slide Master\n",
    "# primary_content = prs.slide_layouts[2]\n",
    "\n",
    "# # add slide\n",
    "# slide = prs.slides.add_slide(primary_content)\n",
    "\n",
    "# ####################\n",
    "# ## TITLE RS SLIDE ##\n",
    "# ####################\n",
    "\n",
    "# # select title box\n",
    "# title_box = slide.shapes[0]\n",
    "# text_frame = title_box.text_frame\n",
    "# p = text_frame.paragraphs[0]\n",
    "# # add registry, then bold & color\n",
    "# run = p.add_run()\n",
    "# run.text = reg\n",
    "# font = run.font\n",
    "# font.bold = True\n",
    "# font.color.theme_color = MSO_THEME_COLOR.ACCENT_1\n",
    "# # add text\n",
    "# run = p.add_run()\n",
    "# run.text = \" Provider Performance\"\n",
    "\n",
    "# #####################\n",
    "# ## CREATE RS TABLE ##\n",
    "# #####################\n",
    "\n",
    "# ## Make Registry Summary Table from \"Current State\" dataframe\n",
    "# reg_summary = cs.loc[cs.Registry==reg]\n",
    "# reg_summary = reg_summary.loc[reg_summary.Measure!=\"All\"]\n",
    "# reg_summary.drop(columns=\"Registry\",inplace=True)\n",
    "\n",
    "# # assign to \"my_table\" variable\n",
    "# my_table = reg_summary\n",
    "\n",
    "# # convert column names to titlecase\n",
    "# my_table.columns = my_table.columns.str.title()\n",
    "\n",
    "# rows, columns = my_table.shape\n",
    "# #### Create Table Slide 1 ####\n",
    "# shapes = slide.shapes\n",
    "# table_placeholder = slide.shapes[1]\n",
    "# shape = table_placeholder.insert_table(rows=rows+1, cols=columns)\n",
    "# table = shape.table\n",
    "\n",
    "# ##################\n",
    "# # TITLE RS TABLE #\n",
    "# ##################\n",
    "\n",
    "# # loop through all columns in df and insert as 0th row\n",
    "# for col in range(columns):\n",
    "#     cell = table.cell(0,col)\n",
    "#     p = cell.text_frame.paragraphs[0]\n",
    "#     # add the tier name in bold\n",
    "#     run = p.add_run()\n",
    "#     # add text from table columns\n",
    "#     run.text = my_table.columns[col]\n",
    "#     # center and middle text\n",
    "#     cell.text_frame.paragraphs[0].alignment = PP_ALIGN.CENTER\n",
    "#     cell.vertical_anchor = MSO_ANCHOR.MIDDLE\n",
    "\n",
    "# #################\n",
    "# # FILL RS TABLE #\n",
    "# #################\n",
    "\n",
    "# # look through all values in table (exluding 0th row)\n",
    "# m = my_table.values\n",
    "# for row in range(rows):\n",
    "#         for col in range(columns):\n",
    "#             val = m[row, col]\n",
    "#             cell = table.cell(row+1,col)\n",
    "#             p = cell.text_frame.paragraphs[0]\n",
    "#             # add the tier name in bold\n",
    "#             run = p.add_run()\n",
    "#             # add text from table, accounting for name row\n",
    "#             run.text = str(my_table.iloc[row,col])\n",
    "#             # Middle all text; Left align if measure, otherwise center\n",
    "#             cell.vertical_anchor = MSO_ANCHOR.MIDDLE\n",
    "#             if col is 0:\n",
    "#                     cell.text_frame.paragraphs[0].alignment = PP_ALIGN.LEFT\n",
    "#             else:\n",
    "#                 cell.text_frame.paragraphs[0].alignment = PP_ALIGN.CENTER\n",
    "\n",
    "# # format table style\n",
    "# tbl =  shape._element.graphic.graphicData.tbl\n",
    "# style_id = medium_3_accent_5\n",
    "# tbl[0][-1].text = style_id\n",
    "\n",
    "# ############################\n",
    "# ## CREATE TRENDING SLIDES ##\n",
    "# ############################\n",
    "\n",
    "# # save slide from layout 9 in Slide Master\n",
    "# primary_content = prs.slide_layouts[0]\n",
    "\n",
    "# # add slide\n",
    "# slide1 = prs.slides.add_slide(primary_content)\n",
    "# # add slide 2\n",
    "# slide2 = prs.slides.add_slide(primary_content)\n",
    "\n",
    "# trending_slides = [slide1, slide2]\n",
    "\n",
    "# ##############################\n",
    "# ## CREATE TRENDING TABLE DF ##\n",
    "# ##############################\n",
    "\n",
    "# # make table\n",
    "# ttable = formatted.reset_index()\n",
    "# slicet = ttable.loc[(ttable[\"measure\"]==meas) & (ttable[\"registry\"]==reg)]\n",
    "# means = slicet[[dt_min+\"_mean\",dt_max+\"_mean\"]]\n",
    "# stds = slicet[[dt_min+\"_std\",dt_max+\"_std\"]]\n",
    "# conf_ints = slicet[[dt_min+\"_conf_int\",dt_max+\"_conf_int\"]]\n",
    "# stats_r = slicet[[\"t_stat\",\"df\",\"p_value\"]]\n",
    "# # columns\n",
    "# means.columns = dt_name_cols\n",
    "# stds.columns = dt_name_cols\n",
    "# conf_ints.columns = dt_name_cols\n",
    "# stats_r.columns = [\"\"]+dt_name_cols\n",
    "# # formatting\n",
    "# means.insert(0,\"\",['Mean Met %'])\n",
    "# stds.insert(0,\"\",['Standard Dev.'])\n",
    "# conf_ints.insert(0,\"\",['95% CI'])\n",
    "# table_for_trend = pd.concat([means,stds,conf_ints,stats_r])\n",
    "\n",
    "# # assign to \"my_table\" variable\n",
    "# my_table = table_for_trend\n",
    "\n",
    "# # convert column names to titlecase\n",
    "# my_table.columns = my_table.columns.str.title()\n",
    "\n",
    "# rows, columns = my_table.shape\n",
    "\n",
    "# ######################\n",
    "# ## CREATE HISTOGRAM ##\n",
    "# ######################\n",
    "\n",
    "# # make figure, plot\n",
    "# fig1, ax1 = plt.subplots(figsize = (5, 5))\n",
    "# # create plot\n",
    "# h.loc[(reg, meas)].plot.hist(ax = ax1, bins = bins, **{\n",
    "#     'alpha' : 0.6\n",
    "# }, color = [cerner_colors[0], cerner_colors[1]]).xaxis.set_major_formatter(mpl.ticker.PercentFormatter(xmax = 1))\n",
    "# #             remove y-label\n",
    "# ax1.set_ylabel('')\n",
    "# #             change font size of ticks\n",
    "# ax1.tick_params(axis = 'both', labelsize = 10, pad = 2.5)\n",
    "# #             set legend\n",
    "# ax1.legend(loc = 'upper left', prop = {\n",
    "#     'size' : 10\n",
    "# })\n",
    "# ax1.grid(axis='x')\n",
    "# #             save figure\n",
    "# fig1.savefig('hist_fig.png', dpi = 500)\n",
    "# #             close fig\n",
    "# plt.close(fig1)\n",
    "\n",
    "# #########\n",
    "# ## KDE ##\n",
    "# #########\n",
    "\n",
    "# #             make figure, plot\n",
    "# fig2, ax2 = plt.subplots(figsize = (5, 5))\n",
    "# #             create plot\n",
    "# sns.distplot(ax = ax2, a = h.loc[(reg, meas), h.columns[0]], color = cerner_colors[0], bins = bins, hist = False, label = h.columns[0])\n",
    "# sns.distplot(ax = ax2, a = h.loc[(reg, meas), h.columns[1]], color = cerner_colors[1], bins = bins, hist = False, label = h.columns[1]).xaxis.set_major_formatter(mpl.ticker.PercentFormatter(xmax = 1))\n",
    "# #             remove x-label\n",
    "# ax2.set_xlabel('')\n",
    "# #             set x-lim\n",
    "# ax2.set_xlim(xmin = 0, xmax = 1)\n",
    "# #             change font size of ticks\n",
    "# ax2.tick_params(axis = 'both', labelsize = 10, pad = 2.5)\n",
    "# #             set legend\n",
    "# ax2.legend(loc = 'upper left', prop = {\n",
    "#     'size' : 10\n",
    "# })\n",
    "# ax2.grid(axis='x')\n",
    "# #             save figure\n",
    "# fig2.savefig('kde_fig.png', dpi = 500)\n",
    "# #             close fig\n",
    "# plt.close(fig2)\n",
    "\n",
    "# for slide in trending_slides:\n",
    "    \n",
    "#     ###########\n",
    "#     ## TITLE ##\n",
    "#     ###########\n",
    "\n",
    "#     ## Slide 1\n",
    "#     # select title box\n",
    "#     title_box = slide.shapes[0]\n",
    "#     text_frame = title_box.text_frame\n",
    "#     p = text_frame.paragraphs[0]\n",
    "\n",
    "#     # add registry, then bold & color\n",
    "#     run = p.add_run()\n",
    "#     run.text = reg\n",
    "#     font = run.font\n",
    "#     font.bold = True\n",
    "#     font.color.theme_color = MSO_THEME_COLOR.ACCENT_1\n",
    "\n",
    "#     # add measure\n",
    "#     run = p.add_run()\n",
    "#     run.text = \" \"+meas\n",
    "#     font = run.font\n",
    "\n",
    "#     ###################\n",
    "#     ## ANALYSIS TEXT ##\n",
    "#     ###################\n",
    "#     # Slide 1\n",
    "#     # select text box\n",
    "#     title_box = slide.shapes[1]\n",
    "#     text_frame = title_box.text_frame\n",
    "#     p = text_frame.paragraphs[0]\n",
    "#     # add initial text\n",
    "#     run = p.add_run()\n",
    "#     run.text = formatted.loc[(reg,meas),\"initial_text\"]\n",
    "#     font = run.font\n",
    "#     # add change text\n",
    "#     run = p.add_run()\n",
    "#     run.text = formatted.loc[(reg,meas),\"change_text\"]\n",
    "#     font = run.font\n",
    "#     if table_for_trend.iloc[3,2] == 'p-value: <0.05':\n",
    "#         font.bold = True\n",
    "#         font.color.theme_color = MSO_THEME_COLOR.ACCENT_1\n",
    "#     # add final text\n",
    "#     run = p.add_run()\n",
    "#     run.text = \" \"+ formatted.loc[(reg,meas),\"final_text\"]\n",
    "#     font = run.font\n",
    "\n",
    "#     ################\n",
    "#     # CREATE TABLE #\n",
    "#     ################    \n",
    "#     shapes = slide.shapes\n",
    "#     table_placeholder = slide.shapes[2]\n",
    "#     shape = table_placeholder.insert_table(rows=rows+1, cols=columns)\n",
    "#     table = shape.table\n",
    "\n",
    "#     ###############\n",
    "#     # TITLE TABLE #\n",
    "#     ###############\n",
    "\n",
    "#     # loop through all columns in df and insert as 0th row\n",
    "#     for col in range(columns):\n",
    "#         cell = table.cell(0,col)\n",
    "#         p = cell.text_frame.paragraphs[0]\n",
    "#         # add the tier name in bold\n",
    "#         run = p.add_run()\n",
    "#         # add text from table columns\n",
    "#         run.text = my_table.columns[col]\n",
    "#         # center and middle text\n",
    "#         cell.text_frame.paragraphs[0].alignment = PP_ALIGN.CENTER\n",
    "#         cell.vertical_anchor = MSO_ANCHOR.MIDDLE\n",
    "\n",
    "#     ##############\n",
    "#     # FILL TABLE #\n",
    "#     ##############\n",
    "\n",
    "#     # look through all values in table (exluding 0th row)\n",
    "#     m = my_table.values\n",
    "#     for row in range(rows):\n",
    "#             for col in range(columns):\n",
    "#                 val = m[row, col]\n",
    "#                 cell = table.cell(row+1,col)\n",
    "#                 p = cell.text_frame.paragraphs[0]\n",
    "#                 # add the text as run\n",
    "#                 run = p.add_run()\n",
    "#                 # add text from table, accounting for name row\n",
    "#                 run.text = str(my_table.iloc[row,col])\n",
    "#                 # Middle & Center all text\n",
    "#                 cell.vertical_anchor = MSO_ANCHOR.MIDDLE\n",
    "#                 cell.text_frame.paragraphs[0].alignment = PP_ALIGN.CENTER\n",
    "#                 if col is 0:\n",
    "#                     # bold\n",
    "#                     font = run.font\n",
    "#                     font.bold = True\n",
    "\n",
    "#     # make sure t-stat isn't bolded\n",
    "#     cell = table.cell(4,0)\n",
    "#     p = cell.text_frame.paragraphs[0]\n",
    "#     # add text from table\n",
    "#     p.text = str(my_table.iloc[3,0])\n",
    "#     # # Middle & Center all text\n",
    "#     # cell.vertical_anchor = MSO_ANCHOR.MIDDLE\n",
    "#     # cell.text_frame.paragraphs[0].alignment = PP_ALIGN.CENTER\n",
    "#     # no bold bold\n",
    "#     font = p.font\n",
    "#     font.bold = False\n",
    "\n",
    "#     # format table style\n",
    "#     tbl =  shape._element.graphic.graphicData.tbl\n",
    "#     style_id = medium_3_accent_5\n",
    "#     tbl[0][-1].text = style_id\n",
    "\n",
    "#     #######################\n",
    "#     ## SIGNIFICANCE TEXT ##\n",
    "#     #######################\n",
    "\n",
    "#     # Add qualifying text if 'not significant'...otherwise remove placeholder object\n",
    "#     if table_for_trend.iloc[3,2] == 'p-value: <0.05':\n",
    "#         cp = slide.shapes[3]\n",
    "#         cp.element.getparent().remove(cp.element)\n",
    "#     else: \n",
    "#         sig_text='*not statistically significant'\n",
    "#         slide.shapes[3].text = sig_text\n",
    "\n",
    "# ############################\n",
    "# ## INSERT HISTOGRAM & KDE ##\n",
    "# ############################\n",
    "\n",
    "# # insert Histogram\n",
    "# slide1.shapes[4].insert_picture('hist_fig.png')\n",
    "\n",
    "# # insert KDE\n",
    "# slide2.shapes[4].insert_picture('kde_fig.png')\n",
    "\n",
    "# ##########\n",
    "# ## SAVE ##\n",
    "# ##########\n",
    "# # save pptx\n",
    "# prs.save(f\"{client}_test_one_measure.pptx\")\n",
    "# print(f\"Finished {reg},{meas}\")\n",
    "# print(\"Done!\")"
   ]
  },
  {
   "cell_type": "markdown",
   "metadata": {},
   "source": [
    "# Loop Through All Measures"
   ]
  },
  {
   "cell_type": "markdown",
   "metadata": {},
   "source": [
    "To-Do:\n",
    "* Bold and Blue Registry\n",
    "* Bold and Blue \"increase of X\" or \"decrease of X\" for significant measures\n",
    "* Format Table (grey) [Medium 2 Accent 2?]\n",
    "* Center text in table\n",
    "* make sure empty boxes drop"
   ]
  },
  {
   "cell_type": "code",
   "execution_count": 52,
   "metadata": {},
   "outputs": [
    {
     "name": "stdout",
     "output_type": "stream",
     "text": [
      "Finished Comprehensive Adult Wellness,Breast Cancer Screening\n",
      "Finished Comprehensive Adult Wellness,Cervical Cancer Screening\n",
      "Finished Comprehensive Adult Wellness,Chlamydia Screening In Women\n",
      "Finished Comprehensive Adult Wellness,Depression Screening\n",
      "Finished Comprehensive Adult Wellness,Diabetes Screening\n",
      "Finished Comprehensive Adult Wellness,Fall Risk Screening\n",
      "Finished Comprehensive Adult Wellness,Screening For Osteoporosis For Women\n",
      "Comprehensive Adult Wellness Registry complete!\n",
      "Finished Diabetes Mellitus,Annual Eye Exam\n",
      "Finished Diabetes Mellitus,Hba1c Less Than 8\n",
      "Finished Diabetes Mellitus,Medical Attention To Nephropathy\n",
      "Diabetes Mellitus Registry complete!\n",
      "Done!\n"
     ]
    }
   ],
   "source": [
    "# open pptx from Cerner Standard Template\n",
    "prs = p2p.Presentation(r\"\\\\mustang\\workops_pub\\Pop Health\\DataWorks\\Data Insights\\Personal Working Folders\\Ian\\PowerPoint Templates\\Cerner Standard v5.pptx\".replace('\\\\','/'))\n",
    "\n",
    "############ ############ ############ \n",
    "# REGISTRY # # REGISTRY # # REGISTRY # \n",
    "############ ############ ############ \n",
    "# For each Registry in the dataset...\n",
    "for reg in stat_t.index.get_level_values(0).unique():\n",
    "\n",
    "    #############################\n",
    "    ## CREATE REGISTRY DIVIDER ##\n",
    "    #############################\n",
    "\n",
    "    # select Blue Divider from Slide Master\n",
    "    primary_content = prs.slide_layouts[6]\n",
    "\n",
    "    # add slide\n",
    "    slide = prs.slides.add_slide(primary_content)\n",
    "\n",
    "    ############################\n",
    "    ## TITLE REGISTRY DIVIDER ##\n",
    "    ############################\n",
    "\n",
    "    # select title box\n",
    "    title_box = slide.shapes[0]\n",
    "    text_frame = title_box.text_frame\n",
    "    p = text_frame.paragraphs[0]\n",
    "\n",
    "    # add registry, then bold & color\n",
    "    run = p.add_run()\n",
    "    run.text = reg\n",
    "    font = run.font\n",
    "    font.bold = True\n",
    "\n",
    "    ###################################\n",
    "    ## CREATE REGISTRY SUMMARY SLIDE ##\n",
    "    ###################################\n",
    "\n",
    "    # save slide from layout 2 in Slide Master\n",
    "    primary_content = prs.slide_layouts[2]\n",
    "\n",
    "    # add slide\n",
    "    slide = prs.slides.add_slide(primary_content)\n",
    "\n",
    "    ####################\n",
    "    ## TITLE RS SLIDE ##\n",
    "    ####################\n",
    "\n",
    "    # select title box\n",
    "    title_box = slide.shapes[0]\n",
    "    text_frame = title_box.text_frame\n",
    "    p = text_frame.paragraphs[0]\n",
    "    \n",
    "    # add registry, then bold & color\n",
    "    run = p.add_run()\n",
    "    run.text = reg\n",
    "    font = run.font\n",
    "    font.bold = True\n",
    "    font.color.theme_color = MSO_THEME_COLOR.ACCENT_1\n",
    "    \n",
    "    # add text\n",
    "    run = p.add_run()\n",
    "    run.text = \" Provider Performance\"\n",
    "\n",
    "    #####################\n",
    "    ## CREATE RS TABLE ##\n",
    "    #####################\n",
    "\n",
    "    ## Make Registry Summary Table from \"Current State\" dataframe\n",
    "    reg_summary = cs.loc[cs.Registry==reg]\n",
    "    reg_summary = reg_summary.loc[reg_summary.Measure!=\"All\"]\n",
    "    reg_summary.drop(columns=\"Registry\",inplace=True)\n",
    "\n",
    "    # assign to \"my_table\" variable\n",
    "    my_table = reg_summary\n",
    "\n",
    "    # convert column names to titlecase\n",
    "    my_table.columns = my_table.columns.str.title()\n",
    "\n",
    "    rows, columns = my_table.shape\n",
    "    #### Create Table Slide 1 ####\n",
    "    shapes = slide.shapes\n",
    "    table_placeholder = slide.shapes[1]\n",
    "    shape = table_placeholder.insert_table(rows=rows+1, cols=columns)\n",
    "    table = shape.table\n",
    "\n",
    "    ##################\n",
    "    # TITLE RS TABLE #\n",
    "    ##################\n",
    "\n",
    "    # loop through all columns in df and insert as 0th row\n",
    "    for col in range(columns):\n",
    "        cell = table.cell(0,col)\n",
    "        p = cell.text_frame.paragraphs[0]\n",
    "        # add the tier name in bold\n",
    "        run = p.add_run()\n",
    "        # add text from table columns\n",
    "        run.text = my_table.columns[col]\n",
    "        # center and middle text\n",
    "        cell.text_frame.paragraphs[0].alignment = PP_ALIGN.CENTER\n",
    "        cell.vertical_anchor = MSO_ANCHOR.MIDDLE\n",
    "\n",
    "    #################\n",
    "    # FILL RS TABLE #\n",
    "    #################\n",
    "\n",
    "    # look through all values in table (exluding 0th row)\n",
    "    m = my_table.values\n",
    "    for row in range(rows):\n",
    "            for col in range(columns):\n",
    "                val = m[row, col]\n",
    "                cell = table.cell(row+1,col)\n",
    "                p = cell.text_frame.paragraphs[0]\n",
    "                # add the tier name in bold\n",
    "                run = p.add_run()\n",
    "                # add text from table, accounting for name row\n",
    "                run.text = str(my_table.iloc[row,col])\n",
    "                # Middle all text; Left align if measure, otherwise center\n",
    "                cell.vertical_anchor = MSO_ANCHOR.MIDDLE\n",
    "                if col is 0:\n",
    "                        cell.text_frame.paragraphs[0].alignment = PP_ALIGN.LEFT\n",
    "                else:\n",
    "                    cell.text_frame.paragraphs[0].alignment = PP_ALIGN.CENTER\n",
    "\n",
    "    # format table style\n",
    "    tbl =  shape._element.graphic.graphicData.tbl\n",
    "    style_id = medium_3_accent_5\n",
    "    tbl[0][-1].text = style_id\n",
    "    ############     ############     ############ \n",
    "    # MEASURES #     # MEASURES #     # MEASURES #\n",
    "    ############     ############     ############\n",
    "    # For each Measure in the dataset...\n",
    "    for meas in stat_t.loc[reg].index.unique():\n",
    "        if meas != 'All':\n",
    "            ############################\n",
    "            ## CREATE TRENDING SLIDES ##\n",
    "            ############################\n",
    "\n",
    "            # save slide from layout 9 in Slide Master\n",
    "            primary_content = prs.slide_layouts[0]\n",
    "\n",
    "            # add slide\n",
    "            slide1 = prs.slides.add_slide(primary_content)\n",
    "            # add slide 2\n",
    "            slide2 = prs.slides.add_slide(primary_content)\n",
    "\n",
    "            trending_slides = [slide1, slide2]\n",
    "            \n",
    "            ##############################\n",
    "            ## CREATE TRENDING TABLE DF ##\n",
    "            ##############################\n",
    "\n",
    "            # make table\n",
    "            ttable = formatted.reset_index()\n",
    "            slicet = ttable.loc[(ttable[\"measure\"]==meas) & (ttable[\"registry\"]==reg)]\n",
    "            means = slicet[[dt_min+\"_mean\",dt_max+\"_mean\"]]\n",
    "            stds = slicet[[dt_min+\"_std\",dt_max+\"_std\"]]\n",
    "            conf_ints = slicet[[dt_min+\"_conf_int\",dt_max+\"_conf_int\"]]\n",
    "            stats_r = slicet[[\"t_stat\",\"df\",\"p_value\"]]\n",
    "            \n",
    "            # columns\n",
    "            means.columns = dt_name_cols\n",
    "            stds.columns = dt_name_cols\n",
    "            conf_ints.columns = dt_name_cols\n",
    "            stats_r.columns = [\"\"]+dt_name_cols\n",
    "            \n",
    "            # formatting\n",
    "            means.insert(0,\"\",['Mean Met %'])\n",
    "            stds.insert(0,\"\",['Standard Dev.'])\n",
    "            conf_ints.insert(0,\"\",['95% CI'])\n",
    "            table_for_trend = pd.concat([means,stds,conf_ints,stats_r])\n",
    "\n",
    "            # assign to \"my_table\" variable\n",
    "            my_table = table_for_trend\n",
    "\n",
    "            # convert column names to titlecase\n",
    "            my_table.columns = my_table.columns.str.title()\n",
    "            \n",
    "            # create 'rows' & 'columns' variables for later use\n",
    "            rows, columns = my_table.shape\n",
    "\n",
    "            ######################\n",
    "            ## CREATE HISTOGRAM ##\n",
    "            ######################\n",
    "\n",
    "            # make figure, plot\n",
    "            fig1, ax1 = plt.subplots(figsize = (5, 5))\n",
    "            # create plot\n",
    "            h.loc[(reg, meas)].plot.hist(ax = ax1, bins = bins, **{\n",
    "                'alpha' : 0.6\n",
    "            }, color = [cerner_colors[0], cerner_colors[1]]).xaxis.set_major_formatter(mpl.ticker.PercentFormatter(xmax = 1))\n",
    "            #             remove y-label\n",
    "            ax1.set_ylabel('')\n",
    "            #             change font size of ticks\n",
    "            ax1.tick_params(axis = 'both', labelsize = 10, pad = 2.5)\n",
    "            #             set legend\n",
    "            ax1.legend(loc = 'upper left', prop = {\n",
    "                'size' : 10\n",
    "            })\n",
    "            ax1.grid(axis='x')\n",
    "            #             save figure\n",
    "            fig1.savefig('hist_fig.png', dpi = 500)\n",
    "            #             close fig\n",
    "            plt.close(fig1)\n",
    "\n",
    "            ################\n",
    "            ## CREATE KDE ##\n",
    "            ################\n",
    "\n",
    "            #             make figure, plot\n",
    "            fig2, ax2 = plt.subplots(figsize = (5, 5))\n",
    "            #             create plot\n",
    "            sns.distplot(ax = ax2, a = h.loc[(reg, meas), h.columns[0]], color = cerner_colors[0], bins = bins, hist = False, label = h.columns[0])\n",
    "            sns.distplot(ax = ax2, a = h.loc[(reg, meas), h.columns[1]], color = cerner_colors[1], bins = bins, hist = False, label = h.columns[1]).xaxis.set_major_formatter(mpl.ticker.PercentFormatter(xmax = 1))\n",
    "            #             remove x-label\n",
    "            ax2.set_xlabel('')\n",
    "            #             set x-lim\n",
    "            ax2.set_xlim(xmin = 0, xmax = 1)\n",
    "            #             change font size of ticks\n",
    "            ax2.tick_params(axis = 'both', labelsize = 10, pad = 2.5)\n",
    "            #             set legend\n",
    "            ax2.legend(loc = 'upper left', prop = {\n",
    "                'size' : 10\n",
    "            })\n",
    "            ax2.grid(axis='x')\n",
    "            #             save figure\n",
    "            fig2.savefig('kde_fig.png', dpi = 500)\n",
    "            #             close fig\n",
    "            plt.close(fig2)\n",
    "\n",
    "            ############################\n",
    "            ## INSERT HISTOGRAM & KDE ##\n",
    "            ############################\n",
    "\n",
    "            # insert Histogram\n",
    "            slide1.shapes[4].insert_picture('hist_fig.png')\n",
    "\n",
    "            # insert KDE\n",
    "            slide2.shapes[4].insert_picture('kde_fig.png')\n",
    "            \n",
    "            ####################################\n",
    "            # MAKE DUPLICATES OF SLIDE OBJECTS #\n",
    "            ####################################\n",
    "            \n",
    "            for slide in trending_slides:\n",
    "                \n",
    "                ###########\n",
    "                ## TITLE ##\n",
    "                ###########\n",
    "                \n",
    "                # select title box\n",
    "                title_box = slide.shapes[0]\n",
    "                text_frame = title_box.text_frame\n",
    "                p = text_frame.paragraphs[0]\n",
    "\n",
    "                # add registry, then bold & color\n",
    "                run = p.add_run()\n",
    "                run.text = reg\n",
    "                font = run.font\n",
    "                font.bold = True\n",
    "                font.color.theme_color = MSO_THEME_COLOR.ACCENT_1\n",
    "\n",
    "                # add measure\n",
    "                run = p.add_run()\n",
    "                run.text = \" \"+meas\n",
    "                font = run.font\n",
    "\n",
    "                ###################\n",
    "                ## ANALYSIS TEXT ##\n",
    "                ###################\n",
    "                \n",
    "                # select text box\n",
    "                title_box = slide.shapes[1]\n",
    "                text_frame = title_box.text_frame\n",
    "                p = text_frame.paragraphs[0]\n",
    "                # add initial text\n",
    "                run = p.add_run()\n",
    "                run.text = formatted.loc[(reg,meas),\"initial_text\"]\n",
    "                font = run.font\n",
    "                # add change text\n",
    "                run = p.add_run()\n",
    "                run.text = formatted.loc[(reg,meas),\"change_text\"]\n",
    "                font = run.font\n",
    "                if table_for_trend.iloc[3,2] == 'p-value: <0.05':\n",
    "                    font.bold = True\n",
    "                    font.color.theme_color = MSO_THEME_COLOR.ACCENT_1\n",
    "                # add final text\n",
    "                run = p.add_run()\n",
    "                run.text = \" \"+ formatted.loc[(reg,meas),\"final_text\"]\n",
    "                font = run.font\n",
    "\n",
    "                ################\n",
    "                # CREATE TABLE #\n",
    "                ################  \n",
    "                \n",
    "                shapes = slide.shapes\n",
    "                table_placeholder = slide.shapes[2]\n",
    "                shape = table_placeholder.insert_table(rows=rows+1, cols=columns)\n",
    "                table = shape.table\n",
    "\n",
    "                ###############\n",
    "                # TITLE TABLE #\n",
    "                ###############\n",
    "\n",
    "                # loop through all columns in df and insert as 0th row\n",
    "                for col in range(columns):\n",
    "                    cell = table.cell(0,col)\n",
    "                    p = cell.text_frame.paragraphs[0]\n",
    "                    # add the tier name in bold\n",
    "                    run = p.add_run()\n",
    "                    # add text from table columns\n",
    "                    run.text = my_table.columns[col]\n",
    "                    # center and middle text\n",
    "                    cell.text_frame.paragraphs[0].alignment = PP_ALIGN.CENTER\n",
    "                    cell.vertical_anchor = MSO_ANCHOR.MIDDLE\n",
    "\n",
    "                ##############\n",
    "                # FILL TABLE #\n",
    "                ##############\n",
    "\n",
    "                # loop through all values in table (exluding 0th row)\n",
    "                m = my_table.values\n",
    "                for row in range(rows):\n",
    "                        for col in range(columns):\n",
    "                            val = m[row, col]\n",
    "                            cell = table.cell(row+1,col)\n",
    "                            p = cell.text_frame.paragraphs[0]\n",
    "                            # add the text as run\n",
    "                            run = p.add_run()\n",
    "                            # add text from table, accounting for name row\n",
    "                            run.text = str(my_table.iloc[row,col])\n",
    "                            # Middle & Center all text\n",
    "                            cell.vertical_anchor = MSO_ANCHOR.MIDDLE\n",
    "                            cell.text_frame.paragraphs[0].alignment = PP_ALIGN.CENTER\n",
    "                            if col is 0:\n",
    "                                # bold\n",
    "                                font = run.font\n",
    "                                font.bold = True\n",
    "\n",
    "                # make sure t-stat isn't bolded\n",
    "                cell = table.cell(4,0)\n",
    "                p = cell.text_frame.paragraphs[0]\n",
    "                # add text from table\n",
    "                p.text = str(my_table.iloc[3,0])\n",
    "                # no bold bold\n",
    "                font = p.font\n",
    "                font.bold = False\n",
    "\n",
    "                # format table style\n",
    "                tbl =  shape._element.graphic.graphicData.tbl\n",
    "                style_id = medium_3_accent_5\n",
    "                tbl[0][-1].text = style_id\n",
    "\n",
    "                #######################\n",
    "                ## SIGNIFICANCE TEXT ##\n",
    "                #######################\n",
    "\n",
    "                # Add qualifying text if 'not significant'...otherwise remove placeholder object\n",
    "                if table_for_trend.iloc[3,2] == 'p-value: <0.05':\n",
    "                    cp = slide.shapes[3]\n",
    "                    cp.element.getparent().remove(cp.element)\n",
    "                else: \n",
    "                    sig_text='*not statistically significant'\n",
    "                    slide.shapes[3].text = sig_text\n",
    "\n",
    "            ##########\n",
    "            ## SAVE ##\n",
    "            ##########\n",
    "            # save pptx\n",
    "            prs.save(f\"{client}14MoAll.pptx\")\n",
    "            print(f\"Finished {reg},{meas}\")\n",
    "    print(f\"{reg} Registry complete!\")\n",
    "print(\"Done!\")"
   ]
  },
  {
   "cell_type": "code",
   "execution_count": null,
   "metadata": {},
   "outputs": [],
   "source": []
  }
 ],
 "metadata": {
  "kernelspec": {
   "display_name": "Python 3",
   "language": "python",
   "name": "python3"
  },
  "language_info": {
   "codemirror_mode": {
    "name": "ipython",
    "version": 3
   },
   "file_extension": ".py",
   "mimetype": "text/x-python",
   "name": "python",
   "nbconvert_exporter": "python",
   "pygments_lexer": "ipython3",
   "version": "3.6.4"
  }
 },
 "nbformat": 4,
 "nbformat_minor": 2
}
