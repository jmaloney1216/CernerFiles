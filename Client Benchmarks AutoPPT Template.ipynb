{
 "cells": [
  {
   "cell_type": "code",
   "execution_count": null,
   "metadata": {},
   "outputs": [],
   "source": [
    "# Imports"
   ]
  },
  {
   "cell_type": "markdown",
   "metadata": {},
   "source": [
    "SELECT | created_dt_tm, prsnl_id, fqn, num, den\n",
    "\n",
    "FROM | PH_F_Scorecard_Trending_Personnel_Point\n",
    "\n",
    "WHERE |\n",
    "    den > 0,\n",
    "    date between month 1 and month 3\n",
    "    date_count >=3"
   ]
  },
  {
   "cell_type": "markdown",
   "metadata": {},
   "source": [
    "Add Registry & Measure"
   ]
  },
  {
   "cell_type": "code",
   "execution_count": 1,
   "metadata": {},
   "outputs": [],
   "source": [
    "from Ian import client_functions, pd, np, clusters, equal_in, Benchmarks\n",
    "import matplotlib as mpl\n",
    "import matplotlib.pyplot as plt\n",
    "from matplotlib import style \n",
    "import PandasToPowerPoint as p2p # make PowerPoints\n",
    "from pptx.enum.dml import MSO_THEME_COLOR # color text based on PPT theme\n",
    "from pptx.util import Inches, Pt # add Inches for sizing PPT elements\n",
    "from pptx.enum.text import PP_ALIGN # for aligning text\n",
    "from pptx.enum.text import MSO_ANCHOR # for anchoring text in table"
   ]
  },
  {
   "cell_type": "code",
   "execution_count": 2,
   "metadata": {},
   "outputs": [],
   "source": [
    "pd.options.display.max_columns=200\n",
    "pd.options.display.max_rows=1000\n",
    "pd.options.display.max_colwidth=500"
   ]
  },
  {
   "cell_type": "markdown",
   "metadata": {},
   "source": [
    "# A. Table & Analysis"
   ]
  },
  {
   "cell_type": "markdown",
   "metadata": {},
   "source": [
    "## 1. Data Cleaning"
   ]
  },
  {
   "cell_type": "code",
   "execution_count": 3,
   "metadata": {},
   "outputs": [],
   "source": [
    "client = 'LGMC_LA'"
   ]
  },
  {
   "cell_type": "markdown",
   "metadata": {},
   "source": [
    "Run the Client Benchmarks AutoPPT [Link](https://github.cerner.com/ConsultingAnalytics/Pop-Health-Consulting-Analytics/blob/master/DataInsights/ABC/Client%20Benchmarks%20AutoPPT%20Template.ipynb) and download the csv locally\n",
    "\n",
    "Node 54 > Python > Alex"
   ]
  },
  {
   "cell_type": "code",
   "execution_count": 4,
   "metadata": {},
   "outputs": [],
   "source": [
    "# past filepath of csv from \"Client Benchmarks AutoPPT Template.ipynb\"\n",
    "path = rf\"C:\\Users\\ao054198\\Downloads\\LGMC_LA_scorable_raw_data_2019Q2.csv\"\n",
    "raw = pd.read_csv(path,encoding = \"ISO-8859-1\")\n",
    "raw.columns = raw.columns.str.lower()"
   ]
  },
  {
   "cell_type": "code",
   "execution_count": 5,
   "metadata": {},
   "outputs": [
    {
     "data": {
      "text/html": [
       "<div>\n",
       "<style scoped>\n",
       "    .dataframe tbody tr th:only-of-type {\n",
       "        vertical-align: middle;\n",
       "    }\n",
       "\n",
       "    .dataframe tbody tr th {\n",
       "        vertical-align: top;\n",
       "    }\n",
       "\n",
       "    .dataframe thead th {\n",
       "        text-align: right;\n",
       "    }\n",
       "</style>\n",
       "<table border=\"1\" class=\"dataframe\">\n",
       "  <thead>\n",
       "    <tr style=\"text-align: right;\">\n",
       "      <th></th>\n",
       "      <th>year_quarter</th>\n",
       "      <th>fully_qualified_name</th>\n",
       "      <th>registry</th>\n",
       "      <th>measure</th>\n",
       "      <th>date</th>\n",
       "      <th>prsnl_id</th>\n",
       "      <th>numerator</th>\n",
       "      <th>denominator</th>\n",
       "    </tr>\n",
       "  </thead>\n",
       "  <tbody>\n",
       "    <tr>\n",
       "      <th>0</th>\n",
       "      <td>2019Q2</td>\n",
       "      <td>cernerstandard.adultwellness.org2014.clinical/breast-cancer-screening</td>\n",
       "      <td>Adult Wellness</td>\n",
       "      <td>Breast Cancer Screening</td>\n",
       "      <td>2019-04-03 01:10:38.959000-05:00</td>\n",
       "      <td>35587ab3-069c-4dc6-8da1-6b0a98b6025e</td>\n",
       "      <td>119</td>\n",
       "      <td>188</td>\n",
       "    </tr>\n",
       "  </tbody>\n",
       "</table>\n",
       "</div>"
      ],
      "text/plain": [
       "  year_quarter  \\\n",
       "0       2019Q2   \n",
       "\n",
       "                                                    fully_qualified_name  \\\n",
       "0  cernerstandard.adultwellness.org2014.clinical/breast-cancer-screening   \n",
       "\n",
       "         registry                  measure                              date  \\\n",
       "0  Adult Wellness  Breast Cancer Screening  2019-04-03 01:10:38.959000-05:00   \n",
       "\n",
       "                               prsnl_id  numerator  denominator  \n",
       "0  35587ab3-069c-4dc6-8da1-6b0a98b6025e        119          188  "
      ]
     },
     "execution_count": 5,
     "metadata": {},
     "output_type": "execute_result"
    }
   ],
   "source": [
    "raw.head(1)"
   ]
  },
  {
   "cell_type": "code",
   "execution_count": 6,
   "metadata": {},
   "outputs": [],
   "source": [
    "# for 3 months in specified querter, put 1st date of each into an array\n",
    "dates = Benchmarks.dream_dates(raw.year_quarter.unique()[0])"
   ]
  },
  {
   "cell_type": "code",
   "execution_count": 7,
   "metadata": {},
   "outputs": [
    {
     "data": {
      "text/plain": [
       "DatetimeIndex(['2019-04-01', '2019-05-01', '2019-06-01'], dtype='datetime64[ns]', freq='MS')"
      ]
     },
     "execution_count": 7,
     "metadata": {},
     "output_type": "execute_result"
    }
   ],
   "source": [
    "dates"
   ]
  },
  {
   "cell_type": "code",
   "execution_count": 8,
   "metadata": {},
   "outputs": [],
   "source": [
    "scorable = raw[[\n",
    "    \"date\",\n",
    "    \"prsnl_id\",\n",
    "    \"fully_qualified_name\",\n",
    "    \"numerator\",\n",
    "    \"denominator\"\n",
    "]]"
   ]
  },
  {
   "cell_type": "code",
   "execution_count": 9,
   "metadata": {},
   "outputs": [
    {
     "name": "stderr",
     "output_type": "stream",
     "text": [
      "C:\\Users\\ao054198\\AppData\\Local\\Continuum\\anaconda3\\lib\\site-packages\\pandas\\core\\indexing.py:543: SettingWithCopyWarning: \n",
      "A value is trying to be set on a copy of a slice from a DataFrame.\n",
      "Try using .loc[row_indexer,col_indexer] = value instead\n",
      "\n",
      "See the caveats in the documentation: http://pandas.pydata.org/pandas-docs/stable/indexing.html#indexing-view-versus-copy\n",
      "  self.obj[item] = s\n"
     ]
    }
   ],
   "source": [
    "# ensure num and den are numeric\n",
    "# same as scorable[[\"numerator\",\"denominator\"]] = scorable[[\"numerator\",\"denominator\"]].apply(pd.to_numeric)\n",
    "scorable.loc[:, 'numerator':] = scorable.loc[:, 'numerator':].apply(pd.to_numeric).copy()"
   ]
  },
  {
   "cell_type": "code",
   "execution_count": 10,
   "metadata": {},
   "outputs": [],
   "source": [
    "df = scorable"
   ]
  },
  {
   "cell_type": "code",
   "execution_count": 11,
   "metadata": {},
   "outputs": [
    {
     "name": "stderr",
     "output_type": "stream",
     "text": [
      "C:\\Users\\ao054198\\AppData\\Local\\Continuum\\anaconda3\\lib\\site-packages\\pandas\\core\\generic.py:4405: SettingWithCopyWarning: \n",
      "A value is trying to be set on a copy of a slice from a DataFrame.\n",
      "Try using .loc[row_indexer,col_indexer] = value instead\n",
      "\n",
      "See the caveats in the documentation: http://pandas.pydata.org/pandas-docs/stable/indexing.html#indexing-view-versus-copy\n",
      "  self[name] = value\n"
     ]
    }
   ],
   "source": [
    "df.date = pd.to_datetime(pd.to_datetime(df.date, utc=True).dt.date)"
   ]
  },
  {
   "cell_type": "code",
   "execution_count": 12,
   "metadata": {},
   "outputs": [],
   "source": [
    "# # date check if more than 3 dates; keep earliest for each month\n",
    "df = Benchmarks.date_check(df,dates)"
   ]
  },
  {
   "cell_type": "code",
   "execution_count": 13,
   "metadata": {},
   "outputs": [
    {
     "data": {
      "text/plain": [
       "array(['2019-04-03T00:00:00.000000000', '2019-05-02T00:00:00.000000000',\n",
       "       '2019-06-02T00:00:00.000000000'], dtype='datetime64[ns]')"
      ]
     },
     "execution_count": 13,
     "metadata": {},
     "output_type": "execute_result"
    }
   ],
   "source": [
    "df.date.unique()"
   ]
  },
  {
   "cell_type": "markdown",
   "metadata": {},
   "source": [
    "## 2. ABC Calculation"
   ]
  },
  {
   "cell_type": "code",
   "execution_count": 14,
   "metadata": {},
   "outputs": [],
   "source": [
    "# make abc 90\n",
    "abc90 = Benchmarks.abc(Benchmarks.population(Benchmarks.apf(df.groupby([\n",
    "    'fully_qualified_name',\n",
    "    'prsnl_id'\n",
    "])[[\n",
    "    'numerator',\n",
    "    'denominator'\n",
    "]].mean()), ratio = 0.1))"
   ]
  },
  {
   "cell_type": "code",
   "execution_count": 15,
   "metadata": {},
   "outputs": [],
   "source": [
    "# make abc 50\n",
    "abc50 = Benchmarks.abc(Benchmarks.population(Benchmarks.apf(df.groupby([\n",
    "    'fully_qualified_name',\n",
    "    'prsnl_id'\n",
    "])[[\n",
    "    'numerator',\n",
    "    'denominator'\n",
    "]].mean()), ratio = 0.5))"
   ]
  },
  {
   "cell_type": "code",
   "execution_count": 16,
   "metadata": {},
   "outputs": [],
   "source": [
    "# join them\n",
    "abc = abc90.join(abc50, lsuffix = '_90', rsuffix = '_50')"
   ]
  },
  {
   "cell_type": "code",
   "execution_count": 17,
   "metadata": {},
   "outputs": [],
   "source": [
    "# calculate avg MM for each prsnl_id for each fqn\n",
    "s = df.groupby([\n",
    "    'fully_qualified_name',\n",
    "    'prsnl_id'\n",
    "])[[\n",
    "    'numerator',\n",
    "    'denominator'\n",
    "]].mean().apply(lambda x : x['numerator'] / x['denominator'], axis = 1)"
   ]
  },
  {
   "cell_type": "code",
   "execution_count": 18,
   "metadata": {},
   "outputs": [],
   "source": [
    "#creating a df for tier 1, empty\n",
    "tiers = pd.DataFrame(index = s.index.get_level_values('fully_qualified_name').unique(), columns = [\n",
    "    'tier3'\n",
    "])\n",
    "# join to abc\n",
    "tiers = tiers.join(abc)"
   ]
  },
  {
   "cell_type": "code",
   "execution_count": 19,
   "metadata": {},
   "outputs": [],
   "source": [
    "#Benchmarks.tiers function is where tier 3 is getting created\n",
    "for fqn in s.index.get_level_values('fully_qualified_name').unique():\n",
    "    tiers.loc[fqn, 'tier3'] = Benchmarks.tiers(s.loc[fqn])"
   ]
  },
  {
   "cell_type": "code",
   "execution_count": 20,
   "metadata": {},
   "outputs": [],
   "source": [
    "# rename columns to reflect tiers\n",
    "tiers = tiers[[\n",
    "    'tier3',\n",
    "    'abc_50',\n",
    "    'abc_90'\n",
    "]].rename(columns = {\n",
    "    'abc_50' : 'tier2',\n",
    "    'abc_90' : 'tier1'\n",
    "})"
   ]
  },
  {
   "cell_type": "markdown",
   "metadata": {},
   "source": [
    "## 3. Determine Which Tiers Prsnl_Id Fall Into"
   ]
  },
  {
   "cell_type": "code",
   "execution_count": 21,
   "metadata": {
    "scrolled": true
   },
   "outputs": [],
   "source": [
    "# join the prsnl_id MM to the QualiTiers\n",
    "st = s.reset_index('prsnl_id').join(tiers).rename(columns = {\n",
    "    0 : 'measure_met'\n",
    "})"
   ]
  },
  {
   "cell_type": "code",
   "execution_count": 22,
   "metadata": {},
   "outputs": [],
   "source": [
    "# classify prsnl_id by their tier\n",
    "st['tier'] = np.where(st.measure_met >= st.tier1, 'tier1', np.where(st.measure_met >= st.tier2, 'tier2', np.where(st.measure_met >= st.tier3, 'tier3', 'bottom')))"
   ]
  },
  {
   "cell_type": "code",
   "execution_count": 23,
   "metadata": {},
   "outputs": [],
   "source": [
    "# make bottom ABC be 0\n",
    "tiers['bottom'] = 0"
   ]
  },
  {
   "cell_type": "code",
   "execution_count": 24,
   "metadata": {},
   "outputs": [],
   "source": [
    "# Count prsnl in each of the Tiers\n",
    "st = st.groupby([\n",
    "    'fully_qualified_name',\n",
    "    'tier'\n",
    "]).agg({\n",
    "    'prsnl_id' : pd.Series.nunique\n",
    "}).rename(columns = {\n",
    "    'prsnl_id' : 'prsnl_count'\n",
    "}).stack().unstack('tier').reset_index(1, drop = True).fillna(0)"
   ]
  },
  {
   "cell_type": "code",
   "execution_count": 25,
   "metadata": {},
   "outputs": [],
   "source": [
    "# stack tiers df\n",
    "tiers = tiers.stack().to_frame('values')"
   ]
  },
  {
   "cell_type": "code",
   "execution_count": 26,
   "metadata": {},
   "outputs": [],
   "source": [
    "# stack the prsnl_count dataframe\n",
    "st = st.stack().to_frame('prsnl_count')"
   ]
  },
  {
   "cell_type": "code",
   "execution_count": 27,
   "metadata": {},
   "outputs": [],
   "source": [
    "tiers.index.rename('tier', level = 1, inplace = True)"
   ]
  },
  {
   "cell_type": "markdown",
   "metadata": {},
   "source": [
    "## 4. Stack Prsnl counts and Tiers"
   ]
  },
  {
   "cell_type": "code",
   "execution_count": 28,
   "metadata": {},
   "outputs": [],
   "source": [
    "# join prsnl_counts & tier values\n",
    "formatted_df = st.join(tiers).reset_index()\n",
    "# join measure from raw_df\n",
    "formatted_df = formatted_df.merge(raw[[\"fully_qualified_name\",\"registry\",\"measure\"]])\n",
    "# format as int and percent\n",
    "formatted_df['values'] = ((formatted_df['values']).astype(float)*100).round(1).astype(str) + '%'\n",
    "formatted_df['prsnl_count'] = (formatted_df['prsnl_count']).astype(int)\n",
    "# remove duplicate rows\n",
    "formatted_df.drop_duplicates(inplace=True)"
   ]
  },
  {
   "cell_type": "code",
   "execution_count": 29,
   "metadata": {},
   "outputs": [],
   "source": [
    "# rearrange columns\n",
    "f_df = formatted_df[[\n",
    "    \"fully_qualified_name\",\n",
    "    \"registry\",\n",
    "    \"measure\",\n",
    "    \"tier\",\n",
    "    \"prsnl_count\",\n",
    "    \"values\"\n",
    "]]"
   ]
  },
  {
   "cell_type": "code",
   "execution_count": 30,
   "metadata": {},
   "outputs": [
    {
     "data": {
      "text/html": [
       "<div>\n",
       "<style scoped>\n",
       "    .dataframe tbody tr th:only-of-type {\n",
       "        vertical-align: middle;\n",
       "    }\n",
       "\n",
       "    .dataframe tbody tr th {\n",
       "        vertical-align: top;\n",
       "    }\n",
       "\n",
       "    .dataframe thead th {\n",
       "        text-align: right;\n",
       "    }\n",
       "</style>\n",
       "<table border=\"1\" class=\"dataframe\">\n",
       "  <thead>\n",
       "    <tr style=\"text-align: right;\">\n",
       "      <th></th>\n",
       "      <th>fully_qualified_name</th>\n",
       "      <th>registry</th>\n",
       "      <th>measure</th>\n",
       "      <th>tier</th>\n",
       "      <th>prsnl_count</th>\n",
       "      <th>values</th>\n",
       "    </tr>\n",
       "  </thead>\n",
       "  <tbody>\n",
       "    <tr>\n",
       "      <th>0</th>\n",
       "      <td>cernerstandard.adultwellness.org2014.clinical/breast-cancer-screening</td>\n",
       "      <td>Adult Wellness</td>\n",
       "      <td>Breast Cancer Screening</td>\n",
       "      <td>bottom</td>\n",
       "      <td>35</td>\n",
       "      <td>0.0%</td>\n",
       "    </tr>\n",
       "  </tbody>\n",
       "</table>\n",
       "</div>"
      ],
      "text/plain": [
       "                                                    fully_qualified_name  \\\n",
       "0  cernerstandard.adultwellness.org2014.clinical/breast-cancer-screening   \n",
       "\n",
       "         registry                  measure    tier  prsnl_count values  \n",
       "0  Adult Wellness  Breast Cancer Screening  bottom           35   0.0%  "
      ]
     },
     "execution_count": 30,
     "metadata": {},
     "output_type": "execute_result"
    }
   ],
   "source": [
    "f_df.head(1)"
   ]
  },
  {
   "cell_type": "markdown",
   "metadata": {},
   "source": [
    "## 5. Export to CSV"
   ]
  },
  {
   "cell_type": "code",
   "execution_count": 31,
   "metadata": {},
   "outputs": [
    {
     "data": {
      "text/html": [
       "<div>\n",
       "<style scoped>\n",
       "    .dataframe tbody tr th:only-of-type {\n",
       "        vertical-align: middle;\n",
       "    }\n",
       "\n",
       "    .dataframe tbody tr th {\n",
       "        vertical-align: top;\n",
       "    }\n",
       "\n",
       "    .dataframe thead th {\n",
       "        text-align: right;\n",
       "    }\n",
       "</style>\n",
       "<table border=\"1\" class=\"dataframe\">\n",
       "  <thead>\n",
       "    <tr style=\"text-align: right;\">\n",
       "      <th></th>\n",
       "      <th>fully_qualified_name</th>\n",
       "      <th>registry</th>\n",
       "      <th>measure</th>\n",
       "      <th>tier</th>\n",
       "      <th>prsnl_count</th>\n",
       "      <th>values</th>\n",
       "    </tr>\n",
       "  </thead>\n",
       "  <tbody>\n",
       "    <tr>\n",
       "      <th>0</th>\n",
       "      <td>cernerstandard.adultwellness.org2014.clinical/breast-cancer-screening</td>\n",
       "      <td>Adult Wellness</td>\n",
       "      <td>Breast Cancer Screening</td>\n",
       "      <td>bottom</td>\n",
       "      <td>35</td>\n",
       "      <td>0.0%</td>\n",
       "    </tr>\n",
       "    <tr>\n",
       "      <th>1</th>\n",
       "      <td>cernerstandard.adultwellness.org2014.clinical/breast-cancer-screening</td>\n",
       "      <td>Adult Wellness</td>\n",
       "      <td>Breast Cancer Screening</td>\n",
       "      <td>tier1</td>\n",
       "      <td>1</td>\n",
       "      <td>83.2%</td>\n",
       "    </tr>\n",
       "    <tr>\n",
       "      <th>2</th>\n",
       "      <td>cernerstandard.adultwellness.org2014.clinical/breast-cancer-screening</td>\n",
       "      <td>Adult Wellness</td>\n",
       "      <td>Breast Cancer Screening</td>\n",
       "      <td>tier2</td>\n",
       "      <td>13</td>\n",
       "      <td>74.7%</td>\n",
       "    </tr>\n",
       "    <tr>\n",
       "      <th>3</th>\n",
       "      <td>cernerstandard.adultwellness.org2014.clinical/breast-cancer-screening</td>\n",
       "      <td>Adult Wellness</td>\n",
       "      <td>Breast Cancer Screening</td>\n",
       "      <td>tier3</td>\n",
       "      <td>8</td>\n",
       "      <td>68.3%</td>\n",
       "    </tr>\n",
       "    <tr>\n",
       "      <th>4</th>\n",
       "      <td>cernerstandard.adultwellness.org2014.clinical/colorectal-cancer-screening</td>\n",
       "      <td>Adult Wellness</td>\n",
       "      <td>Colorectal Cancer Screening</td>\n",
       "      <td>bottom</td>\n",
       "      <td>91</td>\n",
       "      <td>0.0%</td>\n",
       "    </tr>\n",
       "    <tr>\n",
       "      <th>5</th>\n",
       "      <td>cernerstandard.adultwellness.org2014.clinical/colorectal-cancer-screening</td>\n",
       "      <td>Adult Wellness</td>\n",
       "      <td>Colorectal Cancer Screening</td>\n",
       "      <td>tier1</td>\n",
       "      <td>16</td>\n",
       "      <td>75.6%</td>\n",
       "    </tr>\n",
       "  </tbody>\n",
       "</table>\n",
       "</div>"
      ],
      "text/plain": [
       "                                                        fully_qualified_name  \\\n",
       "0      cernerstandard.adultwellness.org2014.clinical/breast-cancer-screening   \n",
       "1      cernerstandard.adultwellness.org2014.clinical/breast-cancer-screening   \n",
       "2      cernerstandard.adultwellness.org2014.clinical/breast-cancer-screening   \n",
       "3      cernerstandard.adultwellness.org2014.clinical/breast-cancer-screening   \n",
       "4  cernerstandard.adultwellness.org2014.clinical/colorectal-cancer-screening   \n",
       "5  cernerstandard.adultwellness.org2014.clinical/colorectal-cancer-screening   \n",
       "\n",
       "         registry                      measure    tier  prsnl_count values  \n",
       "0  Adult Wellness      Breast Cancer Screening  bottom           35   0.0%  \n",
       "1  Adult Wellness      Breast Cancer Screening   tier1            1  83.2%  \n",
       "2  Adult Wellness      Breast Cancer Screening   tier2           13  74.7%  \n",
       "3  Adult Wellness      Breast Cancer Screening   tier3            8  68.3%  \n",
       "4  Adult Wellness  Colorectal Cancer Screening  bottom           91   0.0%  \n",
       "5  Adult Wellness  Colorectal Cancer Screening   tier1           16  75.6%  "
      ]
     },
     "execution_count": 31,
     "metadata": {},
     "output_type": "execute_result"
    }
   ],
   "source": [
    "f_df.to_csv(f'{client}_Formatted_Benchmarks.csv', index=False)\n",
    "# test format\n",
    "pd.read_csv(f'{client}_Formatted_Benchmarks.csv',encoding = \"ISO-8859-1\").head(6)"
   ]
  },
  {
   "cell_type": "markdown",
   "metadata": {},
   "source": [
    "## 6. Plot Chart"
   ]
  },
  {
   "cell_type": "markdown",
   "metadata": {},
   "source": [
    "### format table"
   ]
  },
  {
   "cell_type": "code",
   "execution_count": 32,
   "metadata": {},
   "outputs": [],
   "source": [
    "# join tiers and prsnl_counts df\n",
    "st = st.join(tiers).unstack().stack(0).sort_index(level = [0,1], ascending = [True, False])\n",
    "# make numeric\n",
    "st = st.apply(pd.to_numeric)\n",
    "# reorder\n",
    "st = st[['bottom', 'tier3', 'tier2', 'tier1']]"
   ]
  },
  {
   "cell_type": "markdown",
   "metadata": {},
   "source": [
    "### format visual styles"
   ]
  },
  {
   "cell_type": "code",
   "execution_count": 33,
   "metadata": {},
   "outputs": [],
   "source": [
    "style.use('fivethirtyeight')\n",
    "\n",
    "cerner_colors = [\n",
    "    '#0d94d2', # Blue\n",
    "    '#7bc143', # Green\n",
    "    '#6a737b', # Grey\n",
    "    '#4bb8ef', # Cyan\n",
    "    '#7c2b83', # Purple\n",
    "    '#f58025', # Orange\n",
    "    '#fdb913'  # Yellow\n",
    "]\n",
    "\n",
    "mpl.rcParams['axes.prop_cycle'] = mpl.cycler(color=cerner_colors)\n",
    "\n",
    "%matplotlib inline"
   ]
  },
  {
   "cell_type": "code",
   "execution_count": 34,
   "metadata": {
    "scrolled": true
   },
   "outputs": [
    {
     "data": {
      "image/png": "[encoded data removed]",
      "text/plain": [
       "<Figure size 432x288 with 1 Axes>"
      ]
     },
     "metadata": {
      "needs_background": "light"
     },
     "output_type": "display_data"
    },
    {
     "data": {
      "image/png": "[encoded data removed]",
      "text/plain": [
       "<Figure size 432x288 with 1 Axes>"
      ]
     },
     "metadata": {
      "needs_background": "light"
     },
     "output_type": "display_data"
    },
    {
     "data": {
      "image/png": "[encoded data removed]",
      "text/plain": [
       "<Figure size 432x288 with 1 Axes>"
      ]
     },
     "metadata": {
      "needs_background": "light"
     },
     "output_type": "display_data"
    },
    {
     "data": {
      "image/png": "[encoded data removed]",
      "text/plain": [
       "<Figure size 432x288 with 1 Axes>"
      ]
     },
     "metadata": {
      "needs_background": "light"
     },
     "output_type": "display_data"
    },
    {
     "data": {
      "image/png": "[encoded data removed]",
      "text/plain": [
       "<Figure size 432x288 with 1 Axes>"
      ]
     },
     "metadata": {
      "needs_background": "light"
     },
     "output_type": "display_data"
    },
    {
     "data": {
      "image/png": "[encoded data removed]",
      "text/plain": [
       "<Figure size 432x288 with 1 Axes>"
      ]
     },
     "metadata": {
      "needs_background": "light"
     },
     "output_type": "display_data"
    },
    {
     "data": {
      "image/png": "[encoded data removed]",
      "text/plain": [
       "<Figure size 432x288 with 1 Axes>"
      ]
     },
     "metadata": {
      "needs_background": "light"
     },
     "output_type": "display_data"
    },
    {
     "data": {
      "image/png": "[encoded data removed]",
      "text/plain": [
       "<Figure size 432x288 with 1 Axes>"
      ]
     },
     "metadata": {
      "needs_background": "light"
     },
     "output_type": "display_data"
    },
    {
     "data": {
      "image/png": "[encoded data removed]",
      "text/plain": [
       "<Figure size 432x288 with 1 Axes>"
      ]
     },
     "metadata": {
      "needs_background": "light"
     },
     "output_type": "display_data"
    },
    {
     "data": {
      "image/png": "[encoded data removed]",
      "text/plain": [
       "<Figure size 432x288 with 1 Axes>"
      ]
     },
     "metadata": {
      "needs_background": "light"
     },
     "output_type": "display_data"
    },
    {
     "data": {
      "image/png": "[encoded data removed]",
      "text/plain": [
       "<Figure size 432x288 with 1 Axes>"
      ]
     },
     "metadata": {
      "needs_background": "light"
     },
     "output_type": "display_data"
    },
    {
     "data": {
      "image/png": "[encoded data removed]",
      "text/plain": [
       "<Figure size 432x288 with 1 Axes>"
      ]
     },
     "metadata": {
      "needs_background": "light"
     },
     "output_type": "display_data"
    },
    {
     "data": {
      "image/png": "[encoded data removed]",
      "text/plain": [
       "<Figure size 432x288 with 1 Axes>"
      ]
     },
     "metadata": {
      "needs_background": "light"
     },
     "output_type": "display_data"
    }
   ],
   "source": [
    "for fqn in s.index.get_level_values('fully_qualified_name').unique():\n",
    "    ax = Benchmarks.tier_plot(s.loc[fqn], \n",
    "                              st.loc[(fqn, 'values'), 'tier1'], \n",
    "                              st.loc[(fqn, 'values'), [\n",
    "        'tier2',\n",
    "        'tier3'\n",
    "    ]], \n",
    "        title=fqn.rsplit('/',1)[-1].replace(\"-\",\" \").title())"
   ]
  },
  {
   "cell_type": "markdown",
   "metadata": {},
   "source": [
    "# B. Powerpoint Automation"
   ]
  },
  {
   "cell_type": "markdown",
   "metadata": {},
   "source": [
    "## 1. Formatting"
   ]
  },
  {
   "cell_type": "code",
   "execution_count": 35,
   "metadata": {},
   "outputs": [],
   "source": [
    "# assign codes for PPT Table Formatting\n",
    "medium_3_accent_5 = \"{74C1A8A3-306A-4EB7-A6B1-4F7E0EB9C5D6}\"\n",
    "no_style_no_grid = \"{2D5ABB26-0587-4C30-8999-92F81FD0307C}\""
   ]
  },
  {
   "cell_type": "markdown",
   "metadata": {},
   "source": [
    "## 2. Make Slide For One Measure (Test Small Changes)"
   ]
  },
  {
   "cell_type": "code",
   "execution_count": 36,
   "metadata": {},
   "outputs": [],
   "source": [
    "# pick the fqn which determines the Registry & Measure\n",
    "fqn = f_df.head(1).fully_qualified_name[0]\n",
    "reg = f_df.loc[f_df.fully_qualified_name==fqn].registry[0]\n",
    "meas = f_df.loc[f_df.fully_qualified_name==fqn].measure[0]"
   ]
  },
  {
   "cell_type": "code",
   "execution_count": 37,
   "metadata": {},
   "outputs": [
    {
     "name": "stdout",
     "output_type": "stream",
     "text": [
      "Finished Adult Wellness,Breast Cancer Screening\n",
      "Done!\n"
     ]
    }
   ],
   "source": [
    "# open pptx from Cerner Standard Template\n",
    "prs = p2p.Presentation(r\"\\\\mustang\\workops_pub\\Pop Health\\DataWorks\\Data Insights\\Personal Working Folders\\Ian\\PowerPoint Templates\\Cerner Standard v3.pptx\".replace('\\\\','/'))\n",
    "\n",
    "######################\n",
    "## CREATE NEW SLIDE ##\n",
    "######################\n",
    "\n",
    "# save slide from layout 9 in Slide Master\n",
    "primary_content = prs.slide_layouts[1]\n",
    "\n",
    "# add slide\n",
    "slide = prs.slides.add_slide(primary_content)\n",
    "\n",
    "# Make table in background\n",
    "f_new = f_df.loc[f_df.fully_qualified_name==fqn]\n",
    "\n",
    "##################\n",
    "## TITLE & TEXT ##\n",
    "##################\n",
    "\n",
    "# select title box\n",
    "title_box = slide.shapes[0]\n",
    "text_frame = title_box.text_frame\n",
    "p = text_frame.paragraphs[0]\n",
    "\n",
    "# add registry, then bold & color\n",
    "run = p.add_run()\n",
    "run.text = reg\n",
    "font = run.font\n",
    "font.bold = True\n",
    "font.color.theme_color = MSO_THEME_COLOR.ACCENT_1\n",
    "\n",
    "# add measure\n",
    "run = p.add_run()\n",
    "run.text = \" \"+f_new.measure.unique()[0]\n",
    "font = run.font\n",
    "\n",
    "####################\n",
    "## PROVIDER TABLE ##\n",
    "####################\n",
    "\n",
    "#### Create Table ####\n",
    "\n",
    "shapes = slide.shapes\n",
    "\n",
    "table_placeholder = slide.shapes[2]\n",
    "shape = table_placeholder.insert_table(rows=11, cols=1)\n",
    "table = shape.table\n",
    "\n",
    "#### Insert dynamic values ####\n",
    "\n",
    "cell = table.cell(1, 0)\n",
    "p = cell.text_frame.paragraphs[0]\n",
    "# add the tier name in bold\n",
    "run = p.add_run()\n",
    "run.text = f_new.loc[f_new.tier=='tier1'][[\"prsnl_count\"]].iloc[0,0].astype(str)+\" Providers\"\n",
    "font = run.font\n",
    "font.size = Pt(28)\n",
    "# center and middle text\n",
    "cell.text_frame.paragraphs[0].alignment = PP_ALIGN.CENTER\n",
    "cell.vertical_anchor = MSO_ANCHOR.MIDDLE\n",
    "\n",
    "## TIER\n",
    "# select cell text\n",
    "cell = table.cell(2, 0)\n",
    "p = cell.text_frame.paragraphs[0]\n",
    "# add the tier name in bold\n",
    "run = p.add_run()\n",
    "run.text = \"Tier 1: \"\n",
    "font = run.font\n",
    "font.size = Pt(24)\n",
    "font.bold = True\n",
    "# add bold & blue percent\n",
    "run = p.add_run()\n",
    "run.text = f_new.loc[f_new.tier=='tier1'][[\"values\"]].iloc[0,0]\n",
    "font = run.font\n",
    "font.bold = True\n",
    "font.size = Pt(24)\n",
    "font.color.theme_color = MSO_THEME_COLOR.ACCENT_1\n",
    "# center and middle text\n",
    "cell.text_frame.paragraphs[0].alignment = PP_ALIGN.CENTER\n",
    "cell.vertical_anchor = MSO_ANCHOR.MIDDLE\n",
    "\n",
    "## PROVIDERS\n",
    "cell = table.cell(4, 0)\n",
    "p = cell.text_frame.paragraphs[0]\n",
    "# add the tier name in bold\n",
    "run = p.add_run()\n",
    "run.text = f_new.loc[f_new.tier=='tier2'][[\"prsnl_count\"]].iloc[0,0].astype(str)+\" Providers\"\n",
    "font = run.font\n",
    "font.size = Pt(28)\n",
    "# center and middle text\n",
    "cell.text_frame.paragraphs[0].alignment = PP_ALIGN.CENTER\n",
    "cell.vertical_anchor = MSO_ANCHOR.MIDDLE\n",
    "\n",
    "## TIER\n",
    "# select cell text\n",
    "cell = table.cell(5, 0)\n",
    "p = cell.text_frame.paragraphs[0]\n",
    "# add the tier name in bold\n",
    "run = p.add_run()\n",
    "run.text = \"Tier 2: \"\n",
    "font = run.font\n",
    "font.size = Pt(24)\n",
    "font.bold = True\n",
    "# add bold & blue percent\n",
    "run = p.add_run()\n",
    "run.text = f_new.loc[f_new.tier=='tier2'][[\"values\"]].iloc[0,0]\n",
    "font = run.font\n",
    "font.bold = True\n",
    "font.size = Pt(24)\n",
    "font.color.theme_color = MSO_THEME_COLOR.ACCENT_1\n",
    "# center and middle text\n",
    "cell.text_frame.paragraphs[0].alignment = PP_ALIGN.CENTER\n",
    "cell.vertical_anchor = MSO_ANCHOR.MIDDLE\n",
    "\n",
    "## PROVIDERS\n",
    "cell = table.cell(7, 0)\n",
    "p = cell.text_frame.paragraphs[0]\n",
    "# add the tier name in bold\n",
    "run = p.add_run()\n",
    "run.text = f_new.loc[f_new.tier=='tier3'][[\"prsnl_count\"]].iloc[0,0].astype(str)+\" Providers\"\n",
    "font = run.font\n",
    "font.size = Pt(28)\n",
    "# center and middle text\n",
    "cell.text_frame.paragraphs[0].alignment = PP_ALIGN.CENTER\n",
    "cell.vertical_anchor = MSO_ANCHOR.MIDDLE\n",
    "\n",
    "## TIER\n",
    "# select cell text\n",
    "cell = table.cell(8, 0)\n",
    "p = cell.text_frame.paragraphs[0]\n",
    "# add the tier name in bold\n",
    "run = p.add_run()\n",
    "run.text = \"Tier 3: \"\n",
    "font = run.font\n",
    "font.size = Pt(24)\n",
    "font.bold = True\n",
    "# add bold & blue percent\n",
    "run = p.add_run()\n",
    "run.text = f_new.loc[f_new.tier=='tier3'][[\"values\"]].iloc[0,0]\n",
    "font = run.font\n",
    "font.bold = True\n",
    "font.size = Pt(24)\n",
    "font.color.theme_color = MSO_THEME_COLOR.ACCENT_1\n",
    "# center and middle text\n",
    "cell.text_frame.paragraphs[0].alignment = PP_ALIGN.CENTER\n",
    "cell.vertical_anchor = MSO_ANCHOR.MIDDLE\n",
    "\n",
    "## PROVIDERS\n",
    "cell = table.cell(10, 0)\n",
    "p = cell.text_frame.paragraphs[0]\n",
    "# add the tier name in bold\n",
    "run = p.add_run()\n",
    "run.text = f_new.loc[f_new.tier=='bottom'][[\"prsnl_count\"]].iloc[0,0].astype(str)+\" Providers\"\n",
    "font = run.font\n",
    "font.size = Pt(28)\n",
    "# center and middle text\n",
    "cell.text_frame.paragraphs[0].alignment = PP_ALIGN.CENTER\n",
    "cell.vertical_anchor = MSO_ANCHOR.MIDDLE\n",
    "\n",
    "# format table style\n",
    "tbl =  shape._element.graphic.graphicData.tbl\n",
    "style_id = no_style_no_grid\n",
    "tbl[0][-1].text = style_id\n",
    "\n",
    "##################\n",
    "## TARGET TABLE ##\n",
    "##################\n",
    "\n",
    "table_placeholder = slide.shapes[3]\n",
    "shape = table_placeholder.insert_table(rows=3, cols=4)\n",
    "table = shape.table\n",
    "cell = table.cell(0, 0)\n",
    "cell.text_frame.paragraphs[0].alignment = PP_ALIGN.CENTER\n",
    "cell.text = 'Method'\n",
    "cell = table.cell(0, 1)\n",
    "cell.text_frame.paragraphs[0].alignment = PP_ALIGN.CENTER\n",
    "cell.text = 'Tier 3'\n",
    "cell = table.cell(0, 2)\n",
    "cell.text_frame.paragraphs[0].alignment = PP_ALIGN.CENTER\n",
    "cell.text = 'Tier 2'\n",
    "cell = table.cell(0, 3)\n",
    "cell.text_frame.paragraphs[0].alignment = PP_ALIGN.CENTER\n",
    "cell.text = 'Tier 1'\n",
    "cell = table.cell(1, 0)\n",
    "cell.text_frame.paragraphs[0].alignment = PP_ALIGN.LEFT\n",
    "cell.text = 'Scorecard Target'\n",
    "cell = table.cell(2, 0)\n",
    "cell.text_frame.paragraphs[0].alignment = PP_ALIGN.LEFT\n",
    "cell.text = 'QualiTiers'\n",
    "cell = table.cell(1, 1)\n",
    "cell.text_frame.paragraphs[0].alignment = PP_ALIGN.CENTER\n",
    "cell.text = '-'\n",
    "cell = table.cell(1, 2)\n",
    "cell.text_frame.paragraphs[0].alignment = PP_ALIGN.CENTER\n",
    "cell.text = '-'\n",
    "cell = table.cell(1, 3)\n",
    "cell.text_frame.paragraphs[0].alignment = PP_ALIGN.CENTER\n",
    "cell.text = '-'\n",
    "\n",
    "# insert dynamic values\n",
    "cell = table.cell(2, 1)\n",
    "cell.text = f_new.loc[f_new.tier=='tier3'][[\"values\"]].iloc[0,0]\n",
    "cell.text_frame.paragraphs[0].alignment = PP_ALIGN.CENTER\n",
    "cell = table.cell(2, 2)\n",
    "cell.text = f_new.loc[f_new.tier=='tier2'][[\"values\"]].iloc[0,0]\n",
    "cell.text_frame.paragraphs[0].alignment = PP_ALIGN.CENTER\n",
    "cell = table.cell(2, 3)\n",
    "cell.text = f_new.loc[f_new.tier=='tier1'][[\"values\"]].iloc[0,0]\n",
    "cell.text_frame.paragraphs[0].alignment = PP_ALIGN.CENTER\n",
    "\n",
    "# format table style\n",
    "tbl =  shape._element.graphic.graphicData.tbl\n",
    "style_id = medium_3_accent_5\n",
    "tbl[0][-1].text = style_id\n",
    "\n",
    "#######################\n",
    "## QualiTiers Visual ##\n",
    "#######################\n",
    "ax = Benchmarks.tier_plot(s.loc[fqn], \n",
    "                          st.loc[(fqn, 'values'), 'tier1'], \n",
    "                          st.loc[(fqn, 'values'), [\n",
    "    'tier2',\n",
    "    'tier3'\n",
    "]], \n",
    "    title=fqn.rsplit('/',1)[-1].replace(\"-\",\" \").title())\n",
    "\n",
    "ax.savefig\n",
    "ax.savefig('test_fig.png', dpi = 500)\n",
    "#             close fig\n",
    "plt.close(ax)\n",
    "# insert picture\n",
    "slide.shapes[1].insert_picture('test_fig.png')\n",
    "\n",
    "##########\n",
    "## SAVE ##\n",
    "##########\n",
    "# save pptx\n",
    "prs.save(f\"{client}_One_Measure_QualiTiers.pptx\")\n",
    "print(f\"Finished {reg},{meas}\")\n",
    "print(\"Done!\")"
   ]
  },
  {
   "cell_type": "markdown",
   "metadata": {},
   "source": [
    "# All Measures Test"
   ]
  },
  {
   "cell_type": "code",
   "execution_count": 38,
   "metadata": {},
   "outputs": [
    {
     "name": "stdout",
     "output_type": "stream",
     "text": [
      "Finished Adult Wellness,Breast Cancer Screening\n",
      "Finished Adult Wellness,Colorectal Cancer Screening\n",
      "Finished Diabetes Mellitus,Annual Eye Exam\n",
      "Finished Diabetes Mellitus,Foot Exam Performed\n",
      "Finished Diabetes Mellitus,Hba1c Less Than 8\n",
      "Finished Diabetes Mellitus,Medical Attention To Nephropathy\n",
      "Finished Hyperlipidemia,Statin Therapy Ascvd Group\n",
      "Finished Hyperlipidemia,Statin Therapy Diabetic Group\n",
      "Finished Hypertension,Bp Less Than 140 90\n",
      "Finished Ivdcad,Antiplatelet Therapy Measure\n",
      "Finished Senior Wellness,Breast Cancer Screening\n",
      "Finished Senior Wellness,Colorectal Cancer Screening\n",
      "Finished Senior Wellness,Pneumonia Vaccination\n",
      "Done!\n"
     ]
    }
   ],
   "source": [
    "# open pptx from Cerner Standard Template\n",
    "prs = p2p.Presentation(r\"\\\\mustang\\workops_pub\\Pop Health\\DataWorks\\Data Insights\\Personal Working Folders\\Ian\\PowerPoint Templates\\Cerner Standard v3.pptx\".replace('\\\\','/'))\n",
    "\n",
    "# Loop through each measure in each registry\n",
    "for fqn in f_df.fully_qualified_name.unique():\n",
    "        if fqn != 'All':\n",
    "            \n",
    "            ######################\n",
    "            ## CREATE NEW SLIDE ##\n",
    "            ######################\n",
    "\n",
    "            # save slide from layout 9 in Slide Master\n",
    "            primary_content = prs.slide_layouts[1]\n",
    "\n",
    "            # add slide\n",
    "            slide = prs.slides.add_slide(primary_content)\n",
    "\n",
    "            # Make table in background\n",
    "            f_new = f_df.loc[f_df.fully_qualified_name==fqn]\n",
    "\n",
    "            ##################\n",
    "            ## TITLE & TEXT ##\n",
    "            ##################\n",
    "    \n",
    "            # select title box\n",
    "            title_box = slide.shapes[0]\n",
    "            text_frame = title_box.text_frame\n",
    "            p = text_frame.paragraphs[0]\n",
    "            \n",
    "            # make dynamic reg & meas\n",
    "            reg = f_new.registry.unique()[0]\n",
    "            meas = f_new.measure.unique()[0]\n",
    "            # add registry, then bold & color\n",
    "            run = p.add_run()\n",
    "            run.text = f_new.registry.unique()[0]\n",
    "            font = run.font\n",
    "            font.bold = True\n",
    "            font.color.theme_color = MSO_THEME_COLOR.ACCENT_1\n",
    "\n",
    "            # add measure\n",
    "            run = p.add_run()\n",
    "            run.text = \" \"+f_new.measure.unique()[0]\n",
    "            font = run.font\n",
    "\n",
    "            ####################\n",
    "            ## PROVIDER TABLE ##\n",
    "            ####################\n",
    "\n",
    "            #### Create Table ####\n",
    "\n",
    "            shapes = slide.shapes\n",
    "\n",
    "            table_placeholder = slide.shapes[2]\n",
    "            shape = table_placeholder.insert_table(rows=11, cols=1)\n",
    "            table = shape.table\n",
    "\n",
    "            #### Insert dynamic values ####\n",
    "\n",
    "            cell = table.cell(1, 0)\n",
    "            p = cell.text_frame.paragraphs[0]\n",
    "            # add the tier name in bold\n",
    "            run = p.add_run()\n",
    "            run.text = f_new.loc[f_new.tier=='tier1'][[\"prsnl_count\"]].iloc[0,0].astype(str)+\" Providers\"\n",
    "            font = run.font\n",
    "            font.size = Pt(28)\n",
    "            # center and middle text\n",
    "            cell.text_frame.paragraphs[0].alignment = PP_ALIGN.CENTER\n",
    "            cell.vertical_anchor = MSO_ANCHOR.MIDDLE\n",
    "\n",
    "            ## TIER\n",
    "            # select cell text\n",
    "            cell = table.cell(2, 0)\n",
    "            p = cell.text_frame.paragraphs[0]\n",
    "            # add the tier name in bold\n",
    "            run = p.add_run()\n",
    "            run.text = \"Tier 1: \"\n",
    "            font = run.font\n",
    "            font.size = Pt(24)\n",
    "            font.bold = True\n",
    "            # add bold & blue percent\n",
    "            run = p.add_run()\n",
    "            run.text = f_new.loc[f_new.tier=='tier1'][[\"values\"]].iloc[0,0]\n",
    "            font = run.font\n",
    "            font.bold = True\n",
    "            font.size = Pt(24)\n",
    "            font.color.theme_color = MSO_THEME_COLOR.ACCENT_1\n",
    "            # center and middle text\n",
    "            cell.text_frame.paragraphs[0].alignment = PP_ALIGN.CENTER\n",
    "            cell.vertical_anchor = MSO_ANCHOR.MIDDLE\n",
    "\n",
    "            ## PROVIDERS\n",
    "            cell = table.cell(4, 0)\n",
    "            p = cell.text_frame.paragraphs[0]\n",
    "            # add the tier name in bold\n",
    "            run = p.add_run()\n",
    "            run.text = f_new.loc[f_new.tier=='tier2'][[\"prsnl_count\"]].iloc[0,0].astype(str)+\" Providers\"\n",
    "            font = run.font\n",
    "            font.size = Pt(28)\n",
    "            # center and middle text\n",
    "            cell.text_frame.paragraphs[0].alignment = PP_ALIGN.CENTER\n",
    "            cell.vertical_anchor = MSO_ANCHOR.MIDDLE\n",
    "\n",
    "            ## TIER\n",
    "            # select cell text\n",
    "            cell = table.cell(5, 0)\n",
    "            p = cell.text_frame.paragraphs[0]\n",
    "            # add the tier name in bold\n",
    "            run = p.add_run()\n",
    "            run.text = \"Tier 2: \"\n",
    "            font = run.font\n",
    "            font.size = Pt(24)\n",
    "            font.bold = True\n",
    "            # add bold & blue percent\n",
    "            run = p.add_run()\n",
    "            run.text = f_new.loc[f_new.tier=='tier2'][[\"values\"]].iloc[0,0]\n",
    "            font = run.font\n",
    "            font.bold = True\n",
    "            font.size = Pt(24)\n",
    "            font.color.theme_color = MSO_THEME_COLOR.ACCENT_1\n",
    "            # center and middle text\n",
    "            cell.text_frame.paragraphs[0].alignment = PP_ALIGN.CENTER\n",
    "            cell.vertical_anchor = MSO_ANCHOR.MIDDLE\n",
    "\n",
    "            ## PROVIDERS\n",
    "            cell = table.cell(7, 0)\n",
    "            p = cell.text_frame.paragraphs[0]\n",
    "            # add the tier name in bold\n",
    "            run = p.add_run()\n",
    "            run.text = f_new.loc[f_new.tier=='tier3'][[\"prsnl_count\"]].iloc[0,0].astype(str)+\" Providers\"\n",
    "            font = run.font\n",
    "            font.size = Pt(28)\n",
    "            # center and middle text\n",
    "            cell.text_frame.paragraphs[0].alignment = PP_ALIGN.CENTER\n",
    "            cell.vertical_anchor = MSO_ANCHOR.MIDDLE\n",
    "\n",
    "            ## TIER\n",
    "            # select cell text\n",
    "            cell = table.cell(8, 0)\n",
    "            p = cell.text_frame.paragraphs[0]\n",
    "            # add the tier name in bold\n",
    "            run = p.add_run()\n",
    "            run.text = \"Tier 3: \"\n",
    "            font = run.font\n",
    "            font.size = Pt(24)\n",
    "            font.bold = True\n",
    "            # add bold & blue percent\n",
    "            run = p.add_run()\n",
    "            run.text = f_new.loc[f_new.tier=='tier3'][[\"values\"]].iloc[0,0]\n",
    "            font = run.font\n",
    "            font.bold = True\n",
    "            font.size = Pt(24)\n",
    "            font.color.theme_color = MSO_THEME_COLOR.ACCENT_1\n",
    "            # center and middle text\n",
    "            cell.text_frame.paragraphs[0].alignment = PP_ALIGN.CENTER\n",
    "            cell.vertical_anchor = MSO_ANCHOR.MIDDLE\n",
    "\n",
    "            ## PROVIDERS\n",
    "            cell = table.cell(10, 0)\n",
    "            p = cell.text_frame.paragraphs[0]\n",
    "            # add the tier name in bold\n",
    "            run = p.add_run()\n",
    "            run.text = f_new.loc[f_new.tier=='bottom'][[\"prsnl_count\"]].iloc[0,0].astype(str)+\" Providers\"\n",
    "            font = run.font\n",
    "            font.size = Pt(28)\n",
    "            # center and middle text\n",
    "            cell.text_frame.paragraphs[0].alignment = PP_ALIGN.CENTER\n",
    "            cell.vertical_anchor = MSO_ANCHOR.MIDDLE\n",
    "\n",
    "            # format table style\n",
    "            tbl =  shape._element.graphic.graphicData.tbl\n",
    "            style_id = no_style_no_grid\n",
    "            tbl[0][-1].text = style_id\n",
    "\n",
    "            ##################\n",
    "            ## TARGET TABLE ##\n",
    "            ##################\n",
    "\n",
    "            table_placeholder = slide.shapes[3]\n",
    "            shape = table_placeholder.insert_table(rows=3, cols=4)\n",
    "            table = shape.table\n",
    "            cell = table.cell(0, 0)\n",
    "            cell.text_frame.paragraphs[0].alignment = PP_ALIGN.CENTER\n",
    "            cell.text = 'Method'\n",
    "            cell = table.cell(0, 1)\n",
    "            cell.text_frame.paragraphs[0].alignment = PP_ALIGN.CENTER\n",
    "            cell.text = 'Tier 3'\n",
    "            cell = table.cell(0, 2)\n",
    "            cell.text_frame.paragraphs[0].alignment = PP_ALIGN.CENTER\n",
    "            cell.text = 'Tier 2'\n",
    "            cell = table.cell(0, 3)\n",
    "            cell.text_frame.paragraphs[0].alignment = PP_ALIGN.CENTER\n",
    "            cell.text = 'Tier 1'\n",
    "            cell = table.cell(1, 0)\n",
    "            cell.text_frame.paragraphs[0].alignment = PP_ALIGN.LEFT\n",
    "            cell.text = 'Scorecard Target'\n",
    "            cell = table.cell(2, 0)\n",
    "            cell.text_frame.paragraphs[0].alignment = PP_ALIGN.LEFT\n",
    "            cell.text = 'QualiTiers'\n",
    "            cell = table.cell(1, 1)\n",
    "            cell.text_frame.paragraphs[0].alignment = PP_ALIGN.CENTER\n",
    "            cell.text = '-'\n",
    "            cell = table.cell(1, 2)\n",
    "            cell.text_frame.paragraphs[0].alignment = PP_ALIGN.CENTER\n",
    "            cell.text = '-'\n",
    "            cell = table.cell(1, 3)\n",
    "            cell.text_frame.paragraphs[0].alignment = PP_ALIGN.CENTER\n",
    "            cell.text = '-'\n",
    "\n",
    "            # insert dynamic values\n",
    "            cell = table.cell(2, 1)\n",
    "            cell.text = f_new.loc[f_new.tier=='tier3'][[\"values\"]].iloc[0,0]\n",
    "            cell.text_frame.paragraphs[0].alignment = PP_ALIGN.CENTER\n",
    "            cell = table.cell(2, 2)\n",
    "            cell.text = f_new.loc[f_new.tier=='tier2'][[\"values\"]].iloc[0,0]\n",
    "            cell.text_frame.paragraphs[0].alignment = PP_ALIGN.CENTER\n",
    "            cell = table.cell(2, 3)\n",
    "            cell.text = f_new.loc[f_new.tier=='tier1'][[\"values\"]].iloc[0,0]\n",
    "            cell.text_frame.paragraphs[0].alignment = PP_ALIGN.CENTER\n",
    "\n",
    "            # format table style\n",
    "            tbl =  shape._element.graphic.graphicData.tbl\n",
    "            style_id = medium_3_accent_5\n",
    "            tbl[0][-1].text = style_id\n",
    "\n",
    "            #######################\n",
    "            ## QualiTiers Visual ##\n",
    "            #######################\n",
    "            ax = Benchmarks.tier_plot(s.loc[fqn], \n",
    "                                      st.loc[(fqn, 'values'), 'tier1'], \n",
    "                                      st.loc[(fqn, 'values'), [\n",
    "                'tier2',\n",
    "                'tier3'\n",
    "            ]], \n",
    "                title=fqn.rsplit('/',1)[-1].replace(\"-\",\" \").title())\n",
    "\n",
    "            ax.savefig\n",
    "            ax.savefig('test_fig.png', dpi = 500)\n",
    "            #             close fig\n",
    "            plt.close(ax)\n",
    "            # insert picture\n",
    "            slide.shapes[1].insert_picture('test_fig.png')\n",
    "\n",
    "            ##########\n",
    "            ## SAVE ##\n",
    "            ##########\n",
    "            # save pptx\n",
    "            prs.save(f\"{client}_QualiTiers.pptx\")\n",
    "            print(f\"Finished {reg},{meas}\")\n",
    "print(\"Done!\")"
   ]
  },
  {
   "cell_type": "code",
   "execution_count": null,
   "metadata": {},
   "outputs": [],
   "source": []
  }
 ],
 "metadata": {
  "kernelspec": {
   "display_name": "Python 3",
   "language": "python",
   "name": "python3"
  },
  "language_info": {
   "codemirror_mode": {
    "name": "ipython",
    "version": 3
   },
   "file_extension": ".py",
   "mimetype": "text/x-python",
   "name": "python",
   "nbconvert_exporter": "python",
   "pygments_lexer": "ipython3",
   "version": "3.7.0"
  }
 },
 "nbformat": 4,
 "nbformat_minor": 2
}
